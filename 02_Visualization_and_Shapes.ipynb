{
  "nbformat": 4,
  "nbformat_minor": 0,
  "metadata": {
    "colab": {
      "name": "02_Visualization_and_Shapes.ipynb",
      "version": "0.3.2",
      "provenance": [],
      "collapsed_sections": [],
      "include_colab_link": true
    },
    "kernelspec": {
      "name": "python3",
      "display_name": "Python 3"
    }
  },
  "cells": [
    {
      "cell_type": "markdown",
      "metadata": {
        "id": "view-in-github",
        "colab_type": "text"
      },
      "source": [
        "<a href=\"https://colab.research.google.com/github/bwsi-hadr/02-visualization-and-shapes-dylan-pham/blob/master/02_Visualization_and_Shapes.ipynb\" target=\"_parent\"><img src=\"https://colab.research.google.com/assets/colab-badge.svg\" alt=\"Open In Colab\"/></a>"
      ]
    },
    {
      "cell_type": "markdown",
      "metadata": {
        "id": "cPoRdj25oN4s",
        "colab_type": "text"
      },
      "source": [
        "# Plotting and GIS in python\n",
        "In this lesson we're going to look at how to present data visually. Visualization is a key part of the analysis workflow. It can reveal insights about data, and its relationships to other variables. It is also an integral tool for communicating data and ideas.\n",
        "\n",
        "We will cover tools for plotting graphs (line, scatter, bar charts, etc), as well as maps (GIS) in this lecture.\n"
      ]
    },
    {
      "cell_type": "markdown",
      "metadata": {
        "id": "R-POaeC7tY8c",
        "colab_type": "text"
      },
      "source": [
        "# Plotting with matplotlib\n",
        "\n",
        "Matplotlib is the most widely used package for scientific visualization in python. It has a lot of features, but the documentation can be confusing, and the default styles aren't particularly attractive. Nevertheless, knowing how to use matplotlib is fundamental for data science with python. "
      ]
    },
    {
      "cell_type": "code",
      "metadata": {
        "id": "W8ATbTRUoH24",
        "colab_type": "code",
        "colab": {}
      },
      "source": [
        "import matplotlib as mpl\n",
        "from matplotlib import pyplot as plt #pyplot is a subpackage of matplotlib, and provides the interface that we'll use to create plots\n",
        "plt.style.use('seaborn-whitegrid') # set default visual appearance\n",
        "import numpy as np"
      ],
      "execution_count": 0,
      "outputs": []
    },
    {
      "cell_type": "markdown",
      "metadata": {
        "id": "jMZ6W_zXFjoD",
        "colab_type": "text"
      },
      "source": [
        "## Matplotlib conventions\n",
        "There are (confusingly) two different ways to do most things in matplotlib. \n",
        "\n",
        "The first is the MATLAB style interface, which functions as a state machine. Commands are run on a global scope and affect the _current_ figure or axis that you're working on. This is convenient for quick plotting without worrying about the fine-grained details of the plot.\n",
        "\n",
        "The second is the object-oriented interface, which is more \"pythonic\". Figures and axes are _objects_ which have methods and attributes associated with them for plotting and adjusting their appearance. This provides finer-grained control over the plots.\n",
        "\n",
        "It's possible to mix and match between the two interfaces, which can cause confusion for new coders trying to learn how matplotlib works. Just remember there are two ways to do most plotting tasks in matplotlib, so if you see things done differently, that's probably the reason."
      ]
    },
    {
      "cell_type": "markdown",
      "metadata": {
        "id": "kj_PoFN0HvHq",
        "colab_type": "text"
      },
      "source": [
        "## Figures and axes\n",
        "A `Figure` object is a canvas that can hold one or more `Axes` objects. `Axes` are objects which hold the actual plots. (Think of the `Figure` as a piece of paper, and the `Axes` as the actual illustration)"
      ]
    },
    {
      "cell_type": "code",
      "metadata": {
        "id": "5blbFZGZoNqc",
        "colab_type": "code",
        "outputId": "81151e18-a04e-43e0-eee6-ca42f30d012e",
        "colab": {
          "base_uri": "https://localhost:8080/",
          "height": 369
        }
      },
      "source": [
        "fig = plt.figure()\n",
        "ax = fig.add_axes([0,0,1,1]) # arguments are location of [left, bottom, width, height], where the units are fraction of the figure\n",
        "# (0,0) is bottom left corner. (1,1) is top right corner\n",
        "x_data = np.arange(0,10,0.5) # points evenly spaced between 0 and 10 with interval of 0.5\n",
        "# (0, 0.5, 1, 1.5 etc.)\n",
        "y_data = 3*x_data + 2 + 0.8*np.random.randn(len(x_data)) # linear + random noise\n",
        "ax.plot(x_data, y_data, marker='o')\n",
        "ax.plot(y_data, x_data, marker='x')\n",
        "ax.legend(['standard', 'transpose'])"
      ],
      "execution_count": 29,
      "outputs": [
        {
          "output_type": "execute_result",
          "data": {
            "text/plain": [
              "<matplotlib.legend.Legend at 0x7f8504db02e8>"
            ]
          },
          "metadata": {
            "tags": []
          },
          "execution_count": 29
        },
        {
          "output_type": "display_data",
          "data": {
            "image/png": "[encoded data removed]",
            "text/plain": [
              "<Figure size 432x288 with 1 Axes>"
            ]
          },
          "metadata": {
            "tags": []
          }
        }
      ]
    },
    {
      "cell_type": "markdown",
      "metadata": {
        "id": "cclx1plhLDAN",
        "colab_type": "text"
      },
      "source": [
        "### Subplots\n",
        "Sometimes you want to add multiple plots on the same figure. You can use the `.add_subplot(nrows, ncols, idx)` function of `Figure` to do so.\n",
        "\n",
        "Subplots are set up in a grid, determined by the arguments `nrows, ncols` of the `.add_subplot` function; the `idx` argument determines the location of the created subplot.\n",
        "\n",
        "For example, `fig.add_subplot(2,2,3)` creates a 2 $\\times$ 2 grid, and the idx value of 3 refers to the bottom left grid element.\n",
        "```\n",
        "1 2\n",
        "3 4\n",
        "```\n",
        "\n",
        "In general the indexing convention is left to right on each line:\n",
        "\n",
        "```\n",
        "1 2 ... ncols\n",
        "ncols+1 ... \n",
        "2*ncols+1 ...\n",
        "...\n",
        "```"
      ]
    },
    {
      "cell_type": "code",
      "metadata": {
        "id": "TdoX3zebJMb3",
        "colab_type": "code",
        "outputId": "6ec68286-011d-4235-b96c-2083d8e538d0",
        "colab": {
          "base_uri": "https://localhost:8080/",
          "height": 369
        }
      },
      "source": [
        "fig = plt.figure(figsize=[10,5]) #figure size, in inches\n",
        "ax1 = fig.add_subplot(2,2,1) # rows, cols, picker\n",
        "# |1|, 2\n",
        "#  3 , 4\n",
        "ax2 = fig.add_subplot(2,2,3)\n",
        "ax3 = fig.add_subplot(1,2,2) # subplots don't all have to be on the same grid\n",
        "\n",
        "x_data = np.linspace(1,10,100)\n",
        "ax1.plot([0,2], [1,5]) # simply plots a line from (0,1) to (2,5)\n",
        "ax2.plot(x_data, np.sin(x_data))\n",
        "ax3.plot(x_data, x_data**2)\n",
        "\n",
        "# label each one\n",
        "ax1.set_title('This is ax1') # sets a title on ax1\n",
        "ax2.set_title('This is ax2')\n",
        "ax2.set_xlabel('x') # set xlabel\n",
        "ax2.set_ylabel('sin(x)') # set ylabel\n",
        "\n",
        "# it can be more convenient to set all of the labels and limits at once\n",
        "ax3.set(xlim=(0, 10), ylim=(0, 100),\n",
        "       xlabel='x', ylabel='$x^2$',\n",
        "       title='This is ax3'); # encase math in $$ to render exponentiation and other math notation\n",
        "\n",
        "fig.tight_layout() # a function to clean up the spacing between subplots"
      ],
      "execution_count": 0,
      "outputs": [
        {
          "output_type": "display_data",
          "data": {
            "image/png": "[encoded data removed]",
            "text/plain": [
              "<Figure size 720x360 with 3 Axes>"
            ]
          },
          "metadata": {
            "tags": []
          }
        }
      ]
    },
    {
      "cell_type": "markdown",
      "metadata": {
        "id": "0HG4jcIcPUry",
        "colab_type": "text"
      },
      "source": [
        "### Appearance\n"
      ]
    },
    {
      "cell_type": "code",
      "metadata": {
        "id": "6AJCKIqzKzdn",
        "colab_type": "code",
        "outputId": "8f68f6fd-966a-4b75-f0d1-cd1f154fa4c5",
        "colab": {
          "base_uri": "https://localhost:8080/",
          "height": 262
        }
      },
      "source": [
        "# Change colors of lines\n",
        "fig = plt.figure(figsize=[8,4])\n",
        "ax = fig.add_subplot(1,1,1) # create an axes that covers the whole figure\n",
        "x = np.linspace(-5,5,100)\n",
        "ax.plot(x, np.sin(x - 0), color='black')       # specify color by name\n",
        "ax.plot(x, np.sin(x - 1), color='g')           # short color code (rgbcmyk)\n",
        "ax.plot(x, np.sin(x - 2), color='0.5')         # Grayscale between 0 and 1\n",
        "ax.plot(x, np.sin(x - 3), color='#00DDFF')     # Hex code (RRGGBB from 00 to FF) with FF being max and 00 being min\n",
        "ax.plot(x, np.sin(x - 4), color=(1.0,0.2,0.3)) # RGB tuple, values 0 to 1\n",
        "ax.plot(x, np.sin(x - 5), color='chartreuse'); # all HTML color names supported"
      ],
      "execution_count": 0,
      "outputs": [
        {
          "output_type": "display_data",
          "data": {
            "image/png": "[encoded data removed]",
            "text/plain": [
              "<Figure size 576x288 with 1 Axes>"
            ]
          },
          "metadata": {
            "tags": []
          }
        }
      ]
    },
    {
      "cell_type": "code",
      "metadata": {
        "id": "x2eVLMdNK-u-",
        "colab_type": "code",
        "outputId": "d3f0a7af-0726-44a8-beab-c018cefd6095",
        "colab": {
          "base_uri": "https://localhost:8080/",
          "height": 371
        }
      },
      "source": [
        "# Change linestyle\n",
        "fig = plt.figure(figsize=[8,6])\n",
        "ax = fig.add_subplot(1,1,1)\n",
        "ax.plot(x, x + 0, linestyle='solid')\n",
        "ax.plot(x, x + 1, linestyle='dashed')\n",
        "ax.plot(x, x + 2, linestyle='dashdot')\n",
        "ax.plot(x, x + 3, linestyle='dotted');\n",
        "\n",
        "# For short, you can use the following codes:\n",
        "ax.plot(x, x + 4, linestyle='-')  # solid\n",
        "ax.plot(x, x + 5, linestyle='--') # dashed\n",
        "ax.plot(x, x + 6, linestyle='-.') # dashdot\n",
        "ax.plot(x, x + 7, linestyle=':'); # dotted"
      ],
      "execution_count": 0,
      "outputs": [
        {
          "output_type": "display_data",
          "data": {
            "image/png": "[encoded data removed]",
            "text/plain": [
              "<Figure size 576x432 with 1 Axes>"
            ]
          },
          "metadata": {
            "tags": []
          }
        }
      ]
    },
    {
      "cell_type": "markdown",
      "metadata": {
        "id": "Ii-BW0S6tpe_",
        "colab_type": "text"
      },
      "source": [
        "There are also [bar charts](https://matplotlib.org/3.1.1/api/_as_gen/matplotlib.pyplot.bar.html#matplotlib.pyplot.bar), [pie charts](https://matplotlib.org/3.1.1/gallery/pie_and_polar_charts/nested_pie.html#sphx-glr-gallery-pie-and-polar-charts-nested-pie-py), among [many others tutorials in the matplotlib documentation](https://matplotlib.org/3.1.1/tutorials/introductory/sample_plots.html#sphx-glr-tutorials-introductory-sample-plots-py). Check them out for inspiration"
      ]
    },
    {
      "cell_type": "markdown",
      "metadata": {
        "id": "ahcW_XmxvA-2",
        "colab_type": "text"
      },
      "source": [
        "## Exercise\n",
        "Using any data that you looked at earlier this week, make a plot that visualizes some element of your analysis. We'll ask a few people to present their results when they're ready.\n",
        "\n",
        "Matplotlib can take numpy arrays or pandas series and dataframes as inputs. In addition, pandas dataframes have [a built-in interface to automatically call matplotlib functions](https://pandas.pydata.org/pandas-docs/stable/user_guide/visualization.html). This can be a convenient way to visualize for exploratory analysis. However, it's less customizable, so it may not be suitable for making presentation-quality graphs."
      ]
    },
    {
      "cell_type": "code",
      "metadata": {
        "id": "LPYOcEpswPhF",
        "colab_type": "code",
        "colab": {}
      },
      "source": [
        ""
      ],
      "execution_count": 0,
      "outputs": []
    },
    {
      "cell_type": "markdown",
      "metadata": {
        "id": "OLu4MBP69q6T",
        "colab_type": "text"
      },
      "source": [
        "# Shapes and Geometry\n",
        "\n",
        "For geospatial data analysis, we will be dealing with a lot of geometry. The library that we will be using for geometry is called Shapely.\n",
        "\n",
        "Shapely is a _planar geometry_ package. Meaning that it is concermed with 2d geometry, making it well suited for representing and analyzing information on maps.\n",
        "\n",
        "This content is based off of the [Automating GIS Processes course](https://automating-gis-processes.github.io/2018/) from the University of Helsinki"
      ]
    },
    {
      "cell_type": "code",
      "metadata": {
        "id": "eGxA0wEJQPEs",
        "colab_type": "code",
        "colab": {}
      },
      "source": [
        "import shapely\n",
        "from matplotlib import pyplot as plt\n",
        "from shapely.geometry import Point, LineString, Polygon\n",
        "from descartes import PolygonPatch # will be used to visualize polygons"
      ],
      "execution_count": 0,
      "outputs": []
    },
    {
      "cell_type": "markdown",
      "metadata": {
        "id": "Z2eO3jRJSf0x",
        "colab_type": "text"
      },
      "source": [
        "## Shapely objects\n",
        "Shapely is a library for representing geometric objects, such as points, lines, and polygons. \n",
        "![Fundamental geometric objects that can be used in Python with Shapely](https://automating-gis-processes.github.io/2018/_images/SpatialDataModel.PNG)\n",
        "\n",
        "The primary classes in Shapely are the `Point`, `LineString`, and `Polygon` classes. Each are represented using 2 or 3-dimensional coordinate tuples (x,y(,z)) \n",
        "\n",
        "- `Point` -object represents a single point in space. Points can be either two-dimensional (x, y) or three dimensional (x, y, z).\n",
        "-  `LineString` -object (i.e. a line) represents a sequence of points joined together to form a line. Hence, a line consist of a list of at least two coordinate tuples\n",
        "- `Polygon` -object represents a filled area that consists of a list of at least three coordinate tuples that forms the outerior ring and a (possible) list of hole polygons.\n",
        "\n",
        "There are also collections of objects, aptly named `MultiPoint`, `MultiLineString`, and `MultiPolygon`. These are, as their names suggest, collections of multiple `Point`, `LineString`, and `Polygon` objects respectively. There also exists a broader class of `GeometryCollection`, which can include objects of any geometry type.\n"
      ]
    },
    {
      "cell_type": "markdown",
      "metadata": {
        "id": "kW6HjI5mVZrt",
        "colab_type": "text"
      },
      "source": [
        "## `Point` objects\n",
        "\n",
        "`points` require a tuple (2 for 2d, 3 for 3d) to specify their location."
      ]
    },
    {
      "cell_type": "code",
      "metadata": {
        "id": "aTfLuqlFVkWF",
        "colab_type": "code",
        "outputId": "248f3fd9-06ce-4e7a-e431-76f4623f24d1",
        "colab": {
          "base_uri": "https://localhost:8080/",
          "height": 69
        }
      },
      "source": [
        "# Create Point geometric object(s) with coordinates\n",
        "point1 = Point(2.2, 4.2)\n",
        "point2 = Point(7.2, -25.1)\n",
        "point3 = Point(9.26, -2.456)\n",
        "point3D = Point(9.26, -2.456, 0.57)\n",
        "point3D2 = Point(9.26, -2.456, 0)\n",
        "\n",
        "# What is the type of the point?\n",
        "point_type = type(point1)\n",
        "\n",
        "# Let's examine the objects\n",
        "print(point1)\n",
        "print(point3D)\n",
        "print(type(point1))"
      ],
      "execution_count": 0,
      "outputs": [
        {
          "output_type": "stream",
          "text": [
            "POINT (2.2 4.2)\n",
            "POINT Z (9.26 -2.456 0.57)\n",
            "<class 'shapely.geometry.point.Point'>\n"
          ],
          "name": "stdout"
        }
      ]
    },
    {
      "cell_type": "markdown",
      "metadata": {
        "id": "WAG3BuauWloM",
        "colab_type": "text"
      },
      "source": [
        "We can see that the type of the point is shapely's `Point` which is represented in a specific format that is based on [GEOS C++ library](https://trac.osgeo.org/geos), which is one of the standard libraries in GIS. 3D-point can be recognized from the capital '`Z`' in front of the coordinates (signifying that there's a 'z' element in the (x,y,z) tuple)\n"
      ]
    },
    {
      "cell_type": "markdown",
      "metadata": {
        "id": "K0Og713eXLuf",
        "colab_type": "text"
      },
      "source": [
        "### `Point` class attributes and functions\n",
        "`Point` objects have some built-in attributes and functions. One of the most useful ones are the ability to extract the coordinates of a Point and calculate the Euclidian distance between points.\n"
      ]
    },
    {
      "cell_type": "code",
      "metadata": {
        "id": "InP-kYL6WZQn",
        "colab_type": "code",
        "outputId": "46b51b3e-b1c0-41e5-ef3c-560c37f79e2d",
        "colab": {
          "base_uri": "https://localhost:8080/",
          "height": 36
        }
      },
      "source": [
        "# Get the coordinates\n",
        "point_coords = point1.coords\n",
        "\n",
        "# What is the type of this?\n",
        "type(point_coords)"
      ],
      "execution_count": 0,
      "outputs": [
        {
          "output_type": "execute_result",
          "data": {
            "text/plain": [
              "shapely.coords.CoordinateSequence"
            ]
          },
          "metadata": {
            "tags": []
          },
          "execution_count": 8
        }
      ]
    },
    {
      "cell_type": "code",
      "metadata": {
        "id": "nmGyLHzfW2MK",
        "colab_type": "code",
        "outputId": "6d760ac0-f224-4224-a8b5-e25ac6b92744",
        "colab": {
          "base_uri": "https://localhost:8080/",
          "height": 167
        }
      },
      "source": [
        "# Get x and y coordinates\n",
        "xy = point_coords.xy\n",
        "\n",
        "# Get only x coordinates of Point1\n",
        "x = point1.x\n",
        "\n",
        "# Whatabout y coordinate?\n",
        "y = point1.y\n",
        "\n",
        "# Print out\n",
        "print(\"xy variable:\\n\", xy, \"\\n\")\n",
        "print(\"x variable:\\n\", x, \"\\n\")\n",
        "print(\"y variable:\\n\", y)"
      ],
      "execution_count": 0,
      "outputs": [
        {
          "output_type": "stream",
          "text": [
            "xy variable:\n",
            " (array('d', [2.2]), array('d', [4.2])) \n",
            "\n",
            "x variable:\n",
            " 2.2 \n",
            "\n",
            "y variable:\n",
            " 4.2\n"
          ],
          "name": "stdout"
        }
      ]
    },
    {
      "cell_type": "code",
      "metadata": {
        "id": "85yXDkIOfw_Z",
        "colab_type": "code",
        "outputId": "3ea941e6-8525-4e74-e7cd-add386c251f9",
        "colab": {
          "base_uri": "https://localhost:8080/",
          "height": 36
        }
      },
      "source": [
        "# Calculate the distance between point1 and point2\n",
        "point_dist = point1.distance(point2)\n",
        "\n",
        "print(\"Distance between the points is {0:.2f} decimal degrees\".format(point_dist))"
      ],
      "execution_count": 0,
      "outputs": [
        {
          "output_type": "stream",
          "text": [
            "Distance between the points is 29.72 decimal degrees\n"
          ],
          "name": "stdout"
        }
      ]
    },
    {
      "cell_type": "code",
      "metadata": {
        "id": "sFCBm41Pf0Rs",
        "colab_type": "code",
        "outputId": "9f999d35-7796-4ee9-8f60-995e8bb69d0f",
        "colab": {
          "base_uri": "https://localhost:8080/",
          "height": 36
        }
      },
      "source": [
        "import numpy as np\n",
        "np.sqrt((2.2-7.2)**2 + (4.2+25.1)**2)"
      ],
      "execution_count": 0,
      "outputs": [
        {
          "output_type": "execute_result",
          "data": {
            "text/plain": [
              "29.723559679150142"
            ]
          },
          "metadata": {
            "tags": []
          },
          "execution_count": 11
        }
      ]
    },
    {
      "cell_type": "markdown",
      "metadata": {
        "id": "KKyze6mDgSv-",
        "colab_type": "text"
      },
      "source": [
        "Note that shapely is planar geometry library, and thus only considers the planar (x,y) coordinates when computing distance. \n",
        "Even though `point3D` and `point3D2` have differing `Z` coordinates, they return a planar distance of zero. "
      ]
    },
    {
      "cell_type": "code",
      "metadata": {
        "id": "6mblpggBgK44",
        "colab_type": "code",
        "outputId": "d4ef4e0d-5964-4ffb-ee4a-580c5fe665d7",
        "colab": {
          "base_uri": "https://localhost:8080/",
          "height": 73
        }
      },
      "source": [
        "print(point3D)\n",
        "print(point3D2)\n",
        "point3D.distance(point3D2)"
      ],
      "execution_count": 0,
      "outputs": [
        {
          "output_type": "stream",
          "text": [
            "POINT Z (9.26 -2.456 0.57)\n",
            "POINT Z (9.26 -2.456 0)\n"
          ],
          "name": "stdout"
        },
        {
          "output_type": "execute_result",
          "data": {
            "text/plain": [
              "0.0"
            ]
          },
          "metadata": {
            "tags": []
          },
          "execution_count": 18
        }
      ]
    },
    {
      "cell_type": "markdown",
      "metadata": {
        "id": "DVtosdJKmaeS",
        "colab_type": "text"
      },
      "source": [
        "## LineString Objects\n",
        "A `LineString` is a sequence of connected line segments. One can be constructed from a list of shapely `Point` objects, or from a list of tuples"
      ]
    },
    {
      "cell_type": "code",
      "metadata": {
        "id": "HGsQDXWpmy51",
        "colab_type": "code",
        "outputId": "4bdfac59-9d27-4326-bfa0-7cba68003e00",
        "colab": {
          "base_uri": "https://localhost:8080/",
          "height": 204
        }
      },
      "source": [
        "# Create a LineString from our Point objects\n",
        "line = LineString([point1, point2, point3])\n",
        "\n",
        "# It is also possible to use coordinate tuples having the same outcome\n",
        "line2 = LineString([(2.2, 4.2), (7.2, -25.1), (9.26, -2.456)])\n",
        "\n",
        "# Print the results\n",
        "print(\"line variable: \\n\", line, \"\\n\")\n",
        "print(\"line2 variable: \\n\", line2, \"\\n\")\n",
        "print(\"is line equal to line2: \", line==line2, \"\\n\")\n",
        "print(\"type of the line: \\n\", type(line))"
      ],
      "execution_count": 0,
      "outputs": [
        {
          "output_type": "stream",
          "text": [
            "line variable: \n",
            " LINESTRING (2.2 4.2, 7.2 -25.1, 9.26 -2.456) \n",
            "\n",
            "line2 variable: \n",
            " LINESTRING (2.2 4.2, 7.2 -25.1, 9.26 -2.456) \n",
            "\n",
            "is line equal to line2:  True \n",
            "\n",
            "type of the line: \n",
            " <class 'shapely.geometry.linestring.LineString'>\n"
          ],
          "name": "stdout"
        }
      ]
    },
    {
      "cell_type": "markdown",
      "metadata": {
        "id": "YHC2sjAunZxG",
        "colab_type": "text"
      },
      "source": [
        "### `LineString` class attributes and functions\n",
        "`LineString` -objects have many useful built-in attributes and functionalities. \n",
        "\n",
        "It is, for instance, possible to extract the coordinates or the length of a LineString (line), calculate the centroid of the line, create points along the line at specific distance, calculate the closest distance from a line to specified `Point` and simplify the geometry. See full list of functionalities from [Shapely documentation](https://shapely.readthedocs.io/en/latest/manual.html#geometric-objects). \n",
        "\n"
      ]
    },
    {
      "cell_type": "code",
      "metadata": {
        "id": "-taIq5GEnIPL",
        "colab_type": "code",
        "outputId": "f6bab6e6-0644-4360-cfad-3e349729b511",
        "colab": {
          "base_uri": "https://localhost:8080/",
          "height": 92
        }
      },
      "source": [
        "# Get list of coordinates\n",
        "print(list(line.coords))\n",
        "\n",
        "# Get x and y elements of the line separately (useful for plotting)\n",
        "lxy = line.xy\n",
        "print('lxy=',lxy)\n",
        "\n",
        "# we can separate the outputs into the x and y variables respectively\n",
        "line_x, line_y = lxy\n",
        "print('x coordinates: ', line_x)\n",
        "print('y coordinates: ', line_y)"
      ],
      "execution_count": 0,
      "outputs": [
        {
          "output_type": "stream",
          "text": [
            "[(2.2, 4.2), (7.2, -25.1), (9.26, -2.456)]\n",
            "lxy= (array('d', [2.2, 7.2, 9.26]), array('d', [4.2, -25.1, -2.456]))\n",
            "x coordinates:  array('d', [2.2, 7.2, 9.26])\n",
            "y coordinates:  array('d', [4.2, -25.1, -2.456])\n"
          ],
          "name": "stdout"
        }
      ]
    },
    {
      "cell_type": "markdown",
      "metadata": {
        "id": "AZhrAcKzrJD8",
        "colab_type": "text"
      },
      "source": [
        "We can use matplotlib to plot this `LineString`\n",
        "\n"
      ]
    },
    {
      "cell_type": "code",
      "metadata": {
        "id": "m0V5wtSgpZeE",
        "colab_type": "code",
        "outputId": "8cfa8e16-7d16-4a2a-9161-bb77aa1768f1",
        "colab": {
          "base_uri": "https://localhost:8080/",
          "height": 288
        }
      },
      "source": [
        "fig = plt.figure()\n",
        "ax = fig.add_subplot(1,1,1)\n",
        "ax.plot(line_x, line_y, 'b-') # draw as blue line"
      ],
      "execution_count": 0,
      "outputs": [
        {
          "output_type": "execute_result",
          "data": {
            "text/plain": [
              "[<matplotlib.lines.Line2D at 0x7ffabb33beb8>]"
            ]
          },
          "metadata": {
            "tags": []
          },
          "execution_count": 26
        },
        {
          "output_type": "display_data",
          "data": {
            "image/png": "[encoded data removed]",
            "text/plain": [
              "<Figure size 432x288 with 1 Axes>"
            ]
          },
          "metadata": {
            "tags": []
          }
        }
      ]
    },
    {
      "cell_type": "markdown",
      "metadata": {
        "id": "y3A7ebQAr-Jh",
        "colab_type": "text"
      },
      "source": [
        "There are also many useful attributes of the linestring that we can get automatically:"
      ]
    },
    {
      "cell_type": "code",
      "metadata": {
        "id": "sq2L37kMrgQE",
        "colab_type": "code",
        "outputId": "0e9cf2bd-3edb-4609-c2e4-d40159b4085b",
        "colab": {
          "base_uri": "https://localhost:8080/",
          "height": 73
        }
      },
      "source": [
        "# Get the length of the line\n",
        "l_length = line.length\n",
        "print(\"Length of our line: {0:.2f}\".format(l_length)) # the {0:.2f} notation is a special placeholder for the .format() string function. \n",
        "# the curly brackets {} indicate that this should be filled with a variable value. The initial {0} indicates that it should be filled with the first argument of .format()\n",
        "# the {:.2f} part of the placeholder indicates the formatting. The colon specifies that it is a formatting string, and .2f indicates that it should have 2 digits after the decimal point\n",
        "# f indicates that it should be numeric (float)\n",
        "\n",
        "# Get the centroid of all the points in the linestring\n",
        "l_centroid = line.centroid\n",
        "print(\"Centroid of our line: \", l_centroid)\n",
        "\n",
        "# the centroid is a Point type object\n",
        "centroid_type = type(l_centroid)\n",
        "print(\"Type of the centroid:\", centroid_type)"
      ],
      "execution_count": 0,
      "outputs": [
        {
          "output_type": "stream",
          "text": [
            "Length of our line: 52.46\n",
            "Centroid of our line:  POINT (6.229961354035622 -11.89241115757239)\n",
            "Type of the centroid: <class 'shapely.geometry.point.Point'>\n"
          ],
          "name": "stdout"
        }
      ]
    },
    {
      "cell_type": "markdown",
      "metadata": {
        "id": "1a2MaC_Vv5lq",
        "colab_type": "text"
      },
      "source": [
        "We can plot the location of the centroid (average location of all points, equally weighted)"
      ]
    },
    {
      "cell_type": "code",
      "metadata": {
        "id": "ld7FJUcAsIv-",
        "colab_type": "code",
        "outputId": "36873ac1-23ae-419d-ed52-e3195e34aca9",
        "colab": {
          "base_uri": "https://localhost:8080/",
          "height": 288
        }
      },
      "source": [
        "l_centroid_x, l_centroid_y = l_centroid.xy\n",
        "fig = plt.figure()\n",
        "ax = fig.add_subplot(1,1,1)\n",
        "ax.plot(line_x, line_y, 'b-') # draw as blue line\n",
        "ax.plot(l_centroid_x, l_centroid_y, 'ro', markersize=10)"
      ],
      "execution_count": 0,
      "outputs": [
        {
          "output_type": "execute_result",
          "data": {
            "text/plain": [
              "[<matplotlib.lines.Line2D at 0x7ffabb326400>]"
            ]
          },
          "metadata": {
            "tags": []
          },
          "execution_count": 40
        },
        {
          "output_type": "display_data",
          "data": {
            "image/png": "[encoded data removed]",
            "text/plain": [
              "<Figure size 432x288 with 1 Axes>"
            ]
          },
          "metadata": {
            "tags": []
          }
        }
      ]
    },
    {
      "cell_type": "markdown",
      "metadata": {
        "id": "AGKuTQ9zwGeK",
        "colab_type": "text"
      },
      "source": [
        "### Exercise: Compute and plot midpoint of a LineString\n",
        "The centroid gives the arithmetic average of all of the points in the LineString. However, it is also useful to know where the midpoint of a LineString is. That is, if you were traveling along the LineString from one end to the other, at which point would the distance you've traveled be equal to the distance you have yet to travel.\n",
        "\n",
        "For this exercise, write a function which takes any valid `LineString` object as an input, outputs the coordinates of the midpoint, and draws a plot of both the LineString and midpoint."
      ]
    },
    {
      "cell_type": "code",
      "metadata": {
        "id": "OUSl-3wEtPKp",
        "colab_type": "code",
        "colab": {}
      },
      "source": [
        "def getMidpoint(line):\n",
        "  \"\"\"\n",
        "  input: line, LineString - any valid shapely LineString object\n",
        "  output: midpoint, Point - a shapely Point object corresponding to the midpoint of the input LineString\n",
        "  Also plot the input LineString as well as the midpoint\n",
        "  \"\"\"\n",
        "  # fill this in with your code\n",
        "  return midpoint"
      ],
      "execution_count": 0,
      "outputs": []
    },
    {
      "cell_type": "markdown",
      "metadata": {
        "id": "IvjUoAh0hZQL",
        "colab_type": "text"
      },
      "source": [
        "_Note there is an `interpolate` method in shapely that makes this trivial. Try to do it without using it. You can use `interpolate` to check your work._ "
      ]
    },
    {
      "cell_type": "markdown",
      "metadata": {
        "id": "IX6aH-y0xfMC",
        "colab_type": "text"
      },
      "source": [
        "## Polygon object\n",
        "\n",
        "Creating a `Polygon` -object continues the same logic of how `Point` and `LineString` were created but `Polygon` object only accepts coordinate-tuples as input."
      ]
    },
    {
      "cell_type": "code",
      "metadata": {
        "id": "Niv6azGoSR39",
        "colab_type": "code",
        "outputId": "37175bd2-9c10-4563-bae4-d1cccedf859b",
        "colab": {
          "base_uri": "https://localhost:8080/",
          "height": 54
        }
      },
      "source": [
        "# Create a Polygon from coordinates\n",
        "poly = Polygon([(2.2, 4.2), (7.2, -25.1), (9.26, -2.456)])\n",
        "\n",
        "# We can also use our previously created Point objects (same outcome)\n",
        "# --> notice that Polygon object requires x,y coordinates as input\n",
        "poly2_coords = [(p.x, p.y) for p in [point1, point2, point3]]# using list comprehension to generate a list of coordinates\n",
        "print('coords from point objects are:', poly2_coords)\n",
        "poly2 = Polygon(poly2_coords) \n",
        "print('poly and poly2 are equal: ', poly == poly2)"
      ],
      "execution_count": 0,
      "outputs": [
        {
          "output_type": "stream",
          "text": [
            "coords from point objects are: [(2.2, 4.2), (7.2, -25.1), (9.26, -2.456)]\n",
            "poly and poly2 are equal:  True\n"
          ],
          "name": "stdout"
        }
      ]
    },
    {
      "cell_type": "code",
      "metadata": {
        "id": "HLs1PwlAZDe7",
        "colab_type": "code",
        "colab": {}
      },
      "source": [
        "# there are some useful attributes and functions:\n",
        "x_min, y_min, x_max, y_max = poly.bounds # gives a tuple with the coordinates of a bounding rectangle: (x_min, y_min, x_max, y_max)"
      ],
      "execution_count": 0,
      "outputs": []
    },
    {
      "cell_type": "code",
      "metadata": {
        "id": "GOnrnxMYSaUD",
        "colab_type": "code",
        "outputId": "8e1cfccf-93f8-43b7-9cd4-cc11f9943769",
        "colab": {
          "base_uri": "https://localhost:8080/",
          "height": 288
        }
      },
      "source": [
        "# Plot a polygon\n",
        "fig = plt.figure()\n",
        "ax = fig.add_subplot(111)\n",
        "patch = PolygonPatch(poly2, fc='#FF6600', ec='black', alpha=0.8, linewidth=2) # arguments are PolygonPatch(shapely_polygon, fc=face_color, ec=edge_color, alpha=transparency, **kwargs)\n",
        "# PolygonPatch creates a matplotlib object, so the matplotlib kwargs will work in general to modify it\n",
        "ax.add_patch(patch) # puts the patch object on the axes\n",
        "ax.set(xlim=[x_min, x_max],ylim=[y_min,y_max]) # set limits at bounding polygon coordinates\n",
        "plt.show()"
      ],
      "execution_count": 0,
      "outputs": [
        {
          "output_type": "stream",
          "text": [
            "PathPatch4((2.2, 4.2) ...)\n"
          ],
          "name": "stdout"
        },
        {
          "output_type": "display_data",
          "data": {
            "image/png": "[encoded data removed]",
            "text/plain": [
              "<Figure size 432x288 with 1 Axes>"
            ]
          },
          "metadata": {
            "tags": []
          }
        }
      ]
    },
    {
      "cell_type": "markdown",
      "metadata": {
        "id": "ixMmftPZV4rT",
        "colab_type": "text"
      },
      "source": [
        "Polygon objects can have holes in them"
      ]
    },
    {
      "cell_type": "code",
      "metadata": {
        "id": "ilw7HJgcV3sX",
        "colab_type": "code",
        "colab": {}
      },
      "source": [
        "\n",
        "# Let's create a big rectangle and put some holes in it\n",
        "\n",
        "# First we define our exterior\n",
        "poly_exterior = [(-180, 90), (-180, -90), (180, -90), (180, 90)]\n",
        "\n",
        "# Let's first create a single big hole \n",
        "# each hole is a list of coordinates.\n",
        "single_hole = [[(170, 80), (170, -80), (-170, -80), (-170, 80)]]\n",
        "# There can actually be multiple holes, so the holes should be lists of lists\n",
        "# hence the double square brackets [[]] for single_hole and double_hole\n",
        "double_hole = [[(100, 80), (100, -80), (-10, -20), (-10, 20)],[(-20, 30),(-125, -45),(-120, 40)]]\n",
        "\n",
        "# polygon without a hole\n",
        "poly_no_holes = Polygon(shell=poly_exterior)\n",
        "\n",
        "# polygons with holes\n",
        "poly_with_a_hole = Polygon(shell=poly_exterior, holes=single_hole)\n",
        "poly_with_holes = Polygon(shell=poly_exterior, holes=double_hole)\n",
        "\n"
      ],
      "execution_count": 0,
      "outputs": []
    },
    {
      "cell_type": "code",
      "metadata": {
        "id": "mU044pp6n0qJ",
        "colab_type": "code",
        "outputId": "20a06ad3-301b-4027-84d4-4230195edc89",
        "colab": {
          "base_uri": "https://localhost:8080/",
          "height": 288
        }
      },
      "source": [
        "fig = plt.figure()\n",
        "ax1 = fig.add_subplot(311)\n",
        "patch1 = PolygonPatch(poly_no_holes,fc='#1155FF',alpha=0.5)\n",
        "ax1.add_patch(patch1)\n",
        "ax1.set(xlim=[-185,185], ylim=[-95,95])\n",
        "\n",
        "ax2 = fig.add_subplot(312)\n",
        "patch2 = PolygonPatch(poly_with_a_hole,fc='#1155FF', ec='#FFFFFF',alpha=0.5)\n",
        "ax2.add_patch(patch2)\n",
        "ax2.set(xlim=[-185,185], ylim=[-95,95])\n",
        "\n",
        "ax3 = fig.add_subplot(313)\n",
        "patch3 = PolygonPatch(poly_with_holes,fc='#1155FF', ec='#FFFFFF',alpha=0.5)\n",
        "ax3.add_patch(patch3)\n",
        "ax3.set(xlim=[-185,185], ylim=[-95,95])"
      ],
      "execution_count": 0,
      "outputs": [
        {
          "output_type": "execute_result",
          "data": {
            "text/plain": [
              "[(-95, 95), (-185, 185)]"
            ]
          },
          "metadata": {
            "tags": []
          },
          "execution_count": 85
        },
        {
          "output_type": "display_data",
          "data": {
            "image/png": "[encoded data removed]",
            "text/plain": [
              "<Figure size 432x288 with 3 Axes>"
            ]
          },
          "metadata": {
            "tags": []
          }
        }
      ]
    },
    {
      "cell_type": "markdown",
      "metadata": {
        "id": "gDR2tiINsC3e",
        "colab_type": "text"
      },
      "source": [
        "Note there are some constraints about the location of holes within polygons (what's allowed and not allowed). See [the shapely manual](https://shapely.readthedocs.io/en/latest/manual.html#polygons) for details.\n",
        "\n",
        "Also note that the order of the points which define a hole/polygon matter: If the polygon exterior points are listed counter-clockwise, then the hole should be clockwise (and vice versa). If you don't want to bother dealing with this, you can call\n",
        "```\n",
        "polygon_with_holes = shapely.geometry.polygon.orient(polygon_with_holes)\n",
        "```\n",
        "to orient it automatically"
      ]
    },
    {
      "cell_type": "code",
      "metadata": {
        "id": "tio0HuRGsBlg",
        "colab_type": "code",
        "outputId": "48f48a83-d076-46b8-f841-a2a51a54c4d4",
        "colab": {
          "base_uri": "https://localhost:8080/",
          "height": 288
        }
      },
      "source": [
        "# let's try with the hole oriented incorrectly\n",
        "single_hole_backwards = [single_hole[0][::-1]] # [::-1] reverses the order of single_hole[0] (we have to use [0] because single_hole is a list of lists)\n",
        "# recall that the indexing notation `listname[idx_a:idx_b]` is shorthand for \"get elements of listname starting at idx_a, going up to (but not including) idx_b\"\n",
        "# Omitting `idx_a` means \"start at beginning\"; omitting `idx_b` means \"go until the end\"\n",
        "# furthermore, you can use `listname[idx_a:idx_b:step_size]` to get every \"step_size\"-th element\n",
        "# thus, the index [::-1] means \"all elements, but counting backwards by 1\"\n",
        "poly_with_bkw_hole = Polygon(shell=poly_exterior, holes=single_hole_backwards)\n",
        "fig = plt.figure()\n",
        "ax1 = fig.add_subplot(111)\n",
        "patch1 = PolygonPatch(poly_with_bkw_hole,fc='#1155FF',alpha=0.5)\n",
        "ax1.add_patch(patch1)\n",
        "ax1.set(xlim=[-185,185], ylim=[-95,95])\n",
        "# note that the hole is filled incorrectly (not actually a hole!)"
      ],
      "execution_count": 0,
      "outputs": [
        {
          "output_type": "execute_result",
          "data": {
            "text/plain": [
              "[(-95, 95), (-185, 185)]"
            ]
          },
          "metadata": {
            "tags": []
          },
          "execution_count": 89
        },
        {
          "output_type": "display_data",
          "data": {
            "image/png": "[encoded data removed]",
            "text/plain": [
              "<Figure size 432x288 with 1 Axes>"
            ]
          },
          "metadata": {
            "tags": []
          }
        }
      ]
    },
    {
      "cell_type": "code",
      "metadata": {
        "id": "Npd2eSvUuzdS",
        "colab_type": "code",
        "outputId": "ac7a4e2c-2895-4bf0-ef81-80b9ac4aebff",
        "colab": {
          "base_uri": "https://localhost:8080/",
          "height": 288
        }
      },
      "source": [
        "# fix it\n",
        "poly_with_bkw_hole = shapely.geometry.polygon.orient(poly_with_bkw_hole) # fix the orientation\n",
        "fig = plt.figure()\n",
        "ax1 = fig.add_subplot(111)\n",
        "patch1 = PolygonPatch(poly_with_bkw_hole,fc='#1155FF',alpha=0.5)\n",
        "ax1.add_patch(patch1)\n",
        "ax1.set(xlim=[-185,185], ylim=[-95,95])\n",
        "# all better!"
      ],
      "execution_count": 0,
      "outputs": [
        {
          "output_type": "execute_result",
          "data": {
            "text/plain": [
              "[(-95, 95), (-185, 185)]"
            ]
          },
          "metadata": {
            "tags": []
          },
          "execution_count": 91
        },
        {
          "output_type": "display_data",
          "data": {
            "image/png": "[encoded data removed]",
            "text/plain": [
              "<Figure size 432x288 with 1 Axes>"
            ]
          },
          "metadata": {
            "tags": []
          }
        }
      ]
    },
    {
      "cell_type": "markdown",
      "metadata": {
        "id": "EvTOT7RfuyAG",
        "colab_type": "text"
      },
      "source": [
        "There are many functions associated with shapely objects which can help you create new shapes and do spatial analyses. We will go over a few of them, but you can check them all out in the [shapely manual](https://shapely.readthedocs.io/en/latest/manual.html#spatial-analysis-methods).\n",
        "\n",
        "`object.buffer(distance)` creates an object that encompasses all of the space `distance` beyond the current boundaries of `object`"
      ]
    },
    {
      "cell_type": "code",
      "metadata": {
        "id": "KeCOsm0toMDK",
        "colab_type": "code",
        "outputId": "4dbe2577-e0f7-462e-db5f-ce69655fc24a",
        "colab": {
          "base_uri": "https://localhost:8080/",
          "height": 286
        }
      },
      "source": [
        "fig = plt.figure()\n",
        "ax1 = fig.add_subplot(111)\n",
        "patch1 = PolygonPatch(poly_with_holes,fc='#0000FF',alpha=1)\n",
        "poly_with_buffer = poly_with_holes.buffer(10)\n",
        "patch2 = PolygonPatch(poly_with_buffer,fc='#0055FF',alpha=0.5)\n",
        "p1 = ax1.add_patch(patch1)\n",
        "p2 = ax1.add_patch(patch2)\n",
        "ax1.set(xlim=[-200,200], ylim=[-110,110])\n",
        "ax1.legend({'original polygon':p1, 'buffered':p2},loc='best')\n"
      ],
      "execution_count": 0,
      "outputs": [
        {
          "output_type": "execute_result",
          "data": {
            "text/plain": [
              "<matplotlib.legend.Legend at 0x7f933fbe5940>"
            ]
          },
          "metadata": {
            "tags": []
          },
          "execution_count": 3
        },
        {
          "output_type": "display_data",
          "data": {
            "image/png": "[encoded data removed]",
            "text/plain": [
              "<Figure size 432x288 with 1 Axes>"
            ]
          },
          "metadata": {
            "tags": []
          }
        }
      ]
    },
    {
      "cell_type": "code",
      "metadata": {
        "id": "oCbxEaOTe5Kv",
        "colab_type": "code",
        "outputId": "afe9c934-a726-4bf0-d707-5d64bbf4cbb3",
        "colab": {
          "base_uri": "https://localhost:8080/",
          "height": 121
        }
      },
      "source": [
        "# you can create a circle using a point and buffer\n",
        "Point(1,1).buffer(10) # creates a point centered at 1,1 with radius 10"
      ],
      "execution_count": 0,
      "outputs": [
        {
          "output_type": "execute_result",
          "data": {
            "text/plain": [
              "<shapely.geometry.polygon.Polygon at 0x7f8e57352080>"
            ],
            "image/svg+xml": "<svg xmlns=\"http://www.w3.org/2000/svg\" xmlns:xlink=\"http://www.w3.org/1999/xlink\" width=\"100.0\" height=\"100.0\" viewBox=\"-9.8 -9.8 21.6 21.6\" preserveAspectRatio=\"xMinYMin meet\"><g transform=\"matrix(1,0,0,-1,0,2.0)\"><path fill-rule=\"evenodd\" fill=\"#66cc99\" stroke=\"#555555\" stroke-width=\"0.43200000000000005\" opacity=\"0.6\" d=\"M 11.0,1.0 L 10.95184726672197,0.019828596704394963 L 10.807852804032306,-0.9509032201612808 L 10.56940335732209,-1.902846772544621 L 10.23879532511287,-2.826834323650894 L 9.819212643483553,-3.713967368259972 L 9.314696123025456,-4.555702330196017 L 8.730104533627374,-5.343932841636449 L 8.07106781186548,-6.071067811865469 L 7.343932841636462,-6.7301045336273635 L 6.555702330196031,-7.314696123025447 L 5.713967368259986,-7.819212643483546 L 4.826834323650909,-8.238795325112862 L 3.902846772544636,-8.569403357322084 L 2.9509032201612966,-8.807852804032303 L 1.9801714032956208,-8.951847266721966 L 1.0000000000000162,-9.0 L 0.019828596704411172,-8.95184726672197 L -0.9509032201612646,-8.807852804032308 L -1.902846772544605,-8.569403357322093 L -2.8268343236508784,-8.238795325112875 L -3.713967368259957,-7.81921264348356 L -4.555702330196005,-7.314696123025463 L -5.343932841636439,-6.730104533627382 L -6.071067811865462,-6.071067811865488 L -6.730104533627359,-5.343932841636468 L -7.314696123025444,-4.555702330196036 L -7.819212643483542,-3.71396736825999 L -8.238795325112862,-2.8268343236509113 L -8.569403357322084,-1.9028467725446365 L -8.807852804032303,-0.9509032201612948 L -8.951847266721968,0.01982859670438286 L -9.0,0.9999999999999899 L -8.95184726672197,1.980171403295597 L -8.807852804032306,2.9509032201612753 L -8.569403357322091,3.902846772544617 L -8.23879532511287,4.826834323650893 L -7.819212643483553,5.713967368259972 L -7.314696123025454,6.55570233019602 L -6.730104533627371,7.343932841636453 L -6.071067811865477,8.071067811865476 L -5.343932841636459,8.730104533627367 L -4.55570233019603,9.314696123025447 L -3.713967368259987,9.819212643483546 L -2.8268343236509117,10.238795325112862 L -1.902846772544641,10.569403357322084 L -0.9509032201613041,10.8078528040323 L 0.019828596704368984,10.951847266721966 L 0.9999999999999715,11.0 L 1.9801714032955742,10.951847266721972 L 2.950903220161248,10.807852804032311 L 3.902846772544587,10.569403357322098 L 4.826834323650859,10.238795325112884 L 5.713967368259937,9.81921264348357 L 6.555702330195982,9.31469612302548 L 7.3439328416364145,8.730104533627403 L 8.071067811865436,8.071067811865515 L 8.730104533627333,7.343932841636501 L 9.314696123025417,6.555702330196074 L 9.81921264348352,5.713967368260034 L 10.238795325112841,4.826834323650962 L 10.569403357322066,3.9028467725446925 L 10.80785280403229,2.950903220161357 L 10.95184726672196,1.9801714032956848 L 11.0,1.0000000000000824 L 11.0,1.0 z\" /></g></svg>"
          },
          "metadata": {
            "tags": []
          },
          "execution_count": 43
        }
      ]
    },
    {
      "cell_type": "code",
      "metadata": {
        "id": "QTVO1v50d49y",
        "colab_type": "code",
        "outputId": "6b281e9d-09ea-4c2a-e568-1028b365f322",
        "colab": {
          "base_uri": "https://localhost:8080/",
          "height": 286
        }
      },
      "source": [
        "# a negative distance on a buffer can be used to erode a polygon\n",
        "fig = plt.figure()\n",
        "ax1 = fig.add_subplot(111)\n",
        "patch1 = PolygonPatch(poly_with_holes,fc='#0000FF',alpha=1)\n",
        "poly_eroded = poly_with_holes.buffer(-10)\n",
        "patch2 = PolygonPatch(poly_eroded,fc='#FF55AA',alpha=1)\n",
        "p1 = ax1.add_patch(patch1)\n",
        "p2 = ax1.add_patch(patch2)\n",
        "ax1.set(xlim=[-200,200], ylim=[-110,110])\n",
        "ax1.legend({'original polygon':p1, 'eroded':p2},loc='best')"
      ],
      "execution_count": 0,
      "outputs": [
        {
          "output_type": "execute_result",
          "data": {
            "text/plain": [
              "<matplotlib.legend.Legend at 0x7f933db27358>"
            ]
          },
          "metadata": {
            "tags": []
          },
          "execution_count": 4
        },
        {
          "output_type": "display_data",
          "data": {
            "image/png": "[encoded data removed]",
            "text/plain": [
              "<Figure size 432x288 with 1 Axes>"
            ]
          },
          "metadata": {
            "tags": []
          }
        }
      ]
    },
    {
      "cell_type": "code",
      "metadata": {
        "id": "EhRdZKYEqF35",
        "colab_type": "code",
        "outputId": "c09c76ac-95a3-40cc-fcd1-15e4e986dbf9",
        "colab": {
          "base_uri": "https://localhost:8080/",
          "height": 208
        }
      },
      "source": [
        "# get the outline of an object with .boundary\n",
        "poly_eroded.boundary"
      ],
      "execution_count": 0,
      "outputs": [
        {
          "output_type": "execute_result",
          "data": {
            "text/plain": [
              "<shapely.geometry.multilinestring.MultiLineString at 0x7f9365b77eb8>"
            ],
            "image/svg+xml": "<svg xmlns=\"http://www.w3.org/2000/svg\" xmlns:xlink=\"http://www.w3.org/1999/xlink\" width=\"300\" height=\"187.2\" viewBox=\"-183.6 -93.6 367.2 187.2\" preserveAspectRatio=\"xMinYMin meet\"><g transform=\"matrix(1,0,0,-1,0,0.0)\"><g><polyline fill=\"none\" stroke=\"#66cc99\" stroke-width=\"2.448\" points=\"-170.0,80.0 79.11672652309721,80.0 -10.09743073447761,31.337732404959187 -10.22357865964616,32.10275670867412 -10.472779224402544,33.03843122236199 -10.811305840926208,33.9456177781183 -11.235984525241713,34.81581070622562 -11.742833542168032,35.64085118467547 -12.327100737578526,36.41300373528131 -12.983308094014333,37.125028750571836 -13.705303091903197,37.77025037146143 -14.48631639482727,38.34261907928496 -15.319025317989887,38.83676841534168 -16.19562248480878,39.24806529615289 -17.107889027919935,39.57265345268354 -18.047271648268477,39.80748958624703 -19.004962809790012,39.95037190209989 -119.00496280979002,49.95037190209989 -120.01063169594195,49.99999434835047 -121.01619279452686,49.94823362232471 -122.0114514023738,49.795614490979546 -122.98631726629023,49.54368425635807 -123.93090688130758,49.19499706854161 -124.83564369284653,48.75308803085137 -125.6913551869202,48.22243735982929 -126.48936588404327,47.60842496335578 -127.22158529404477,46.91727589740617 -127.88058994007041,46.1559972544228 -128.4596986201883,45.332307123148865 -128.95304014357197,44.454556340152074 -129.35561285452897,43.531643826346624 -129.66333534090182,42.57292636685895 -129.87308781274237,41.5881237489183 -129.98274373174996,40.587220219514705 -134.98274373174996,-44.41277978048531 -134.99237191151377,-45.3905170700372 -134.90646672967972,-46.36452077072826 -134.72584949382838,-47.325478794441715 -134.45224701835943,-48.2642037779396 -134.08827511505953,-49.17172091983505 -133.63741358429616,-50.03935378533955 -133.1039729459369,-50.85880725843774 -132.49305322806782,-51.62224684841499 -131.81049520751665,-52.32237359251715 -131.06282456835183,-52.952493838626324 -130.25718951223752,-53.506583240785915 -129.40129241712904,-53.97934435573792 -128.50331619769378,-54.36625728981306 -127.5718460714995,-54.66362291195764 -126.61578747893321,-54.86859821975354 -125.64428094158895,-54.979223520309844 -124.66661467313092,-54.99444116615974 -123.6921357781279,-54.91410566703557 -122.73016088785323,-54.73898508084743 -121.7898870874289,-54.47075367056626 -120.88030398590593,-54.11197589721667 -120.01010776994657,-53.66608190201618 -119.18761806280904,-53.13733471206735 -20.0,17.710963904224823 -20.0,-20.0 -19.95259930209965,-20.972505594763113 -19.81084657363089,-21.935791700745476 -19.576085650245453,-22.88072623120683 -19.250542098264987,-23.798351074904375 -18.837302116001656,-24.679967020237715 -18.34028327616738,-25.517216224989077 -17.764197386737713,-26.302161449834117 -17.11450582235456,-27.027361304478596 -16.39736774973226,-27.68594079307703 -15.619581737897464,-28.271656490152942 -14.788521306805734,-28.778955729143846 79.11672652309721,-80.0 -170.0,-80.0 -170.0,80.0\" opacity=\"0.8\" /><polyline fill=\"none\" stroke=\"#66cc99\" stroke-width=\"2.448\" points=\"110.0,-80.0 110.0,80.0 170.0,80.0 170.0,-80.0 110.0,-80.0\" opacity=\"0.8\" /></g></g></svg>"
          },
          "metadata": {
            "tags": []
          },
          "execution_count": 5
        }
      ]
    },
    {
      "cell_type": "code",
      "metadata": {
        "id": "-t1DgfRUgTQ2",
        "colab_type": "code",
        "outputId": "3b343aae-6278-4e88-86f4-3a67be0d2e32",
        "colab": {
          "base_uri": "https://localhost:8080/",
          "height": 34
        }
      },
      "source": [
        "# length of the boundary\n",
        "poly_eroded.boundary.length"
      ],
      "execution_count": 0,
      "outputs": [
        {
          "output_type": "execute_result",
          "data": {
            "text/plain": [
              "1714.7439056131875"
            ]
          },
          "metadata": {
            "tags": []
          },
          "execution_count": 7
        }
      ]
    },
    {
      "cell_type": "code",
      "metadata": {
        "id": "OEraGbQDe0y8",
        "colab_type": "code",
        "outputId": "b207971c-ac84-4790-8dd8-44a28156753e",
        "colab": {
          "base_uri": "https://localhost:8080/",
          "height": 34
        }
      },
      "source": [
        "# get the area of the shape\n",
        "poly_eroded.area"
      ],
      "execution_count": 0,
      "outputs": [
        {
          "output_type": "execute_result",
          "data": {
            "text/plain": [
              "31298.780262343378"
            ]
          },
          "metadata": {
            "tags": []
          },
          "execution_count": 6
        }
      ]
    },
    {
      "cell_type": "markdown",
      "metadata": {
        "id": "hGKofT8HiYdj",
        "colab_type": "text"
      },
      "source": [
        "## Geometry Collections\n",
        "Geometry collections are datatypes that store multiple geometry objects. Much like how lists store multiple individual objects in a larger data structure, collections do the same with shapely objects"
      ]
    },
    {
      "cell_type": "code",
      "metadata": {
        "id": "UBuR32YZiuQK",
        "colab_type": "code",
        "colab": {}
      },
      "source": [
        "# Import collections of geometric objects + bounding box\n",
        "from shapely.geometry import MultiPoint, MultiLineString, MultiPolygon, box\n"
      ],
      "execution_count": 0,
      "outputs": []
    },
    {
      "cell_type": "code",
      "metadata": {
        "id": "xQ0jXNe3iw8u",
        "colab_type": "code",
        "outputId": "13309c84-5e5c-4d29-99e8-7b291c8f34e2",
        "colab": {
          "base_uri": "https://localhost:8080/",
          "height": 121
        }
      },
      "source": [
        "# Create a MultiPoint object of our points 1,2 and 3\n",
        "multi_point = MultiPoint([point1, point2, point3])\n",
        "multi_point"
      ],
      "execution_count": 0,
      "outputs": [
        {
          "output_type": "execute_result",
          "data": {
            "text/plain": [
              "<shapely.geometry.multipoint.MultiPoint at 0x7f933fbb80b8>"
            ],
            "image/svg+xml": "<svg xmlns=\"http://www.w3.org/2000/svg\" xmlns:xlink=\"http://www.w3.org/1999/xlink\" width=\"100.0\" height=\"100.0\" viewBox=\"1.028 -26.272000000000002 9.404 31.644000000000002\" preserveAspectRatio=\"xMinYMin meet\"><g transform=\"matrix(1,0,0,-1,0,-20.900000000000002)\"><g><circle cx=\"2.2\" cy=\"4.2\" r=\"0.9493199999999999\" stroke=\"#555555\" stroke-width=\"0.31644\" fill=\"#66cc99\" opacity=\"0.6\" /><circle cx=\"7.2\" cy=\"-25.1\" r=\"0.9493199999999999\" stroke=\"#555555\" stroke-width=\"0.31644\" fill=\"#66cc99\" opacity=\"0.6\" /><circle cx=\"9.26\" cy=\"-2.456\" r=\"0.9493199999999999\" stroke=\"#555555\" stroke-width=\"0.31644\" fill=\"#66cc99\" opacity=\"0.6\" /></g></g></svg>"
          },
          "metadata": {
            "tags": []
          },
          "execution_count": 11
        }
      ]
    },
    {
      "cell_type": "code",
      "metadata": {
        "id": "4Z47GliyiznK",
        "colab_type": "code",
        "outputId": "6741a825-ee59-4c6e-fd9b-5a1edc55c9ef",
        "colab": {
          "base_uri": "https://localhost:8080/",
          "height": 121
        }
      },
      "source": [
        "# It is also possible to pass coordinate tuples inside\n",
        "multi_point2 = MultiPoint([(2.2, 4.2), (7.2, -25.1), (9.26, -2.456)])\n",
        "multi_point2"
      ],
      "execution_count": 0,
      "outputs": [
        {
          "output_type": "execute_result",
          "data": {
            "text/plain": [
              "<shapely.geometry.multipoint.MultiPoint at 0x7f933fba2208>"
            ],
            "image/svg+xml": "<svg xmlns=\"http://www.w3.org/2000/svg\" xmlns:xlink=\"http://www.w3.org/1999/xlink\" width=\"100.0\" height=\"100.0\" viewBox=\"1.028 -26.272000000000002 9.404 31.644000000000002\" preserveAspectRatio=\"xMinYMin meet\"><g transform=\"matrix(1,0,0,-1,0,-20.900000000000002)\"><g><circle cx=\"2.2\" cy=\"4.2\" r=\"0.9493199999999999\" stroke=\"#555555\" stroke-width=\"0.31644\" fill=\"#66cc99\" opacity=\"0.6\" /><circle cx=\"7.2\" cy=\"-25.1\" r=\"0.9493199999999999\" stroke=\"#555555\" stroke-width=\"0.31644\" fill=\"#66cc99\" opacity=\"0.6\" /><circle cx=\"9.26\" cy=\"-2.456\" r=\"0.9493199999999999\" stroke=\"#555555\" stroke-width=\"0.31644\" fill=\"#66cc99\" opacity=\"0.6\" /></g></g></svg>"
          },
          "metadata": {
            "tags": []
          },
          "execution_count": 13
        }
      ]
    },
    {
      "cell_type": "code",
      "metadata": {
        "id": "kKDijf4Ci7y_",
        "colab_type": "code",
        "outputId": "e57d07ea-4ed9-4a66-ad06-4546c9963931",
        "colab": {
          "base_uri": "https://localhost:8080/",
          "height": 121
        }
      },
      "source": [
        "# We can also create a MultiLineString with two lines\n",
        "line1 = LineString([point1, point2])\n",
        "line2 = LineString([point2, point3])\n",
        "multi_line = MultiLineString([line1, line2])\n",
        "multi_line"
      ],
      "execution_count": 0,
      "outputs": [
        {
          "output_type": "execute_result",
          "data": {
            "text/plain": [
              "<shapely.geometry.multilinestring.MultiLineString at 0x7f933fbcdeb8>"
            ],
            "image/svg+xml": "<svg xmlns=\"http://www.w3.org/2000/svg\" xmlns:xlink=\"http://www.w3.org/1999/xlink\" width=\"100.0\" height=\"100.0\" viewBox=\"1.028 -26.272000000000002 9.404 31.644000000000002\" preserveAspectRatio=\"xMinYMin meet\"><g transform=\"matrix(1,0,0,-1,0,-20.900000000000002)\"><g><polyline fill=\"none\" stroke=\"#66cc99\" stroke-width=\"0.63288\" points=\"2.2,4.2 7.2,-25.1\" opacity=\"0.8\" /><polyline fill=\"none\" stroke=\"#66cc99\" stroke-width=\"0.63288\" points=\"7.2,-25.1 9.26,-2.456\" opacity=\"0.8\" /></g></g></svg>"
          },
          "metadata": {
            "tags": []
          },
          "execution_count": 14
        }
      ]
    },
    {
      "cell_type": "code",
      "metadata": {
        "id": "GUPxhXSSjAGC",
        "colab_type": "code",
        "outputId": "e5db35bf-2795-4b8f-cac2-f984445a32fd",
        "colab": {
          "base_uri": "https://localhost:8080/",
          "height": 121
        }
      },
      "source": [
        "# MultiPolygon can be done in a similar manner\n",
        "circle1 = Point(0,0).buffer(1)\n",
        "circle2 = Point(2,5).buffer(5)\n",
        "circle3 = Point(10,10).buffer(7)\n",
        "circle4 = Point(10,11).buffer(3)\n",
        "multi_circle = MultiPolygon([circle1, circle2, circle3, circle4])\n",
        "multi_circle"
      ],
      "execution_count": 0,
      "outputs": [
        {
          "output_type": "execute_result",
          "data": {
            "text/plain": [
              "<shapely.geometry.multipolygon.MultiPolygon at 0x7f01f93d2d68>"
            ],
            "image/svg+xml": "<svg xmlns=\"http://www.w3.org/2000/svg\" xmlns:xlink=\"http://www.w3.org/1999/xlink\" width=\"100.0\" height=\"100.0\" viewBox=\"-3.8 -1.8 21.6 19.6\" preserveAspectRatio=\"xMinYMin meet\"><g transform=\"matrix(1,0,0,-1,0,16.0)\"><g><path fill-rule=\"evenodd\" fill=\"#ff3333\" stroke=\"#555555\" stroke-width=\"0.43200000000000005\" opacity=\"0.6\" d=\"M 1.0,0.0 L 0.9951847266721969,-0.0980171403295605 L 0.9807852804032305,-0.19509032201612808 L 0.9569403357322089,-0.2902846772544621 L 0.923879532511287,-0.3826834323650894 L 0.8819212643483553,-0.4713967368259972 L 0.8314696123025456,-0.5555702330196017 L 0.7730104533627374,-0.6343932841636449 L 0.7071067811865481,-0.7071067811865469 L 0.6343932841636463,-0.7730104533627363 L 0.5555702330196031,-0.8314696123025447 L 0.4713967368259986,-0.8819212643483545 L 0.38268343236509084,-0.9238795325112863 L 0.2902846772544636,-0.9569403357322085 L 0.19509032201612964,-0.9807852804032302 L 0.09801714032956209,-0.9951847266721967 L 1.6155445744325867e-15,-1.0 L -0.09801714032955888,-0.995184726672197 L -0.19509032201612647,-0.9807852804032308 L -0.2902846772544605,-0.9569403357322094 L -0.38268343236508784,-0.9238795325112875 L -0.4713967368259957,-0.881921264348356 L -0.5555702330196005,-0.8314696123025463 L -0.6343932841636439,-0.7730104533627382 L -0.7071067811865462,-0.7071067811865488 L -0.7730104533627359,-0.6343932841636468 L -0.8314696123025443,-0.5555702330196036 L -0.8819212643483543,-0.47139673682599903 L -0.9238795325112862,-0.3826834323650911 L -0.9569403357322085,-0.29028467725446366 L -0.9807852804032302,-0.19509032201612947 L -0.9951847266721968,-0.09801714032956171 L -1.0,-1.0106430996148606e-15 L -0.9951847266721969,0.0980171403295597 L -0.9807852804032307,0.1950903220161275 L -0.956940335732209,0.2902846772544617 L -0.923879532511287,0.3826834323650892 L -0.8819212643483553,0.47139673682599725 L -0.8314696123025455,0.555570233019602 L -0.7730104533627371,0.6343932841636453 L -0.7071067811865477,0.7071067811865475 L -0.6343932841636459,0.7730104533627367 L -0.555570233019603,0.8314696123025448 L -0.4713967368259987,0.8819212643483545 L -0.38268343236509117,0.9238795325112862 L -0.2902846772544641,0.9569403357322084 L -0.1950903220161304,0.98078528040323 L -0.0980171403295631,0.9951847266721966 L -2.848232278972479e-15,1.0 L 0.09801714032955743,0.9951847266721972 L 0.1950903220161248,0.9807852804032311 L 0.29028467725445867,0.9569403357322099 L 0.3826834323650859,0.9238795325112884 L 0.47139673682599365,0.8819212643483572 L 0.5555702330195982,0.8314696123025479 L 0.6343932841636415,0.7730104533627402 L 0.7071067811865436,0.7071067811865515 L 0.7730104533627332,0.63439328416365 L 0.8314696123025418,0.5555702330196074 L 0.8819212643483519,0.4713967368260034 L 0.9238795325112841,0.38268343236509617 L 0.9569403357322067,0.29028467725446927 L 0.980785280403229,0.1950903220161357 L 0.9951847266721962,0.09801714032956847 L 1.0,8.238535137130597e-15 L 1.0,0.0 z\" /><path fill-rule=\"evenodd\" fill=\"#ff3333\" stroke=\"#555555\" stroke-width=\"0.43200000000000005\" opacity=\"0.6\" d=\"M 7.0,5.0 L 6.975923633360985,4.509914298352197 L 6.903926402016153,4.024548389919359 L 6.784701678661045,3.5485766137276897 L 6.619397662556435,3.086582838174553 L 6.4096063217417765,2.643016315870014 L 6.157348061512728,2.2221488349019913 L 5.865052266813687,1.8280335791817754 L 5.53553390593274,1.4644660940672654 L 5.171966420818231,1.1349477331863183 L 4.777851165098015,0.8426519384872764 L 4.356983684129993,0.5903936782582271 L 3.9134171618254543,0.38060233744356875 L 3.4514233862723183,0.21529832133895788 L 2.9754516100806483,0.09607359798384874 L 2.4900857016478106,0.02407636663901691 L 2.000000000000008,0.0 L 1.5099142983522056,0.024076366639015134 L 1.0245483899193677,0.09607359798384607 L 0.5485766137276975,0.21529832133895344 L 0.0865828381745608,0.38060233744356253 L -0.3569836841299785,0.59039367825822 L -0.7778511650980025,0.8426519384872684 L -1.1719664208182197,1.134947733186309 L -1.535533905932731,1.464466094067256 L -1.8650522668136795,1.8280335791817661 L -2.157348061512722,2.222148834901982 L -2.409606321741771,2.643016315870005 L -2.6193976625564312,3.0865828381745444 L -2.784701678661042,3.5485766137276817 L -2.9039264020161513,4.024548389919353 L -2.975923633360984,4.509914298352191 L -3.0,4.999999999999995 L -2.975923633360985,5.490085701647798 L -2.903926402016153,5.975451610080637 L -2.7847016786610457,6.4514233862723085 L -2.619397662556435,6.913417161825446 L -2.4096063217417765,7.356983684129986 L -2.157348061512727,7.77785116509801 L -1.8650522668136853,8.171966420818226 L -1.5355339059327386,8.535533905932738 L -1.1719664208182294,8.865052266813684 L -0.7778511650980149,9.157348061512725 L -0.3569836841299936,9.409606321741773 L 0.08658283817454415,9.61939766255643 L 0.5485766137276795,9.784701678661042 L 1.024548389919348,9.90392640201615 L 1.5099142983521845,9.975923633360983 L 1.9999999999999858,10.0 L 2.490085701647787,9.975923633360985 L 2.975451610080624,9.903926402016156 L 3.4514233862722934,9.78470167866105 L 3.9134171618254294,9.619397662556441 L 4.356983684129968,9.409606321741785 L 4.7778511650979905,9.157348061512739 L 5.171966420818207,8.865052266813702 L 5.535533905932718,8.535533905932757 L 5.865052266813667,8.17196642081825 L 6.1573480615127085,7.777851165098037 L 6.40960632174176,7.356983684130017 L 6.619397662556421,6.913417161825481 L 6.784701678661033,6.451423386272346 L 6.903926402016145,5.975451610080679 L 6.97592363336098,5.490085701647843 L 7.0,5.000000000000041 L 7.0,5.0 z\" /><path fill-rule=\"evenodd\" fill=\"#ff3333\" stroke=\"#555555\" stroke-width=\"0.43200000000000005\" opacity=\"0.6\" d=\"M 17.0,10.0 L 16.966293086705377,9.313880017693076 L 16.865496962822615,8.634367745887104 L 16.698582350125463,7.968007259218766 L 16.46715672757901,7.3212159734443745 L 16.173448850438486,6.70022284221802 L 15.820287286117818,6.111008368862787 L 15.411073173539162,5.559247010854485 L 14.949747468305837,5.050252531694172 L 14.440752989145523,4.588926826460845 L 13.888991631137221,4.1797127138821875 L 13.299777157781989,3.826551149561519 L 12.678784026555636,3.5328432724209957 L 12.031992740781245,3.3014176498745407 L 11.365632254112906,3.1345030371773888 L 10.686119982306934,3.0337069132946226 L 10.00000000000001,3.0 L 9.313880017693087,3.033706913294621 L 8.634367745887115,3.1345030371773843 L 7.968007259218776,3.3014176498745345 L 7.321215973444385,3.5328432724209877 L 6.7002228422180306,3.8265511495615074 L 6.111008368862796,4.179712713882176 L 5.5592470108544925,4.588926826460833 L 5.050252531694176,5.050252531694158 L 4.588926826460849,5.559247010854472 L 4.179712713882189,6.111008368862775 L 3.82655114956152,6.700222842218007 L 3.5328432724209966,7.321215973444362 L 3.3014176498745407,7.968007259218755 L 3.1345030371773888,8.634367745887094 L 3.0337069132946226,9.313880017693068 L 3.0,9.999999999999993 L 3.0337069132946217,10.686119982306918 L 3.134503037177385,11.365632254112892 L 3.301417649874537,12.031992740781233 L 3.5328432724209913,12.678784026555626 L 3.8265511495615128,13.299777157781982 L 4.179712713882182,13.888991631137213 L 4.58892682646084,14.440752989145517 L 5.050252531694166,14.949747468305832 L 5.559247010854478,15.411073173539156 L 6.111008368862779,15.820287286117814 L 6.700222842218009,16.173448850438483 L 7.321215973444362,16.467156727579003 L 7.968007259218751,16.69858235012546 L 8.634367745887086,16.86549696282261 L 9.313880017693059,16.966293086705377 L 9.99999999999998,17.0 L 10.686119982306902,16.96629308670538 L 11.365632254112874,16.86549696282262 L 12.031992740781211,16.69858235012547 L 12.6787840265556,16.467156727579017 L 13.299777157781955,16.1734488504385 L 13.888991631137188,15.820287286117836 L 14.44075298914549,15.411073173539181 L 14.949747468305805,14.94974746830586 L 15.411073173539133,14.440752989145551 L 15.820287286117793,13.888991631137252 L 16.17344885043846,13.299777157782025 L 16.46715672757899,12.678784026555673 L 16.69858235012545,12.031992740781284 L 16.865496962822604,11.365632254112949 L 16.966293086705374,10.686119982306979 L 17.0,10.000000000000057 L 17.0,10.0 z\" /><path fill-rule=\"evenodd\" fill=\"#ff3333\" stroke=\"#555555\" stroke-width=\"0.43200000000000005\" opacity=\"0.6\" d=\"M 13.0,11.0 L 12.98555418001659,10.705948579011318 L 12.942355841209691,10.414729033951616 L 12.870821007196627,10.129145968236614 L 12.771638597533862,9.851949702904731 L 12.645763793045067,9.585809789522008 L 12.494408836907636,9.333289300941194 L 12.319031360088212,9.096820147509066 L 12.121320343559645,8.87867965644036 L 11.90317985249094,8.680968639911791 L 11.66671069905881,8.505591163092365 L 11.414190210477996,8.354236206954937 L 11.148050297095272,8.228361402466142 L 10.870854031763391,8.129178992803375 L 10.58527096604839,8.05764415879031 L 10.294051420988687,8.01444581998341 L 10.000000000000005,8.0 L 9.705948579011324,8.01444581998341 L 9.41472903395162,8.057644158790307 L 9.12914596823662,8.129178992803372 L 8.851949702904736,8.228361402466138 L 8.585809789522013,8.354236206954932 L 8.333289300941198,8.505591163092362 L 8.096820147509067,8.680968639911786 L 7.878679656440362,8.878679656440355 L 7.680968639911793,9.09682014750906 L 7.505591163092367,9.333289300941189 L 7.354236206954937,9.585809789522003 L 7.228361402466142,9.851949702904726 L 7.129178992803375,10.129145968236609 L 7.05764415879031,10.414729033951613 L 7.014445819983409,10.705948579011315 L 7.0,10.999999999999996 L 7.014445819983409,11.29405142098868 L 7.057644158790308,11.585270966048382 L 7.129178992803373,11.870854031763384 L 7.228361402466139,12.148050297095267 L 7.354236206954934,12.414190210477992 L 7.5055911630923635,12.666710699058806 L 7.6809686399117885,12.903179852490936 L 7.878679656440357,13.121320343559642 L 8.096820147509062,13.31903136008821 L 8.33328930094119,13.494408836907635 L 8.585809789522004,13.645763793045063 L 8.851949702904726,13.771638597533858 L 9.129145968236607,13.870821007196625 L 9.414729033951609,13.94235584120969 L 9.705948579011311,13.985554180016589 L 9.999999999999991,14.0 L 10.294051420988673,13.985554180016592 L 10.585270966048375,13.942355841209693 L 10.870854031763376,13.87082100719663 L 11.148050297095258,13.771638597533865 L 11.414190210477981,13.645763793045072 L 11.666710699058795,13.494408836907644 L 11.903179852490924,13.319031360088221 L 12.121320343559631,13.121320343559654 L 12.3190313600882,12.90317985249095 L 12.494408836907626,12.666710699058822 L 12.645763793045056,12.41419021047801 L 12.771638597533851,12.148050297095288 L 12.87082100719662,11.870854031763407 L 12.942355841209686,11.585270966048407 L 12.985554180016589,11.294051420988705 L 13.0,11.000000000000025 L 13.0,11.0 z\" /></g></g></svg>"
          },
          "metadata": {
            "tags": []
          },
          "execution_count": 9
        }
      ]
    },
    {
      "cell_type": "code",
      "metadata": {
        "id": "wZJXyXMjjFab",
        "colab_type": "code",
        "outputId": "f47ce997-68b8-4e3b-ee1a-59b6ef2d0129",
        "colab": {
          "base_uri": "https://localhost:8080/",
          "height": 34
        }
      },
      "source": [
        ""
      ],
      "execution_count": 0,
      "outputs": [
        {
          "output_type": "execute_result",
          "data": {
            "text/plain": [
              "shapely.geometry.polygon.Polygon"
            ]
          },
          "metadata": {
            "tags": []
          },
          "execution_count": 19
        }
      ]
    },
    {
      "cell_type": "markdown",
      "metadata": {
        "id": "OEpI5p6vkpEj",
        "colab_type": "text"
      },
      "source": [
        "## Geometric analysis\n",
        "Shapely includes a ton of useful functions to analyze [geometric relationships between shapes](https://shapely.readthedocs.io/en/latest/manual.html#predicates-and-relationships).\n",
        "\n",
        "For example, you can find whether one shape [contains](https://shapely.readthedocs.io/en/latest/manual.html#object.contains) the other within its interior; whether one object [crosses](https://shapely.readthedocs.io/en/latest/manual.html#object.crosses) or [overlaps](https://shapely.readthedocs.io/en/latest/manual.html#object.overlaps) another. _Note that these methods have very precise definitions. For example, `overlaps` and `intersects` are two distinct methods with subtle differences. Refer to the documentation to ensure that you're using the function that you actually want._"
      ]
    },
    {
      "cell_type": "code",
      "metadata": {
        "id": "8vQ-gWOzjY1h",
        "colab_type": "code",
        "outputId": "7caf7c72-2369-4821-9312-4364d85579e2",
        "colab": {
          "base_uri": "https://localhost:8080/",
          "height": 34
        }
      },
      "source": [
        "# in order for two objects to cross, one must go all the way through the other\n",
        "circle3.crosses(circle4)"
      ],
      "execution_count": 0,
      "outputs": [
        {
          "output_type": "execute_result",
          "data": {
            "text/plain": [
              "False"
            ]
          },
          "metadata": {
            "tags": []
          },
          "execution_count": 11
        }
      ]
    },
    {
      "cell_type": "code",
      "metadata": {
        "id": "Uzl0lzvKmsv0",
        "colab_type": "code",
        "outputId": "833953ab-bf9a-424d-97ca-6a068a41b4cb",
        "colab": {
          "base_uri": "https://localhost:8080/",
          "height": 34
        }
      },
      "source": [
        "# intersect checks if any part of the interior of one object is in the other\n",
        "circle3.intersects(circle4)"
      ],
      "execution_count": 0,
      "outputs": [
        {
          "output_type": "execute_result",
          "data": {
            "text/plain": [
              "True"
            ]
          },
          "metadata": {
            "tags": []
          },
          "execution_count": 10
        }
      ]
    },
    {
      "cell_type": "code",
      "metadata": {
        "id": "w5LmTvd1auav",
        "colab_type": "code",
        "outputId": "a60a0f88-e2b0-4d32-fff5-b8d3b7919ac0",
        "colab": {
          "base_uri": "https://localhost:8080/",
          "height": 34
        }
      },
      "source": [
        "# overlap does not allow one object to fully contain the other\n",
        "circle3.overlaps(circle4)"
      ],
      "execution_count": 0,
      "outputs": [
        {
          "output_type": "execute_result",
          "data": {
            "text/plain": [
              "False"
            ]
          },
          "metadata": {
            "tags": []
          },
          "execution_count": 12
        }
      ]
    },
    {
      "cell_type": "markdown",
      "metadata": {
        "id": "Kyzqljxxbnsr",
        "colab_type": "text"
      },
      "source": [
        "### Set theoretic functions\n",
        "You can use shapely to do set-theoretic operations, such as intersection, union, and difference"
      ]
    },
    {
      "cell_type": "code",
      "metadata": {
        "id": "XGqRQRYtbU1U",
        "colab_type": "code",
        "outputId": "b8fc6298-29cc-4a27-d99e-f4d584ba7be5",
        "colab": {
          "base_uri": "https://localhost:8080/",
          "height": 121
        }
      },
      "source": [
        "# intersection represents the shape that is part of both objects (logical AND)\n",
        "circle2.intersection(circle3)"
      ],
      "execution_count": 0,
      "outputs": [
        {
          "output_type": "execute_result",
          "data": {
            "text/plain": [
              "<shapely.geometry.polygon.Polygon at 0x7f01e38c1c50>"
            ],
            "image/svg+xml": "<svg xmlns=\"http://www.w3.org/2000/svg\" xmlns:xlink=\"http://www.w3.org/1999/xlink\" width=\"100.0\" height=\"100.0\" viewBox=\"2.7596796543595907 3.515979231254725 4.48572513534255 6.6259293219577895\" preserveAspectRatio=\"xMinYMin meet\"><g transform=\"matrix(1,0,0,-1,0,13.65788778446724)\"><path fill-rule=\"evenodd\" fill=\"#66cc99\" stroke=\"#555555\" stroke-width=\"0.1325185864391558\" opacity=\"0.6\" d=\"M 7.0,5.0 L 6.975923633360985,4.509914298352197 L 6.903926402016153,4.024548389919359 L 6.838007159204074,3.761384020956865 L 6.7002228422180306,3.8265511495615074 L 6.111008368862796,4.179712713882176 L 5.5592470108544925,4.588926826460833 L 5.050252531694176,5.050252531694158 L 4.588926826460849,5.559247010854472 L 4.179712713882189,6.111008368862775 L 3.82655114956152,6.700222842218007 L 3.5328432724209966,7.321215973444362 L 3.3014176498745407,7.968007259218755 L 3.1345030371773888,8.634367745887094 L 3.0337069132946226,9.313880017693068 L 3.005084444061731,9.896503763510374 L 3.4514233862722934,9.78470167866105 L 3.9134171618254294,9.619397662556441 L 4.356983684129968,9.409606321741785 L 4.7778511650979905,9.157348061512739 L 5.171966420818207,8.865052266813702 L 5.535533905932718,8.535533905932757 L 5.865052266813667,8.17196642081825 L 6.1573480615127085,7.777851165098037 L 6.40960632174176,7.356983684130017 L 6.619397662556421,6.913417161825481 L 6.784701678661033,6.451423386272346 L 6.903926402016145,5.975451610080679 L 6.97592363336098,5.490085701647843 L 7.0,5.000000000000041 L 7.0,5.0 z\" /></g></svg>"
          },
          "metadata": {
            "tags": []
          },
          "execution_count": 13
        }
      ]
    },
    {
      "cell_type": "code",
      "metadata": {
        "id": "4HX8FQ-fbjoV",
        "colab_type": "code",
        "outputId": "5759c34b-dd80-4d55-c897-33e9aab746ed",
        "colab": {
          "base_uri": "https://localhost:8080/",
          "height": 121
        }
      },
      "source": [
        "# union is the shape that's part of either object (logical OR)\n",
        "circle2.union(circle3)"
      ],
      "execution_count": 0,
      "outputs": [
        {
          "output_type": "execute_result",
          "data": {
            "text/plain": [
              "<shapely.geometry.polygon.Polygon at 0x7f01e384f390>"
            ],
            "image/svg+xml": "<svg xmlns=\"http://www.w3.org/2000/svg\" xmlns:xlink=\"http://www.w3.org/1999/xlink\" width=\"100.0\" height=\"100.0\" viewBox=\"-3.8 -0.8 21.6 18.6\" preserveAspectRatio=\"xMinYMin meet\"><g transform=\"matrix(1,0,0,-1,0,17.0)\"><path fill-rule=\"evenodd\" fill=\"#66cc99\" stroke=\"#555555\" stroke-width=\"0.43200000000000005\" opacity=\"0.6\" d=\"M 6.838007159204074,3.761384020956865 L 6.784701678661045,3.5485766137276897 L 6.619397662556435,3.086582838174553 L 6.4096063217417765,2.643016315870014 L 6.157348061512728,2.2221488349019913 L 5.865052266813687,1.8280335791817754 L 5.53553390593274,1.4644660940672654 L 5.171966420818231,1.1349477331863183 L 4.777851165098015,0.8426519384872764 L 4.356983684129993,0.5903936782582271 L 3.9134171618254543,0.38060233744356875 L 3.4514233862723183,0.21529832133895788 L 2.9754516100806483,0.09607359798384874 L 2.4900857016478106,0.02407636663901691 L 2.000000000000008,0.0 L 1.5099142983522056,0.024076366639015134 L 1.0245483899193677,0.09607359798384607 L 0.5485766137276975,0.21529832133895344 L 0.0865828381745608,0.38060233744356253 L -0.3569836841299785,0.59039367825822 L -0.7778511650980025,0.8426519384872684 L -1.1719664208182197,1.134947733186309 L -1.535533905932731,1.464466094067256 L -1.8650522668136795,1.8280335791817661 L -2.157348061512722,2.222148834901982 L -2.409606321741771,2.643016315870005 L -2.6193976625564312,3.0865828381745444 L -2.784701678661042,3.5485766137276817 L -2.9039264020161513,4.024548389919353 L -2.975923633360984,4.509914298352191 L -3.0,4.999999999999995 L -2.975923633360985,5.490085701647798 L -2.903926402016153,5.975451610080637 L -2.7847016786610457,6.4514233862723085 L -2.619397662556435,6.913417161825446 L -2.4096063217417765,7.356983684129986 L -2.157348061512727,7.77785116509801 L -1.8650522668136853,8.171966420818226 L -1.5355339059327386,8.535533905932738 L -1.1719664208182294,8.865052266813684 L -0.7778511650980149,9.157348061512725 L -0.3569836841299936,9.409606321741773 L 0.08658283817454415,9.61939766255643 L 0.5485766137276795,9.784701678661042 L 1.024548389919348,9.90392640201615 L 1.5099142983521845,9.975923633360983 L 1.9999999999999858,10.0 L 2.490085701647787,9.975923633360985 L 2.975451610080624,9.903926402016156 L 3.005084444061731,9.896503763510374 L 3.0,9.999999999999993 L 3.0337069132946217,10.686119982306918 L 3.134503037177385,11.365632254112892 L 3.301417649874537,12.031992740781233 L 3.5328432724209913,12.678784026555626 L 3.8265511495615128,13.299777157781982 L 4.179712713882182,13.888991631137213 L 4.58892682646084,14.440752989145517 L 5.050252531694166,14.949747468305832 L 5.559247010854478,15.411073173539156 L 6.111008368862779,15.820287286117814 L 6.700222842218009,16.173448850438483 L 7.321215973444362,16.467156727579003 L 7.968007259218751,16.69858235012546 L 8.634367745887086,16.86549696282261 L 9.313880017693059,16.966293086705377 L 9.99999999999998,17.0 L 10.686119982306902,16.96629308670538 L 11.365632254112874,16.86549696282262 L 12.031992740781211,16.69858235012547 L 12.6787840265556,16.467156727579017 L 13.299777157781955,16.1734488504385 L 13.888991631137188,15.820287286117836 L 14.44075298914549,15.411073173539181 L 14.949747468305805,14.94974746830586 L 15.411073173539133,14.440752989145551 L 15.820287286117793,13.888991631137252 L 16.17344885043846,13.299777157782025 L 16.46715672757899,12.678784026555673 L 16.69858235012545,12.031992740781284 L 16.865496962822604,11.365632254112949 L 16.966293086705374,10.686119982306979 L 17.0,10.000000000000057 L 17.0,10.0 L 16.966293086705377,9.313880017693076 L 16.865496962822615,8.634367745887104 L 16.698582350125463,7.968007259218766 L 16.46715672757901,7.3212159734443745 L 16.173448850438486,6.70022284221802 L 15.820287286117818,6.111008368862787 L 15.411073173539162,5.559247010854485 L 14.949747468305837,5.050252531694172 L 14.440752989145523,4.588926826460845 L 13.888991631137221,4.1797127138821875 L 13.299777157781989,3.826551149561519 L 12.678784026555636,3.5328432724209957 L 12.031992740781245,3.3014176498745407 L 11.365632254112906,3.1345030371773888 L 10.686119982306934,3.0337069132946226 L 10.00000000000001,3.0 L 9.313880017693087,3.033706913294621 L 8.634367745887115,3.1345030371773843 L 7.968007259218776,3.3014176498745345 L 7.321215973444385,3.5328432724209877 L 6.838007159204074,3.761384020956865 z\" /></g></svg>"
          },
          "metadata": {
            "tags": []
          },
          "execution_count": 14
        }
      ]
    },
    {
      "cell_type": "code",
      "metadata": {
        "id": "IPjEQZcscjMi",
        "colab_type": "code",
        "outputId": "42652872-61e4-4995-b911-13ad51c40758",
        "colab": {
          "base_uri": "https://localhost:8080/",
          "height": 121
        }
      },
      "source": [
        "# difference is the part of the shape of one object that's not in the other (logical AND NOT)\n",
        "circle3.difference(circle4)"
      ],
      "execution_count": 0,
      "outputs": [
        {
          "output_type": "execute_result",
          "data": {
            "text/plain": [
              "<shapely.geometry.polygon.Polygon at 0x7f01e384f2b0>"
            ],
            "image/svg+xml": "<svg xmlns=\"http://www.w3.org/2000/svg\" xmlns:xlink=\"http://www.w3.org/1999/xlink\" width=\"100.0\" height=\"100.0\" viewBox=\"2.44 2.44 15.12 15.12\" preserveAspectRatio=\"xMinYMin meet\"><g transform=\"matrix(1,0,0,-1,0,20.0)\"><path fill-rule=\"evenodd\" fill=\"#66cc99\" stroke=\"#555555\" stroke-width=\"0.3024\" opacity=\"0.6\" d=\"M 17.0,10.0 L 16.966293086705377,9.313880017693076 L 16.865496962822615,8.634367745887104 L 16.698582350125463,7.968007259218766 L 16.46715672757901,7.3212159734443745 L 16.173448850438486,6.70022284221802 L 15.820287286117818,6.111008368862787 L 15.411073173539162,5.559247010854485 L 14.949747468305837,5.050252531694172 L 14.440752989145523,4.588926826460845 L 13.888991631137221,4.1797127138821875 L 13.299777157781989,3.826551149561519 L 12.678784026555636,3.5328432724209957 L 12.031992740781245,3.3014176498745407 L 11.365632254112906,3.1345030371773888 L 10.686119982306934,3.0337069132946226 L 10.00000000000001,3.0 L 9.313880017693087,3.033706913294621 L 8.634367745887115,3.1345030371773843 L 7.968007259218776,3.3014176498745345 L 7.321215973444385,3.5328432724209877 L 6.7002228422180306,3.8265511495615074 L 6.111008368862796,4.179712713882176 L 5.5592470108544925,4.588926826460833 L 5.050252531694176,5.050252531694158 L 4.588926826460849,5.559247010854472 L 4.179712713882189,6.111008368862775 L 3.82655114956152,6.700222842218007 L 3.5328432724209966,7.321215973444362 L 3.3014176498745407,7.968007259218755 L 3.1345030371773888,8.634367745887094 L 3.0337069132946226,9.313880017693068 L 3.0,9.999999999999993 L 3.0337069132946217,10.686119982306918 L 3.134503037177385,11.365632254112892 L 3.301417649874537,12.031992740781233 L 3.5328432724209913,12.678784026555626 L 3.8265511495615128,13.299777157781982 L 4.179712713882182,13.888991631137213 L 4.58892682646084,14.440752989145517 L 5.050252531694166,14.949747468305832 L 5.559247010854478,15.411073173539156 L 6.111008368862779,15.820287286117814 L 6.700222842218009,16.173448850438483 L 7.321215973444362,16.467156727579003 L 7.968007259218751,16.69858235012546 L 8.634367745887086,16.86549696282261 L 9.313880017693059,16.966293086705377 L 9.99999999999998,17.0 L 10.686119982306902,16.96629308670538 L 11.365632254112874,16.86549696282262 L 12.031992740781211,16.69858235012547 L 12.6787840265556,16.467156727579017 L 13.299777157781955,16.1734488504385 L 13.888991631137188,15.820287286117836 L 14.44075298914549,15.411073173539181 L 14.949747468305805,14.94974746830586 L 15.411073173539133,14.440752989145551 L 15.820287286117793,13.888991631137252 L 16.17344885043846,13.299777157782025 L 16.46715672757899,12.678784026555673 L 16.69858235012545,12.031992740781284 L 16.865496962822604,11.365632254112949 L 16.966293086705374,10.686119982306979 L 17.0,10.000000000000057 L 17.0,10.0 z M 13.0,11.0 L 13.0,11.000000000000025 L 12.985554180016589,11.294051420988705 L 12.942355841209686,11.585270966048407 L 12.87082100719662,11.870854031763407 L 12.771638597533851,12.148050297095288 L 12.645763793045056,12.41419021047801 L 12.494408836907626,12.666710699058822 L 12.3190313600882,12.90317985249095 L 12.121320343559631,13.121320343559654 L 11.903179852490924,13.319031360088221 L 11.666710699058795,13.494408836907644 L 11.414190210477981,13.645763793045072 L 11.148050297095258,13.771638597533865 L 10.870854031763376,13.87082100719663 L 10.585270966048375,13.942355841209693 L 10.294051420988673,13.985554180016592 L 9.999999999999991,14.0 L 9.705948579011311,13.985554180016589 L 9.414729033951609,13.94235584120969 L 9.129145968236607,13.870821007196625 L 8.851949702904726,13.771638597533858 L 8.585809789522004,13.645763793045063 L 8.33328930094119,13.494408836907635 L 8.096820147509062,13.31903136008821 L 7.878679656440357,13.121320343559642 L 7.6809686399117885,12.903179852490936 L 7.5055911630923635,12.666710699058806 L 7.354236206954934,12.414190210477992 L 7.228361402466139,12.148050297095267 L 7.129178992803373,11.870854031763384 L 7.057644158790308,11.585270966048382 L 7.014445819983409,11.29405142098868 L 7.0,10.999999999999996 L 7.014445819983409,10.705948579011315 L 7.05764415879031,10.414729033951613 L 7.129178992803375,10.129145968236609 L 7.228361402466142,9.851949702904726 L 7.354236206954937,9.585809789522003 L 7.505591163092367,9.333289300941189 L 7.680968639911793,9.09682014750906 L 7.878679656440362,8.878679656440355 L 8.096820147509067,8.680968639911786 L 8.333289300941198,8.505591163092362 L 8.585809789522013,8.354236206954932 L 8.851949702904736,8.228361402466138 L 9.12914596823662,8.129178992803372 L 9.41472903395162,8.057644158790307 L 9.705948579011324,8.01444581998341 L 10.000000000000005,8.0 L 10.294051420988687,8.01444581998341 L 10.58527096604839,8.05764415879031 L 10.870854031763391,8.129178992803375 L 11.148050297095272,8.228361402466142 L 11.414190210477996,8.354236206954937 L 11.66671069905881,8.505591163092365 L 11.90317985249094,8.680968639911791 L 12.121320343559645,8.87867965644036 L 12.319031360088212,9.096820147509066 L 12.494408836907636,9.333289300941194 L 12.645763793045067,9.585809789522008 L 12.771638597533862,9.851949702904731 L 12.870821007196627,10.129145968236614 L 12.942355841209691,10.414729033951616 L 12.98555418001659,10.705948579011318 L 13.0,11.0 z\" /></g></svg>"
          },
          "metadata": {
            "tags": []
          },
          "execution_count": 15
        }
      ]
    },
    {
      "cell_type": "code",
      "metadata": {
        "id": "YOOdLav3c1VB",
        "colab_type": "code",
        "outputId": "2a84db09-f9b3-44bf-9468-4d306b6c22f7",
        "colab": {
          "base_uri": "https://localhost:8080/",
          "height": 171
        }
      },
      "source": [
        "# note that the order of difference matters\n",
        "circle4.difference(circle3) # is empty because circle4 is entirely in circle3"
      ],
      "execution_count": 0,
      "outputs": [
        {
          "output_type": "execute_result",
          "data": {
            "text/plain": [
              "<shapely.geometry.collection.GeometryCollection at 0x7f01e384f208>"
            ],
            "image/svg+xml": "<svg xmlns=\"http://www.w3.org/2000/svg\" xmlns:xlink=\"http://www.w3.org/1999/xlink\" />"
          },
          "metadata": {
            "tags": []
          },
          "execution_count": 17
        }
      ]
    },
    {
      "cell_type": "code",
      "metadata": {
        "id": "4MWu-onec6Tw",
        "colab_type": "code",
        "outputId": "dc666b59-40eb-4fec-9838-8010023fa9e0",
        "colab": {
          "base_uri": "https://localhost:8080/",
          "height": 121
        }
      },
      "source": [
        "# symmetric difference is the opposite of intersection (logical XOR)\n",
        "circle3.symmetric_difference(circle2)"
      ],
      "execution_count": 0,
      "outputs": [
        {
          "output_type": "execute_result",
          "data": {
            "text/plain": [
              "<shapely.geometry.multipolygon.MultiPolygon at 0x7f01e38c1ac8>"
            ],
            "image/svg+xml": "<svg xmlns=\"http://www.w3.org/2000/svg\" xmlns:xlink=\"http://www.w3.org/1999/xlink\" width=\"100.0\" height=\"100.0\" viewBox=\"-3.8 -0.8 21.6 18.6\" preserveAspectRatio=\"xMinYMin meet\"><g transform=\"matrix(1,0,0,-1,0,17.0)\"><g><path fill-rule=\"evenodd\" fill=\"#66cc99\" stroke=\"#555555\" stroke-width=\"0.43200000000000005\" opacity=\"0.6\" d=\"M 17.0,10.0 L 16.966293086705377,9.313880017693076 L 16.865496962822615,8.634367745887104 L 16.698582350125463,7.968007259218766 L 16.46715672757901,7.3212159734443745 L 16.173448850438486,6.70022284221802 L 15.820287286117818,6.111008368862787 L 15.411073173539162,5.559247010854485 L 14.949747468305837,5.050252531694172 L 14.440752989145523,4.588926826460845 L 13.888991631137221,4.1797127138821875 L 13.299777157781989,3.826551149561519 L 12.678784026555636,3.5328432724209957 L 12.031992740781245,3.3014176498745407 L 11.365632254112906,3.1345030371773888 L 10.686119982306934,3.0337069132946226 L 10.00000000000001,3.0 L 9.313880017693087,3.033706913294621 L 8.634367745887115,3.1345030371773843 L 7.968007259218776,3.3014176498745345 L 7.321215973444385,3.5328432724209877 L 6.838007159204074,3.761384020956865 L 6.903926402016153,4.024548389919359 L 6.975923633360985,4.509914298352197 L 7.0,5.0 L 7.0,5.000000000000041 L 6.97592363336098,5.490085701647843 L 6.903926402016145,5.975451610080679 L 6.784701678661033,6.451423386272346 L 6.619397662556421,6.913417161825481 L 6.40960632174176,7.356983684130017 L 6.1573480615127085,7.777851165098037 L 5.865052266813667,8.17196642081825 L 5.535533905932718,8.535533905932757 L 5.171966420818207,8.865052266813702 L 4.7778511650979905,9.157348061512739 L 4.356983684129968,9.409606321741785 L 3.9134171618254294,9.619397662556441 L 3.4514233862722934,9.78470167866105 L 3.005084444061731,9.896503763510374 L 3.0,9.999999999999993 L 3.0337069132946217,10.686119982306918 L 3.134503037177385,11.365632254112892 L 3.301417649874537,12.031992740781233 L 3.5328432724209913,12.678784026555626 L 3.8265511495615128,13.299777157781982 L 4.179712713882182,13.888991631137213 L 4.58892682646084,14.440752989145517 L 5.050252531694166,14.949747468305832 L 5.559247010854478,15.411073173539156 L 6.111008368862779,15.820287286117814 L 6.700222842218009,16.173448850438483 L 7.321215973444362,16.467156727579003 L 7.968007259218751,16.69858235012546 L 8.634367745887086,16.86549696282261 L 9.313880017693059,16.966293086705377 L 9.99999999999998,17.0 L 10.686119982306902,16.96629308670538 L 11.365632254112874,16.86549696282262 L 12.031992740781211,16.69858235012547 L 12.6787840265556,16.467156727579017 L 13.299777157781955,16.1734488504385 L 13.888991631137188,15.820287286117836 L 14.44075298914549,15.411073173539181 L 14.949747468305805,14.94974746830586 L 15.411073173539133,14.440752989145551 L 15.820287286117793,13.888991631137252 L 16.17344885043846,13.299777157782025 L 16.46715672757899,12.678784026555673 L 16.69858235012545,12.031992740781284 L 16.865496962822604,11.365632254112949 L 16.966293086705374,10.686119982306979 L 17.0,10.000000000000057 L 17.0,10.0 z\" /><path fill-rule=\"evenodd\" fill=\"#66cc99\" stroke=\"#555555\" stroke-width=\"0.43200000000000005\" opacity=\"0.6\" d=\"M 3.005084444061731,9.896503763510374 L 3.0337069132946226,9.313880017693068 L 3.1345030371773888,8.634367745887094 L 3.3014176498745407,7.968007259218755 L 3.5328432724209966,7.321215973444362 L 3.82655114956152,6.700222842218007 L 4.179712713882189,6.111008368862775 L 4.588926826460849,5.559247010854472 L 5.050252531694176,5.050252531694158 L 5.5592470108544925,4.588926826460833 L 6.111008368862796,4.179712713882176 L 6.7002228422180306,3.8265511495615074 L 6.838007159204074,3.761384020956865 L 6.784701678661045,3.5485766137276897 L 6.619397662556435,3.086582838174553 L 6.4096063217417765,2.643016315870014 L 6.157348061512728,2.2221488349019913 L 5.865052266813687,1.8280335791817754 L 5.53553390593274,1.4644660940672654 L 5.171966420818231,1.1349477331863183 L 4.777851165098015,0.8426519384872764 L 4.356983684129993,0.5903936782582271 L 3.9134171618254543,0.38060233744356875 L 3.4514233862723183,0.21529832133895788 L 2.9754516100806483,0.09607359798384874 L 2.4900857016478106,0.02407636663901691 L 2.000000000000008,0.0 L 1.5099142983522056,0.024076366639015134 L 1.0245483899193677,0.09607359798384607 L 0.5485766137276975,0.21529832133895344 L 0.0865828381745608,0.38060233744356253 L -0.3569836841299785,0.59039367825822 L -0.7778511650980025,0.8426519384872684 L -1.1719664208182197,1.134947733186309 L -1.535533905932731,1.464466094067256 L -1.8650522668136795,1.8280335791817661 L -2.157348061512722,2.222148834901982 L -2.409606321741771,2.643016315870005 L -2.6193976625564312,3.0865828381745444 L -2.784701678661042,3.5485766137276817 L -2.9039264020161513,4.024548389919353 L -2.975923633360984,4.509914298352191 L -3.0,4.999999999999995 L -2.975923633360985,5.490085701647798 L -2.903926402016153,5.975451610080637 L -2.7847016786610457,6.4514233862723085 L -2.619397662556435,6.913417161825446 L -2.4096063217417765,7.356983684129986 L -2.157348061512727,7.77785116509801 L -1.8650522668136853,8.171966420818226 L -1.5355339059327386,8.535533905932738 L -1.1719664208182294,8.865052266813684 L -0.7778511650980149,9.157348061512725 L -0.3569836841299936,9.409606321741773 L 0.08658283817454415,9.61939766255643 L 0.5485766137276795,9.784701678661042 L 1.024548389919348,9.90392640201615 L 1.5099142983521845,9.975923633360983 L 1.9999999999999858,10.0 L 2.490085701647787,9.975923633360985 L 2.975451610080624,9.903926402016156 L 3.005084444061731,9.896503763510374 z\" /></g></g></svg>"
          },
          "metadata": {
            "tags": []
          },
          "execution_count": 18
        }
      ]
    },
    {
      "cell_type": "code",
      "metadata": {
        "id": "JWeC0CsHdP9g",
        "colab_type": "code",
        "outputId": "d18feefe-f01c-4800-cb5b-2b11ef029b7d",
        "colab": {
          "base_uri": "https://localhost:8080/",
          "height": 121
        }
      },
      "source": [
        "# appropriately, symmetric difference order doesn't matter\n",
        "circle2.symmetric_difference(circle3)"
      ],
      "execution_count": 0,
      "outputs": [
        {
          "output_type": "execute_result",
          "data": {
            "text/plain": [
              "<shapely.geometry.multipolygon.MultiPolygon at 0x7f01e384f4a8>"
            ],
            "image/svg+xml": "<svg xmlns=\"http://www.w3.org/2000/svg\" xmlns:xlink=\"http://www.w3.org/1999/xlink\" width=\"100.0\" height=\"100.0\" viewBox=\"-3.8 -0.8 21.6 18.6\" preserveAspectRatio=\"xMinYMin meet\"><g transform=\"matrix(1,0,0,-1,0,17.0)\"><g><path fill-rule=\"evenodd\" fill=\"#66cc99\" stroke=\"#555555\" stroke-width=\"0.43200000000000005\" opacity=\"0.6\" d=\"M 6.838007159204074,3.761384020956865 L 6.903926402016153,4.024548389919359 L 6.975923633360985,4.509914298352197 L 7.0,5.0 L 7.0,5.000000000000041 L 6.97592363336098,5.490085701647843 L 6.903926402016145,5.975451610080679 L 6.784701678661033,6.451423386272346 L 6.619397662556421,6.913417161825481 L 6.40960632174176,7.356983684130017 L 6.1573480615127085,7.777851165098037 L 5.865052266813667,8.17196642081825 L 5.535533905932718,8.535533905932757 L 5.171966420818207,8.865052266813702 L 4.7778511650979905,9.157348061512739 L 4.356983684129968,9.409606321741785 L 3.9134171618254294,9.619397662556441 L 3.4514233862722934,9.78470167866105 L 3.005084444061731,9.896503763510374 L 3.0,9.999999999999993 L 3.0337069132946217,10.686119982306918 L 3.134503037177385,11.365632254112892 L 3.301417649874537,12.031992740781233 L 3.5328432724209913,12.678784026555626 L 3.8265511495615128,13.299777157781982 L 4.179712713882182,13.888991631137213 L 4.58892682646084,14.440752989145517 L 5.050252531694166,14.949747468305832 L 5.559247010854478,15.411073173539156 L 6.111008368862779,15.820287286117814 L 6.700222842218009,16.173448850438483 L 7.321215973444362,16.467156727579003 L 7.968007259218751,16.69858235012546 L 8.634367745887086,16.86549696282261 L 9.313880017693059,16.966293086705377 L 9.99999999999998,17.0 L 10.686119982306902,16.96629308670538 L 11.365632254112874,16.86549696282262 L 12.031992740781211,16.69858235012547 L 12.6787840265556,16.467156727579017 L 13.299777157781955,16.1734488504385 L 13.888991631137188,15.820287286117836 L 14.44075298914549,15.411073173539181 L 14.949747468305805,14.94974746830586 L 15.411073173539133,14.440752989145551 L 15.820287286117793,13.888991631137252 L 16.17344885043846,13.299777157782025 L 16.46715672757899,12.678784026555673 L 16.69858235012545,12.031992740781284 L 16.865496962822604,11.365632254112949 L 16.966293086705374,10.686119982306979 L 17.0,10.000000000000057 L 17.0,10.0 L 16.966293086705377,9.313880017693076 L 16.865496962822615,8.634367745887104 L 16.698582350125463,7.968007259218766 L 16.46715672757901,7.3212159734443745 L 16.173448850438486,6.70022284221802 L 15.820287286117818,6.111008368862787 L 15.411073173539162,5.559247010854485 L 14.949747468305837,5.050252531694172 L 14.440752989145523,4.588926826460845 L 13.888991631137221,4.1797127138821875 L 13.299777157781989,3.826551149561519 L 12.678784026555636,3.5328432724209957 L 12.031992740781245,3.3014176498745407 L 11.365632254112906,3.1345030371773888 L 10.686119982306934,3.0337069132946226 L 10.00000000000001,3.0 L 9.313880017693087,3.033706913294621 L 8.634367745887115,3.1345030371773843 L 7.968007259218776,3.3014176498745345 L 7.321215973444385,3.5328432724209877 L 6.838007159204074,3.761384020956865 z\" /><path fill-rule=\"evenodd\" fill=\"#66cc99\" stroke=\"#555555\" stroke-width=\"0.43200000000000005\" opacity=\"0.6\" d=\"M 6.838007159204074,3.761384020956865 L 6.784701678661045,3.5485766137276897 L 6.619397662556435,3.086582838174553 L 6.4096063217417765,2.643016315870014 L 6.157348061512728,2.2221488349019913 L 5.865052266813687,1.8280335791817754 L 5.53553390593274,1.4644660940672654 L 5.171966420818231,1.1349477331863183 L 4.777851165098015,0.8426519384872764 L 4.356983684129993,0.5903936782582271 L 3.9134171618254543,0.38060233744356875 L 3.4514233862723183,0.21529832133895788 L 2.9754516100806483,0.09607359798384874 L 2.4900857016478106,0.02407636663901691 L 2.000000000000008,0.0 L 1.5099142983522056,0.024076366639015134 L 1.0245483899193677,0.09607359798384607 L 0.5485766137276975,0.21529832133895344 L 0.0865828381745608,0.38060233744356253 L -0.3569836841299785,0.59039367825822 L -0.7778511650980025,0.8426519384872684 L -1.1719664208182197,1.134947733186309 L -1.535533905932731,1.464466094067256 L -1.8650522668136795,1.8280335791817661 L -2.157348061512722,2.222148834901982 L -2.409606321741771,2.643016315870005 L -2.6193976625564312,3.0865828381745444 L -2.784701678661042,3.5485766137276817 L -2.9039264020161513,4.024548389919353 L -2.975923633360984,4.509914298352191 L -3.0,4.999999999999995 L -2.975923633360985,5.490085701647798 L -2.903926402016153,5.975451610080637 L -2.7847016786610457,6.4514233862723085 L -2.619397662556435,6.913417161825446 L -2.4096063217417765,7.356983684129986 L -2.157348061512727,7.77785116509801 L -1.8650522668136853,8.171966420818226 L -1.5355339059327386,8.535533905932738 L -1.1719664208182294,8.865052266813684 L -0.7778511650980149,9.157348061512725 L -0.3569836841299936,9.409606321741773 L 0.08658283817454415,9.61939766255643 L 0.5485766137276795,9.784701678661042 L 1.024548389919348,9.90392640201615 L 1.5099142983521845,9.975923633360983 L 1.9999999999999858,10.0 L 2.490085701647787,9.975923633360985 L 2.975451610080624,9.903926402016156 L 3.005084444061731,9.896503763510374 L 3.0337069132946226,9.313880017693068 L 3.1345030371773888,8.634367745887094 L 3.3014176498745407,7.968007259218755 L 3.5328432724209966,7.321215973444362 L 3.82655114956152,6.700222842218007 L 4.179712713882189,6.111008368862775 L 4.588926826460849,5.559247010854472 L 5.050252531694176,5.050252531694158 L 5.5592470108544925,4.588926826460833 L 6.111008368862796,4.179712713882176 L 6.7002228422180306,3.8265511495615074 L 6.838007159204074,3.761384020956865 z\" /></g></g></svg>"
          },
          "metadata": {
            "tags": []
          },
          "execution_count": 19
        }
      ]
    },
    {
      "cell_type": "markdown",
      "metadata": {
        "id": "9c4-2XT2dvRP",
        "colab_type": "text"
      },
      "source": [
        "### Constructive methods\n",
        "These methods create new objects not derived from set-theoretic analysis.\n",
        "\n",
        "We've already seen some, such as `.buffer()`"
      ]
    },
    {
      "cell_type": "code",
      "metadata": {
        "id": "fZJoIzM2dpux",
        "colab_type": "code",
        "colab": {}
      },
      "source": [
        "# get the region around a line\n",
        "buffered_line = LineString([(0,0),(5,5),(-1,5)]).buffer(1)"
      ],
      "execution_count": 0,
      "outputs": []
    },
    {
      "cell_type": "code",
      "metadata": {
        "id": "9AD9YIp_eHSJ",
        "colab_type": "code",
        "outputId": "36612170-f135-482f-ed51-459d521ca079",
        "colab": {
          "base_uri": "https://localhost:8080/",
          "height": 121
        }
      },
      "source": [
        "# convex hull is the smallest convex polygon with contains all the points in the objects\n",
        "buffered_line.convex_hull\n",
        "# convex hull can be thought of the shape that a rubber band would make if you wrapped it around the outside of the object"
      ],
      "execution_count": 0,
      "outputs": [
        {
          "output_type": "execute_result",
          "data": {
            "text/plain": [
              "<shapely.geometry.polygon.Polygon at 0x7f01e384fef0>"
            ],
            "image/svg+xml": "<svg xmlns=\"http://www.w3.org/2000/svg\" xmlns:xlink=\"http://www.w3.org/1999/xlink\" width=\"100.0\" height=\"100.0\" viewBox=\"-2.32 -1.32 8.64 7.640000000000001\" preserveAspectRatio=\"xMinYMin meet\"><g transform=\"matrix(1,0,0,-1,0,5.0)\"><path fill-rule=\"evenodd\" fill=\"#66cc99\" stroke=\"#555555\" stroke-width=\"0.1728\" opacity=\"0.6\" d=\"M -6.049014748177263e-16,-1.0 L -0.09801714032956109,-0.9951847266721968 L -0.19509032201612864,-0.9807852804032304 L -0.2902846772544626,-0.9569403357322088 L -0.3826834323650899,-0.9238795325112867 L -0.4713967368259977,-0.881921264348355 L -0.555570233019602,-0.8314696123025455 L -0.6343932841636454,-0.7730104533627371 L -0.7071067811865475,-0.7071067811865476 L -0.7730104533627367,-0.6343932841636458 L -0.8314696123025448,-0.5555702330196028 L -0.8819212643483547,-0.47139673682599825 L -0.9238795325112865,-0.3826834323650903 L -0.9569403357322086,-0.2902846772544632 L -0.9807852804032302,-0.19509032201612947 L -1.9807852804032304,4.804909677983872 L -1.995184726672197,4.90198285967044 L -2.0,5.0 L -1.995184726672197,5.09801714032956 L -1.9807852804032304,5.195090322016128 L -1.9569403357322088,5.290284677254462 L -1.923879532511287,5.38268343236509 L -1.8819212643483554,5.471396736825997 L -1.8314696123025458,5.555570233019601 L -1.7730104533627378,5.634393284163645 L -1.7071067811865488,5.707106781186546 L -1.634393284163647,5.773010453362736 L -1.5555702330196042,5.831469612302544 L -1.4713967368260001,5.881921264348354 L -1.3826834323650925,5.923879532511286 L -1.2902846772544656,5.956940335732208 L -1.195090322016132,5.9807852804032295 L -1.0980171403295647,5.995184726672196 L -1.0000000000000044,6.0 L 5.0,6.0 L 5.098017140329561,5.995184726672197 L 5.195090322016128,5.98078528040323 L 5.290284677254462,5.956940335732209 L 5.38268343236509,5.923879532511287 L 5.471396736825998,5.881921264348355 L 5.555570233019602,5.831469612302545 L 5.634393284163646,5.773010453362737 L 5.707106781186548,5.707106781186548 L 5.773010453362737,5.634393284163646 L 5.831469612302545,5.555570233019602 L 5.881921264348355,5.471396736825998 L 5.923879532511287,5.38268343236509 L 5.956940335732209,5.290284677254462 L 5.98078528040323,5.195090322016128 L 5.995184726672197,5.09801714032956 L 6.0,5.0 L 5.995184726672197,4.901982859670439 L 5.98078528040323,4.804909677983871 L 5.956940335732209,4.709715322745537 L 5.923879532511286,4.6173165676349095 L 5.881921264348355,4.528603263174001 L 5.831469612302545,4.444429766980397 L 5.773010453362736,4.365606715836353 L 5.707106781186548,4.292893218813452 L 0.7071067811865475,-0.7071067811865475 L 0.6343932841636444,-0.7730104533627379 L 0.5555702330196012,-0.8314696123025459 L 0.4713967368259966,-0.8819212643483556 L 0.3826834323650888,-0.9238795325112872 L 0.29028467725446144,-0.9569403357322092 L 0.19509032201612744,-0.9807852804032307 L 0.09801714032955988,-0.9951847266721969 L -6.049014748177263e-16,-1.0 z\" /></g></svg>"
          },
          "metadata": {
            "tags": []
          },
          "execution_count": 29
        }
      ]
    },
    {
      "cell_type": "code",
      "metadata": {
        "id": "HKIoDpokejqI",
        "colab_type": "code",
        "outputId": "55387792-f5db-4d3e-9080-9bb27e2b0e7d",
        "colab": {
          "base_uri": "https://localhost:8080/",
          "height": 121
        }
      },
      "source": [
        "# can work on points also\n",
        "point4 = Point(20,-30)\n",
        "MultiPoint([point1, point2, point3, point4])"
      ],
      "execution_count": 0,
      "outputs": [
        {
          "output_type": "execute_result",
          "data": {
            "text/plain": [
              "<shapely.geometry.multipoint.MultiPoint at 0x7f01e385c7f0>"
            ],
            "image/svg+xml": "<svg xmlns=\"http://www.w3.org/2000/svg\" xmlns:xlink=\"http://www.w3.org/1999/xlink\" width=\"100.0\" height=\"100.0\" viewBox=\"0.8320000000000001 -31.368 20.535999999999998 36.936\" preserveAspectRatio=\"xMinYMin meet\"><g transform=\"matrix(1,0,0,-1,0,-25.799999999999997)\"><g><circle cx=\"2.2\" cy=\"4.2\" r=\"1.1080800000000002\" stroke=\"#555555\" stroke-width=\"0.36936\" fill=\"#66cc99\" opacity=\"0.6\" /><circle cx=\"7.2\" cy=\"-25.1\" r=\"1.1080800000000002\" stroke=\"#555555\" stroke-width=\"0.36936\" fill=\"#66cc99\" opacity=\"0.6\" /><circle cx=\"9.26\" cy=\"-2.456\" r=\"1.1080800000000002\" stroke=\"#555555\" stroke-width=\"0.36936\" fill=\"#66cc99\" opacity=\"0.6\" /><circle cx=\"20.0\" cy=\"-30.0\" r=\"1.1080800000000002\" stroke=\"#555555\" stroke-width=\"0.36936\" fill=\"#66cc99\" opacity=\"0.6\" /></g></g></svg>"
          },
          "metadata": {
            "tags": []
          },
          "execution_count": 40
        }
      ]
    },
    {
      "cell_type": "code",
      "metadata": {
        "id": "DgDCY7lcfjOu",
        "colab_type": "code",
        "outputId": "5e8fbea7-5a54-413d-e542-dbffffee0aed",
        "colab": {
          "base_uri": "https://localhost:8080/",
          "height": 121
        }
      },
      "source": [
        "MultiPoint([point1, point2, point3, point4]).convex_hull"
      ],
      "execution_count": 0,
      "outputs": [
        {
          "output_type": "execute_result",
          "data": {
            "text/plain": [
              "<shapely.geometry.polygon.Polygon at 0x7f01e385c588>"
            ],
            "image/svg+xml": "<svg xmlns=\"http://www.w3.org/2000/svg\" xmlns:xlink=\"http://www.w3.org/1999/xlink\" width=\"100.0\" height=\"100.0\" viewBox=\"0.8320000000000001 -31.368 20.535999999999998 36.936\" preserveAspectRatio=\"xMinYMin meet\"><g transform=\"matrix(1,0,0,-1,0,-25.799999999999997)\"><path fill-rule=\"evenodd\" fill=\"#66cc99\" stroke=\"#555555\" stroke-width=\"0.73872\" opacity=\"0.6\" d=\"M 20.0,-30.0 L 7.2,-25.1 L 2.2,4.2 L 9.26,-2.456 L 20.0,-30.0 z\" /></g></svg>"
          },
          "metadata": {
            "tags": []
          },
          "execution_count": 41
        }
      ]
    },
    {
      "cell_type": "code",
      "metadata": {
        "id": "-uTr_9ixe8VS",
        "colab_type": "code",
        "outputId": "ecd28cf4-1dc0-44f9-a988-1e4e2a8f731d",
        "colab": {
          "base_uri": "https://localhost:8080/",
          "height": 121
        }
      },
      "source": [
        "# envelope finds the smallest upright rectangle that contains the object\n",
        "MultiPoint([point1, point2, point3, point4]).envelope"
      ],
      "execution_count": 0,
      "outputs": [
        {
          "output_type": "execute_result",
          "data": {
            "text/plain": [
              "<shapely.geometry.polygon.Polygon at 0x7f01e3b5b128>"
            ],
            "image/svg+xml": "<svg xmlns=\"http://www.w3.org/2000/svg\" xmlns:xlink=\"http://www.w3.org/1999/xlink\" width=\"100.0\" height=\"100.0\" viewBox=\"0.8320000000000001 -31.368 20.535999999999998 36.936\" preserveAspectRatio=\"xMinYMin meet\"><g transform=\"matrix(1,0,0,-1,0,-25.799999999999997)\"><path fill-rule=\"evenodd\" fill=\"#66cc99\" stroke=\"#555555\" stroke-width=\"0.73872\" opacity=\"0.6\" d=\"M 2.2,-30.0 L 20.0,-30.0 L 20.0,4.2 L 2.2,4.2 L 2.2,-30.0 z\" /></g></svg>"
          },
          "metadata": {
            "tags": []
          },
          "execution_count": 38
        }
      ]
    },
    {
      "cell_type": "code",
      "metadata": {
        "id": "jzkfqkKzfevw",
        "colab_type": "code",
        "outputId": "6be37e89-6b5a-49e4-cd88-30b4bf0046e7",
        "colab": {
          "base_uri": "https://localhost:8080/",
          "height": 121
        }
      },
      "source": [
        "# minimum_rotated_rectangle allows for tilted rectangles\n",
        "MultiPoint([point1, point2, point3, point4]).minimum_rotated_rectangle"
      ],
      "execution_count": 0,
      "outputs": [
        {
          "output_type": "execute_result",
          "data": {
            "text/plain": [
              "<shapely.geometry.polygon.Polygon at 0x7f01e385cac8>"
            ],
            "image/svg+xml": "<svg xmlns=\"http://www.w3.org/2000/svg\" xmlns:xlink=\"http://www.w3.org/1999/xlink\" width=\"100.0\" height=\"100.0\" viewBox=\"-4.9526813335302835 -35.26151559647518 26.528552164280224 42.548512430248465\" preserveAspectRatio=\"xMinYMin meet\"><g transform=\"matrix(1,0,0,-1,0,-27.974518762701887)\"><path fill-rule=\"evenodd\" fill=\"#66cc99\" stroke=\"#555555\" stroke-width=\"0.8509702486049693\" opacity=\"0.6\" d=\"M -3.3768105027803403,2.0254812372981106 L 10.547728172519935,-33.685644765725236 L 20.0,-30.0 L 6.075461324699727,5.711126003023347 L -3.3768105027803403,2.0254812372981106 z\" /></g></svg>"
          },
          "metadata": {
            "tags": []
          },
          "execution_count": 42
        }
      ]
    },
    {
      "cell_type": "code",
      "metadata": {
        "id": "aHtcR2S5f0tk",
        "colab_type": "code",
        "outputId": "35b16768-6dc0-4e08-dae4-031af427ba64",
        "colab": {
          "base_uri": "https://localhost:8080/",
          "height": 286
        }
      },
      "source": [
        "# parallel_offset creates a linestring that's a fixed distance from an object on left or right side\n",
        "original_line = LineString([(0,0),(5,5),(-1,5)])\n",
        "offset_line_left = original_line.parallel_offset(1,'left')\n",
        "offset_line_right_round = original_line.parallel_offset(1,'right',join_style=1)\n",
        "offset_line_right_sharp = original_line.parallel_offset(2,'right',join_style=2)\n",
        "offset_line_right_flat = original_line.parallel_offset(3,'right',join_style=3)\n",
        "plt.plot(original_line.xy[0], original_line.xy[1],'black')\n",
        "plt.plot(offset_line_left.xy[0], offset_line_left.xy[1],'red')\n",
        "plt.plot(offset_line_right_round.xy[0], offset_line_right_round.xy[1],'blue')\n",
        "plt.plot(offset_line_right_sharp.xy[0], offset_line_right_sharp.xy[1],'#AA33FF')\n",
        "plt.plot(offset_line_right_flat.xy[0], offset_line_right_flat.xy[1],'#33AAFF')\n"
      ],
      "execution_count": 0,
      "outputs": [
        {
          "output_type": "execute_result",
          "data": {
            "text/plain": [
              "[<matplotlib.lines.Line2D at 0x7f01e0c60630>]"
            ]
          },
          "metadata": {
            "tags": []
          },
          "execution_count": 55
        },
        {
          "output_type": "display_data",
          "data": {
            "image/png": "[encoded data removed]",
            "text/plain": [
              "<Figure size 432x288 with 1 Axes>"
            ]
          },
          "metadata": {
            "tags": []
          }
        }
      ]
    },
    {
      "cell_type": "markdown",
      "metadata": {
        "id": "cVqYrJ7lhWzP",
        "colab_type": "text"
      },
      "source": [
        "Join styles are documented [here](https://shapely.readthedocs.io/en/latest/manual.html#shapely.geometry.JOIN_STYLE)"
      ]
    },
    {
      "cell_type": "markdown",
      "metadata": {
        "id": "BA1SIS6Eiga_",
        "colab_type": "text"
      },
      "source": [
        "### Affine transformations\n",
        "You can performarbitrary linear transformations of objects (scale, skew, translate, rotate) using the `affine_transformation` function\n",
        "\n",
        "\n",
        "\n",
        "`affine_transform(geom, matrix_params)` transforms the object geom using the below matrix.\n",
        "$\\begin{split}\\begin{bmatrix}\n",
        "  x' \\\\\n",
        "  y' \\\\\n",
        "  1\n",
        "\\end{bmatrix} =\n",
        "\\begin{bmatrix}\n",
        "  a & b & x_\\mathrm{off} \\\\\n",
        "  d & e & y_\\mathrm{off} \\\\\n",
        "  0 & 0 & 1\n",
        "\\end{bmatrix}\n",
        "\\begin{bmatrix}\n",
        "  x \\\\\n",
        "  y \\\\\n",
        "  1\n",
        "\\end{bmatrix}\\end{split}$\n",
        "\n",
        " Where `matrix_params` is a 6-tuple or list with entries\n",
        "`[a, b, d, e, x_off, y_off]`\n",
        "where:\n",
        "- `a` represents the scaling factor in the x direction\n",
        "- `b` represents the shearing factor in the x direction\n",
        "- `d` represents the shearing factor in the y direction\n",
        "- `e` represnts the scaling factor in the y direction\n",
        "- `x_off` represents the offset (translation) amount in the x direction\n",
        "- `y_off` represents the offset (translation) amount in the y direction"
      ]
    },
    {
      "cell_type": "code",
      "metadata": {
        "id": "UcMwFi0VjHfP",
        "colab_type": "code",
        "colab": {}
      },
      "source": [
        "from shapely.affinity import affine_transform, rotate, skew, scale, translate"
      ],
      "execution_count": 0,
      "outputs": []
    },
    {
      "cell_type": "markdown",
      "metadata": {
        "id": "N3689DAtjqlC",
        "colab_type": "text"
      },
      "source": [
        "`affine_transformation` is very powerful, but it can be complicated to figure out the parameters by hand. Fortunately, common transformations have built-in functions:\n",
        "- [rotate](https://shapely.readthedocs.io/en/latest/manual.html#shapely.affinity.rotate)\n",
        "- [scale](https://shapely.readthedocs.io/en/latest/manual.html#shapely.affinity.scale)\n",
        "- [skew](https://shapely.readthedocs.io/en/latest/manual.html#shapely.affinity.skew)\n",
        "- [translate](https://shapely.readthedocs.io/en/latest/manual.html#shapely.affinity.translate)"
      ]
    },
    {
      "cell_type": "code",
      "metadata": {
        "id": "2luh8t5TjrCu",
        "colab_type": "code",
        "outputId": "68879d0a-7b34-43f4-f9c1-fb31c5925e22",
        "colab": {
          "base_uri": "https://localhost:8080/",
          "height": 121
        }
      },
      "source": [
        "rect = Polygon([(0,0),(1,0),(1,2),(0,2)])\n",
        "rect"
      ],
      "execution_count": 0,
      "outputs": [
        {
          "output_type": "execute_result",
          "data": {
            "text/plain": [
              "<shapely.geometry.polygon.Polygon at 0x7f0beda35d30>"
            ],
            "image/svg+xml": "<svg xmlns=\"http://www.w3.org/2000/svg\" xmlns:xlink=\"http://www.w3.org/1999/xlink\" width=\"100.0\" height=\"100.0\" viewBox=\"-0.08 -0.08 1.1600000000000001 2.16\" preserveAspectRatio=\"xMinYMin meet\"><g transform=\"matrix(1,0,0,-1,0,2.0)\"><path fill-rule=\"evenodd\" fill=\"#66cc99\" stroke=\"#555555\" stroke-width=\"0.0432\" opacity=\"0.6\" d=\"M 0.0,0.0 L 1.0,0.0 L 1.0,2.0 L 0.0,2.0 L 0.0,0.0 z\" /></g></svg>"
          },
          "metadata": {
            "tags": []
          },
          "execution_count": 34
        }
      ]
    },
    {
      "cell_type": "code",
      "metadata": {
        "id": "ZznSV4QbsSqq",
        "colab_type": "code",
        "outputId": "a5103f20-7c19-4481-bccc-96aa1d87cc0a",
        "colab": {
          "base_uri": "https://localhost:8080/",
          "height": 121
        }
      },
      "source": [
        "#rotate square by 45 degrees counter-clockwise (right hand rule determines direction)\n",
        "rotate(rect,45) "
      ],
      "execution_count": 0,
      "outputs": [
        {
          "output_type": "execute_result",
          "data": {
            "text/plain": [
              "<shapely.geometry.polygon.Polygon at 0x7f0beda1eb38>"
            ],
            "image/svg+xml": "<svg xmlns=\"http://www.w3.org/2000/svg\" xmlns:xlink=\"http://www.w3.org/1999/xlink\" width=\"100.0\" height=\"100.0\" viewBox=\"-0.6455129855222069 -0.14551298552220704 2.291025971044414 2.291025971044414\" preserveAspectRatio=\"xMinYMin meet\"><g transform=\"matrix(1,0,0,-1,0,2.0)\"><path fill-rule=\"evenodd\" fill=\"#66cc99\" stroke=\"#555555\" stroke-width=\"0.04582051942088828\" opacity=\"0.6\" d=\"M 0.8535533905932737,-0.060660171779821304 L 1.5606601717798214,0.6464466094067262 L 0.14644660940672638,2.0606601717798214 L -0.5606601717798212,1.353553390593274 L 0.8535533905932737,-0.060660171779821304 z\" /></g></svg>"
          },
          "metadata": {
            "tags": []
          },
          "execution_count": 37
        }
      ]
    },
    {
      "cell_type": "code",
      "metadata": {
        "id": "DOuJCsfwsV4p",
        "colab_type": "code",
        "colab": {}
      },
      "source": [
        "skew(rect, 45)"
      ],
      "execution_count": 0,
      "outputs": []
    },
    {
      "cell_type": "markdown",
      "metadata": {
        "id": "DbqVTa8wss86",
        "colab_type": "text"
      },
      "source": [
        "The usage for skew is:\n",
        "\n",
        "`shapely.affinity.skew(geom, xs=0.0, ys=0.0, origin='center', use_radians=False)`\n",
        "\n",
        "where `xs` is the skew in the x direct, and `ys` is in the y direction"
      ]
    },
    {
      "cell_type": "markdown",
      "metadata": {
        "id": "wbyp8QS7ne-Q",
        "colab_type": "text"
      },
      "source": [
        "# Exercises"
      ]
    },
    {
      "cell_type": "markdown",
      "metadata": {
        "id": "ouuSmdSenmaq",
        "colab_type": "text"
      },
      "source": [
        "## Visualizing hurricane cone of uncertainty\n",
        "\n",
        "This is a common way of visualizing the possible hurricane paths. Thousands of simulations are run to forecast where the hurricane might be for each time step in the future. The larger circles the further out into the future we go represent the greater uncertainty about where the hurricane might be (not the actual size or power of the hurricane)\n",
        "![hurricane cone](https://www.weathernationtv.com/app/uploads/2016/10/C-Path-e1475672445449.jpg)\n",
        "\n",
        "In this exercise, you'll be given a set of forecasted locations for each time step in the future. Your job is to create an object that joins them together to create this style of continuous cone."
      ]
    },
    {
      "cell_type": "code",
      "metadata": {
        "id": "eJicVDEDkn_h",
        "colab_type": "code",
        "outputId": "6100e17c-bdda-4b3b-d1a3-ce0501502ac9",
        "colab": {
          "base_uri": "https://localhost:8080/",
          "height": 121
        }
      },
      "source": [
        "forecast1 = Point(0,0).buffer(0.3)\n",
        "forecast2 = Point(-1,1.3).buffer(0.5)\n",
        "forecast3 = Point(-2.2,2.4).buffer(1)\n",
        "forecast4 = Point(-2.5,4.6).buffer(1.5)\n",
        "forecast5 = Point(-1,8.1).buffer(2.2)\n",
        "forecast6 = Point(3,8.5).buffer(2.6)\n",
        "\n",
        "all_forecasts = MultiPolygon([forecast1,\n",
        "                              forecast2,\n",
        "                              forecast3,\n",
        "                              forecast4,\n",
        "                              forecast5,\n",
        "                              forecast6])\n",
        "all_forecasts"
      ],
      "execution_count": 0,
      "outputs": [
        {
          "output_type": "execute_result",
          "data": {
            "text/plain": [
              "<shapely.geometry.multipolygon.MultiPolygon at 0x7f0beda35588>"
            ],
            "image/svg+xml": "<svg xmlns=\"http://www.w3.org/2000/svg\" xmlns:xlink=\"http://www.w3.org/1999/xlink\" width=\"100.0\" height=\"100.0\" viewBox=\"-4.456 -0.756 10.512 12.312\" preserveAspectRatio=\"xMinYMin meet\"><g transform=\"matrix(1,0,0,-1,0,10.799999999999999)\"><g><path fill-rule=\"evenodd\" fill=\"#ff3333\" stroke=\"#555555\" stroke-width=\"0.24624\" opacity=\"0.6\" d=\"M 0.3,0.0 L 0.2985554180016591,-0.029405142098868152 L 0.2942355841209692,-0.05852709660483842 L 0.28708210071966267,-0.08708540317633863 L 0.2771638597533861,-0.11480502970952682 L 0.26457637930450656,-0.14141902104779916 L 0.24944088369076367,-0.16667106990588051 L 0.23190313600882123,-0.19031798524909346 L 0.21213203435596442,-0.21213203435596406 L 0.19031798524909388,-0.2319031360088209 L 0.1666710699058809,-0.2494408836907634 L 0.14141902104779958,-0.26457637930450634 L 0.11480502970952725,-0.27716385975338587 L 0.08708540317633907,-0.28708210071966256 L 0.05852709660483889,-0.29423558412096906 L 0.029405142098868624,-0.298555418001659 L 4.84663372329776e-16,-0.3 L -0.029405142098867663,-0.2985554180016591 L -0.05852709660483794,-0.29423558412096923 L -0.08708540317633814,-0.2870821007196628 L -0.11480502970952634,-0.27716385975338625 L -0.14141902104779872,-0.2645763793045068 L -0.16667106990588015,-0.2494408836907639 L -0.19031798524909319,-0.23190313600882145 L -0.21213203435596387,-0.21213203435596464 L -0.23190313600882076,-0.19031798524909405 L -0.24944088369076328,-0.16667106990588107 L -0.2645763793045063,-0.14141902104779971 L -0.27716385975338587,-0.11480502970952733 L -0.28708210071966256,-0.0870854031763391 L -0.29423558412096906,-0.05852709660483884 L -0.298555418001659,-0.029405142098868513 L -0.3,-3.0319292988445817e-16 L -0.2985554180016591,0.02940514209886791 L -0.2942355841209692,0.05852709660483825 L -0.2870821007196627,0.08708540317633852 L -0.2771638597533861,0.11480502970952676 L -0.26457637930450656,0.14141902104779916 L -0.24944088369076362,0.16667106990588057 L -0.23190313600882112,0.19031798524909357 L -0.2121320343559643,0.21213203435596423 L -0.19031798524909377,0.23190313600882098 L -0.16667106990588088,0.24944088369076342 L -0.1414190210477996,0.26457637930450634 L -0.11480502970952734,0.27716385975338587 L -0.08708540317633923,0.2870821007196625 L -0.058527096604839124,0.294235584120969 L -0.02940514209886893,0.29855541800165897 L -8.544696836917436e-16,0.3 L 0.029405142098867226,0.29855541800165913 L 0.05852709660483744,0.29423558412096934 L 0.0870854031763376,0.28708210071966295 L 0.11480502970952576,0.27716385975338653 L 0.14141902104779808,0.2645763793045071 L 0.16667106990587946,0.24944088369076436 L 0.19031798524909244,0.23190313600882206 L 0.21213203435596306,0.21213203435596542 L 0.23190313600881995,0.19031798524909502 L 0.24944088369076253,0.1666710699058822 L 0.26457637930450556,0.14141902104780102 L 0.2771638597533852,0.11480502970952884 L 0.287082100719662,0.08708540317634078 L 0.2942355841209687,0.058527096604840706 L 0.29855541800165886,0.02940514209887054 L 0.3,2.4715605411391792e-15 L 0.3,0.0 z\" /><path fill-rule=\"evenodd\" fill=\"#ff3333\" stroke=\"#555555\" stroke-width=\"0.24624\" opacity=\"0.6\" d=\"M -0.5,1.3 L -0.5024076366639015,1.2509914298352198 L -0.5096073597983848,1.202454838991936 L -0.5215298321338955,1.154857661372769 L -0.5380602337443565,1.1086582838174555 L -0.5590393678258223,1.0643016315870015 L -0.5842651938487272,1.0222148834901992 L -0.6134947733186313,0.9828033579181776 L -0.6464466094067259,0.9464466094067265 L -0.6828033579181769,0.9134947733186318 L -0.7222148834901985,0.8842651938487277 L -0.7643016315870007,0.8590393678258228 L -0.8086582838174545,0.8380602337443569 L -0.8548576613727682,0.8215298321338957 L -0.9024548389919351,0.8096073597983849 L -0.950991429835219,0.8024076366639017 L -0.9999999999999992,0.8 L -1.0490085701647796,0.8024076366639015 L -1.0975451610080633,0.8096073597983846 L -1.1451423386272301,0.8215298321338953 L -1.191341716182544,0.8380602337443563 L -1.2356983684129978,0.859039367825822 L -1.2777851165098002,0.8842651938487269 L -1.317196642081822,0.9134947733186309 L -1.353553390593273,0.9464466094067256 L -1.386505226681368,0.9828033579181766 L -1.4157348061512722,1.0222148834901983 L -1.440960632174177,1.0643016315870004 L -1.461939766255643,1.1086582838174546 L -1.4784701678661043,1.1548576613727681 L -1.4903926402016152,1.2024548389919354 L -1.4975923633360984,1.2509914298352192 L -1.5,1.2999999999999996 L -1.4975923633360986,1.3490085701647798 L -1.4903926402016152,1.3975451610080638 L -1.4784701678661045,1.4451423386272308 L -1.4619397662556435,1.4913417161825446 L -1.4409606321741777,1.5356983684129988 L -1.4157348061512727,1.577785116509801 L -1.3865052266813684,1.6171966420818227 L -1.353553390593274,1.6535533905932738 L -1.3171966420818229,1.6865052266813683 L -1.2777851165098015,1.7157348061512725 L -1.2356983684129994,1.7409606321741773 L -1.1913417161825457,1.761939766255643 L -1.1451423386272321,1.7784701678661041 L -1.0975451610080653,1.790392640201615 L -1.0490085701647816,1.7975923633360984 L -1.0000000000000013,1.8 L -0.9509914298352213,1.7975923633360986 L -0.9024548389919376,1.7903926402016155 L -0.8548576613727706,1.778470167866105 L -0.8086582838174571,1.7619397662556442 L -0.7643016315870031,1.7409606321741786 L -0.7222148834902009,1.715734806151274 L -0.6828033579181793,1.68650522668137 L -0.6464466094067283,1.6535533905932758 L -0.6134947733186333,1.6171966420818251 L -0.5842651938487291,1.5777851165098038 L -0.5590393678258241,1.5356983684130017 L -0.538060233744358,1.4913417161825482 L -0.5215298321338966,1.4451423386272346 L -0.5096073597983855,1.3975451610080678 L -0.5024076366639019,1.3490085701647843 L -0.5,1.3000000000000043 L -0.5,1.3 z\" /><path fill-rule=\"evenodd\" fill=\"#ff3333\" stroke=\"#555555\" stroke-width=\"0.24624\" opacity=\"0.6\" d=\"M -1.2000000000000002,2.4 L -1.2048152733278032,2.3019828596704395 L -1.2192147195967697,2.204909677983872 L -1.2430596642677911,2.109715322745538 L -1.2761204674887132,2.0173165676349107 L -1.3180787356516448,1.9286032631740027 L -1.3685303876974546,1.8444297669803982 L -1.4269895466372629,1.765606715836355 L -1.492893218813452,1.692893218813453 L -1.565606715836354,1.6269895466372635 L -1.6444297669803971,1.5685303876974552 L -1.7286032631740016,1.5180787356516454 L -1.8173165676349092,1.4761204674887136 L -1.9097153227455366,1.4430596642677913 L -2.0049096779838704,1.4192147195967697 L -2.101982859670438,1.4048152733278032 L -2.1999999999999984,1.4 L -2.2980171403295593,1.4048152733278028 L -2.395090322016127,1.419214719596769 L -2.4902846772544605,1.4430596642677904 L -2.582683432365088,1.4761204674887125 L -2.671396736825996,1.5180787356516439 L -2.7555702330196006,1.5685303876974537 L -2.834393284163644,1.6269895466372617 L -2.9071067811865463,1.6928932188134511 L -2.973010453362736,1.765606715836353 L -3.0314696123025446,1.8444297669803964 L -3.0819212643483542,1.9286032631740009 L -3.1238795325112862,2.017316567634909 L -3.156940335732209,2.109715322745536 L -3.1807852804032306,2.2049096779838706 L -3.195184726672197,2.301982859670438 L -3.2,2.399999999999999 L -3.1951847266721973,2.4980171403295595 L -3.1807852804032306,2.5950903220161274 L -3.1569403357322092,2.6902846772544615 L -3.123879532511287,2.782683432365089 L -3.0819212643483556,2.8713967368259974 L -3.0314696123025455,2.9555702330196016 L -2.973010453362737,3.034393284163645 L -2.907106781186548,3.1071067811865474 L -2.834393284163646,3.1730104533627363 L -2.7555702330196032,3.231469612302545 L -2.671396736825999,3.2819212643483544 L -2.5826834323650916,3.323879532511286 L -2.4902846772544645,3.356940335732208 L -2.395090322016131,3.38078528040323 L -2.2980171403295633,3.3951847266721966 L -2.200000000000003,3.4 L -2.101982859670443,3.395184726672197 L -2.0049096779838753,3.380785280403231 L -1.9097153227455415,3.35694033573221 L -1.8173165676349143,3.323879532511288 L -1.7286032631740065,3.281921264348357 L -1.644429766980402,3.231469612302548 L -1.5656067158363587,3.17301045336274 L -1.4928932188134567,3.1071067811865514 L -1.4269895466372668,3.03439328416365 L -1.3685303876974584,2.9555702330196074 L -1.3180787356516483,2.871396736826003 L -1.276120467488716,2.782683432365096 L -1.2430596642677934,2.690284677254469 L -1.219214719596771,2.5950903220161354 L -1.204815273327804,2.4980171403295683 L -1.2000000000000002,2.4000000000000083 L -1.2000000000000002,2.4 z\" /><path fill-rule=\"evenodd\" fill=\"#ff3333\" stroke=\"#555555\" stroke-width=\"0.24624\" opacity=\"0.6\" d=\"M -1.0,4.6 L -1.0072229099917047,4.452974289505659 L -1.0288220793951541,4.307364516975808 L -1.0645894964016867,4.164572984118307 L -1.1141807012330696,4.025974851452365 L -1.1771181034774671,3.8929048947610037 L -1.2527955815461818,3.766644650470597 L -1.3404843199558938,3.6484100737545324 L -1.4393398282201777,3.5393398282201796 L -1.5484100737545305,3.440484319955895 L -1.6666446504705954,3.3527955815461827 L -1.7929048947610022,3.277118103477468 L -1.9259748514523638,3.21418070123307 L -2.0645729841183047,3.164589496401687 L -2.2073645169758054,3.1288220793951544 L -2.352974289505657,3.1072229099917044 L -2.499999999999998,3.0999999999999996 L -2.647025710494338,3.1072229099917044 L -2.7926354830241897,3.1288220793951536 L -2.935427015881691,3.1645894964016854 L -3.0740251485476318,3.2141807012330683 L -3.2070951052389933,3.2771181034774655 L -3.333355349529401,3.35279558154618 L -3.451589926245466,3.4404843199558925 L -3.560660171779819,3.5393398282201765 L -3.6595156800441035,3.6484100737545293 L -3.7472044184538165,3.766644650470594 L -3.8228818965225315,3.892904894761001 L -3.885819298766929,4.025974851452363 L -3.9354105035983125,4.164572984118304 L -3.971177920604845,4.307364516975806 L -3.9927770900082953,4.452974289505657 L -4.0,4.599999999999998 L -3.9927770900082953,4.74702571049434 L -3.971177920604846,4.892635483024191 L -3.9354105035983133,5.035427015881692 L -3.8858192987669304,5.174025148547633 L -3.822881896522533,5.307095105238996 L -3.7472044184538182,5.4333553495294025 L -3.6595156800441058,5.551589926245468 L -3.5606601717798214,5.660660171779821 L -3.451589926245469,5.759515680044105 L -3.3333553495294046,5.847204418453817 L -3.2070951052389978,5.922881896522531 L -3.0740251485476366,5.985819298766929 L -2.935427015881696,6.035410503598312 L -2.7926354830241955,6.071177920604844 L -2.6470257104943444,6.092777090008294 L -2.5000000000000044,6.1 L -2.352974289505664,6.092777090008296 L -2.207364516975813,6.071177920604846 L -2.0645729841183122,6.035410503598315 L -1.9259748514523711,5.985819298766932 L -1.7929048947610096,5.922881896522536 L -1.6666446504706027,5.847204418453821 L -1.5484100737545377,5.75951568004411 L -1.4393398282201846,5.660660171779827 L -1.3404843199559002,5.551589926245475 L -1.2527955815461873,5.4333553495294105 L -1.177118103477472,5.3070951052390045 L -1.114180701233074,5.174025148547644 L -1.06458949640169,5.035427015881703 L -1.0288220793951566,4.892635483024203 L -1.0072229099917058,4.747025710494352 L -1.0,4.600000000000012 L -1.0,4.6 z\" /><path fill-rule=\"evenodd\" fill=\"#ff3333\" stroke=\"#555555\" stroke-width=\"0.24624\" opacity=\"0.6\" d=\"M 1.2000000000000002,8.1 L 1.1894063986788335,7.884362291274966 L 1.1577276168871076,7.670801291564517 L 1.1052687386108597,7.461373710040183 L 1.0325349715248313,7.2580964487968025 L 0.9402267815663818,7.062927178982806 L 0.8292331470656005,6.877745487356876 L 0.7006229973980225,6.704334774839981 L 0.5556349186104059,6.544365081389596 L 0.3956652251600219,6.399377002601979 L 0.2222545126431268,6.270766852934401 L 0.03707282101719689,6.159773218433619 L -0.15809644879680007,6.067465028475169 L -0.36137371004018004,5.994731261389141 L -0.5708012915645148,5.942272383112893 L -0.7843622912749634,5.910593601321167 L -0.9999999999999964,5.8999999999999995 L -1.2156377087250296,5.910593601321166 L -1.4291987084354782,5.942272383112892 L -1.6386262899598132,5.9947312613891395 L -1.8419035512031932,6.067465028475167 L -2.0370728210171904,6.1597732184336165 L -2.2222545126431212,6.270766852934398 L -2.395665225160017,6.399377002601975 L -2.555634918610402,6.544365081389592 L -2.7006229973980194,6.704334774839976 L -2.829233147065598,6.877745487356871 L -2.9402267815663796,7.062927178982802 L -3.03253497152483,7.258096448796799 L -3.105268738610859,7.46137371004018 L -3.1577276168871067,7.670801291564515 L -3.189406398678833,7.884362291274964 L -3.2,8.099999999999998 L -3.1894063986788335,8.315637708725031 L -3.1577276168871076,8.52919870843548 L -3.10526873861086,8.738626289959816 L -3.0325349715248313,8.941903551203197 L -2.940226781566382,9.137072821017194 L -2.8292331470656,9.322254512643124 L -2.700622997398022,9.49566522516002 L -2.555634918610405,9.655634918610405 L -2.3956652251600214,9.80062299739802 L -2.2222545126431266,9.929233147065599 L -2.037072821017197,10.04022678156638 L -1.8419035512032007,10.13253497152483 L -1.638626289959821,10.205268738610858 L -1.429198708435487,10.257727616887106 L -1.2156377087250387,10.289406398678832 L -1.0000000000000062,10.3 L -0.7843622912749737,10.289406398678834 L -0.5708012915645254,10.257727616887108 L -0.3613737100401909,10.205268738610862 L -0.15809644879681095,10.132534971524834 L 0.03707282101718601,10.040226781566385 L 0.22225451264311613,9.929233147065606 L 0.39566522516001146,9.800622997398028 L 0.5556349186103959,9.655634918610414 L 0.7006229973980131,9.49566522516003 L 0.829233147065592,9.322254512643136 L 0.9402267815663745,9.137072821017208 L 1.032534971524825,8.941903551203211 L 1.1052687386108548,8.738626289959832 L 1.157727616887104,8.529198708435498 L 1.1894063986788317,8.31563770872505 L 1.2000000000000002,8.100000000000017 L 1.2000000000000002,8.1 z\" /><path fill-rule=\"evenodd\" fill=\"#ff3333\" stroke=\"#555555\" stroke-width=\"0.24624\" opacity=\"0.6\" d=\"M 5.6,8.5 L 5.587480289347712,8.245155435143143 L 5.5500417290484,7.992765162758067 L 5.488044872903743,7.745259839138399 L 5.402086784529346,7.505023075850768 L 5.2929952873057236,7.274368484252407 L 5.161820991986619,7.055517394149035 L 5.009827178743118,6.850577461174523 L 4.838477631085025,6.661522368914978 L 4.649422538825481,6.490172821256886 L 4.444482605850968,6.338179008013384 L 4.2256315157475965,6.207004712694278 L 3.994976924149236,6.097913215470656 L 3.7547401608616053,6.0119551270962575 L 3.507234837241937,5.949958270951601 L 3.2548445648568616,5.912519710652289 L 3.000000000000004,5.9 L 2.745155435143147,5.912519710652288 L 2.4927651627580714,5.9499582709515995 L 2.2452598391384027,6.011955127096256 L 2.0050230758507714,6.097913215470653 L 1.7743684842524112,6.207004712694275 L 1.5555173941490386,6.3381790080133795 L 1.3505774611745258,6.4901728212568806 L 1.1615223689149796,6.661522368914973 L 0.9901728212568868,6.8505774611745185 L 0.8381790080133844,7.055517394149031 L 0.7070047126942787,7.274368484252403 L 0.5979132154706557,7.5050230758507634 L 0.5119551270962579,7.745259839138394 L 0.44995827095160124,7.992765162758063 L 0.4125197106522882,8.24515543514314 L 0.3999999999999999,8.499999999999998 L 0.41251971065228776,8.754844564856855 L 0.44995827095160035,9.007234837241931 L 0.5119551270962566,9.254740160861601 L 0.5979132154706539,9.494976924149231 L 0.707004712694276,9.725631515747594 L 0.8381790080133817,9.944482605850965 L 0.9901728212568837,10.149422538825478 L 1.161522368914976,10.338477631085023 L 1.3505774611745205,10.509827178743116 L 1.5555173941490323,10.661820991986616 L 1.7743684842524035,10.792995287305722 L 2.005023075850763,10.902086784529345 L 2.2452598391383933,10.988044872903743 L 2.4927651627580607,11.050041729048399 L 2.7451554351431358,11.087480289347711 L 2.9999999999999925,11.1 L 3.254844564856849,11.087480289347713 L 3.5072348372419246,11.0500417290484 L 3.7547401608615925,10.988044872903746 L 3.9949769241492232,10.90208678452935 L 4.225631515747583,10.792995287305729 L 4.444482605850955,10.661820991986625 L 4.649422538825468,10.509827178743125 L 4.838477631085013,10.338477631085034 L 5.009827178743107,10.14942253882549 L 5.161820991986609,9.944482605850979 L 5.292995287305715,9.725631515747608 L 5.402086784529338,9.49497692414925 L 5.488044872903737,9.25474016086162 L 5.550041729048395,9.007234837241953 L 5.58748028934771,8.754844564856878 L 5.6,8.500000000000021 L 5.6,8.5 z\" /></g></g></svg>"
          },
          "metadata": {
            "tags": []
          },
          "execution_count": 29
        }
      ]
    },
    {
      "cell_type": "markdown",
      "metadata": {
        "id": "8xOoXITQraJA",
        "colab_type": "text"
      },
      "source": [
        "## Creating common logos\n",
        "Many logos and designs are made of simple geometric shapes. For example, twitter's is entirely made from circles of different diameters.\n",
        "![alt text](https://shkspr.mobi/blog/wp-content/uploads/2017/05/TwitterCircles.jpg)\n",
        "\n",
        "Find an interesting logo that can be made with geometric shapes. Create it using shapely and plot it using matplotlib. As a bonus, try to match the colors as well!"
      ]
    },
    {
      "cell_type": "code",
      "metadata": {
        "id": "ZVTECCzUsCgl",
        "colab_type": "code",
        "colab": {}
      },
      "source": [
        ""
      ],
      "execution_count": 0,
      "outputs": []
    }
  ]
}