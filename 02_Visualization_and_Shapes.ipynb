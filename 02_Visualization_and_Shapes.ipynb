{
  "nbformat": 4,
  "nbformat_minor": 0,
  "metadata": {
    "colab": {
      "name": "02_Visualization_and_Shapes.ipynb",
      "version": "0.3.2",
      "provenance": [],
      "collapsed_sections": [],
      "include_colab_link": true
    },
    "language_info": {
      "codemirror_mode": {
        "name": "ipython",
        "version": 3
      },
      "file_extension": ".py",
      "mimetype": "text/x-python",
      "name": "python",
      "nbconvert_exporter": "python",
      "pygments_lexer": "ipython3",
      "version": "3.7.3"
    },
    "kernelspec": {
      "display_name": "Python 3",
      "language": "python",
      "name": "python3"
    }
  },
  "cells": [
    {
      "cell_type": "markdown",
      "metadata": {
        "id": "view-in-github",
        "colab_type": "text"
      },
      "source": [
        "<a href=\"https://colab.research.google.com/github/bwsi-hadr/02-visualization-and-shapes-dylan-pham/blob/master/02_Visualization_and_Shapes.ipynb\" target=\"_parent\"><img src=\"https://colab.research.google.com/assets/colab-badge.svg\" alt=\"Open In Colab\"/></a>"
      ]
    },
    {
      "cell_type": "markdown",
      "metadata": {
        "colab_type": "text",
        "id": "cPoRdj25oN4s"
      },
      "source": [
        "# Plotting and GIS in python\n",
        "In this lesson we're going to look at how to present data visually. Visualization is a key part of the analysis workflow. It can reveal insights about data, and its relationships to other variables. It is also an integral tool for communicating data and ideas.\n",
        "\n",
        "We will cover tools for plotting graphs (line, scatter, bar charts, etc), as well as maps (GIS) in this lecture.\n"
      ]
    },
    {
      "cell_type": "markdown",
      "metadata": {
        "colab_type": "text",
        "id": "R-POaeC7tY8c"
      },
      "source": [
        "# Plotting with matplotlib\n",
        "\n",
        "Matplotlib is the most widely used package for scientific visualization in python. It has a lot of features, but the documentation can be confusing, and the default styles aren't particularly attractive. Nevertheless, knowing how to use matplotlib is fundamental for data science with python. "
      ]
    },
    {
      "cell_type": "code",
      "metadata": {
        "colab_type": "code",
        "id": "W8ATbTRUoH24",
        "colab": {}
      },
      "source": [
        "import matplotlib as mpl\n",
        "from matplotlib import pyplot as plt #pyplot is a subpackage of matplotlib, and provides the interface that we'll use to create plots\n",
        "plt.style.use('seaborn-whitegrid') # set default visual appearance\n",
        "import numpy as np"
      ],
      "execution_count": 0,
      "outputs": []
    },
    {
      "cell_type": "markdown",
      "metadata": {
        "colab_type": "text",
        "id": "jMZ6W_zXFjoD"
      },
      "source": [
        "## Matplotlib conventions\n",
        "There are (confusingly) two different ways to do most things in matplotlib. \n",
        "\n",
        "The first is the MATLAB style interface, which functions as a state machine. Commands are run on a global scope and affect the _current_ figure or axis that you're working on. This is convenient for quick plotting without worrying about the fine-grained details of the plot.\n",
        "\n",
        "The second is the object-oriented interface, which is more \"pythonic\". Figures and axes are _objects_ which have methods and attributes associated with them for plotting and adjusting their appearance. This provides finer-grained control over the plots.\n",
        "\n",
        "It's possible to mix and match between the two interfaces, which can cause confusion for new coders trying to learn how matplotlib works. Just remember there are two ways to do most plotting tasks in matplotlib, so if you see things done differently, that's probably the reason."
      ]
    },
    {
      "cell_type": "markdown",
      "metadata": {
        "colab_type": "text",
        "id": "kj_PoFN0HvHq"
      },
      "source": [
        "## Figures and axes\n",
        "A `Figure` object is a canvas that can hold one or more `Axes` objects. `Axes` are objects which hold the actual plots. (Think of the `Figure` as a piece of paper, and the `Axes` as the actual illustration)"
      ]
    },
    {
      "cell_type": "code",
      "metadata": {
        "colab_type": "code",
        "id": "5blbFZGZoNqc",
        "outputId": "a61b0077-39bb-4013-d550-bb71f86dede5",
        "colab": {
          "base_uri": "https://localhost:8080/",
          "height": 350
        }
      },
      "source": [
        "fig = plt.figure()\n",
        "ax = fig.add_axes([0,0,1,1]) # arguments are location of [left, bottom, width, height], where the units are fraction of the figure\n",
        "# (0,0) is bottom left corner. (1,1) is top right corner\n",
        "x_data = np.arange(0,10,0.5) # points evenly spaced between 0 and 10 with interval of 0.5\n",
        "# (0, 0.5, 1, 1.5 etc.)\n",
        "y_data = 3*x_data + 2 + 0.8*np.random.randn(len(x_data)) # linear + random noise\n",
        "ax.plot(x_data, y_data, marker='o')\n",
        "ax.plot(y_data, x_data, marker='x')\n",
        "ax.legend(['standard', 'transpose'])"
      ],
      "execution_count": 31,
      "outputs": [
        {
          "output_type": "execute_result",
          "data": {
            "text/plain": [
              "<matplotlib.legend.Legend at 0x7f82dde4c198>"
            ]
          },
          "metadata": {
            "tags": []
          },
          "execution_count": 31
        },
        {
          "output_type": "display_data",
          "data": {
            "image/png": "[encoded data removed]",
            "text/plain": [
              "<Figure size 432x288 with 1 Axes>"
            ]
          },
          "metadata": {
            "tags": []
          }
        }
      ]
    },
    {
      "cell_type": "markdown",
      "metadata": {
        "colab_type": "text",
        "id": "cclx1plhLDAN"
      },
      "source": [
        "### Subplots\n",
        "Sometimes you want to add multiple plots on the same figure. You can use the `.add_subplot(nrows, ncols, idx)` function of `Figure` to do so.\n",
        "\n",
        "Subplots are set up in a grid, determined by the arguments `nrows, ncols` of the `.add_subplot` function; the `idx` argument determines the location of the created subplot.\n",
        "\n",
        "For example, `fig.add_subplot(2,2,3)` creates a 2 $\\times$ 2 grid, and the idx value of 3 refers to the bottom left grid element.\n",
        "```\n",
        "1 2\n",
        "3 4\n",
        "```\n",
        "\n",
        "In general the indexing convention is left to right on each line:\n",
        "\n",
        "```\n",
        "1 2 ... ncols\n",
        "ncols+1 ... \n",
        "2*ncols+1 ...\n",
        "...\n",
        "```"
      ]
    },
    {
      "cell_type": "code",
      "metadata": {
        "colab_type": "code",
        "id": "TdoX3zebJMb3",
        "outputId": "449b0dea-7c37-4489-d7f0-952325e9397b",
        "colab": {
          "base_uri": "https://localhost:8080/",
          "height": 389
        }
      },
      "source": [
        "fig = plt.figure(figsize=[10,5]) #figure size, in inches\n",
        "ax1 = fig.add_subplot(2,2,1) # rows, cols, picker\n",
        "\n",
        "# specifying rows in grid, then columns then selected position in grid\n",
        "\n",
        "# |1|, 2\n",
        "#  3 , 4\n",
        "ax2 = fig.add_subplot(2,2,3)\n",
        "ax3 = fig.add_subplot(1,2,2) # subplots don't all have to be on the same grid\n",
        "\n",
        "x_data = np.linspace(1,10,100)\n",
        "ax1.plot([0,2], [1,5]) # simply plots a line from (0,1) to (2,5)\n",
        "ax2.plot(x_data, np.sin(x_data))\n",
        "ax3.plot(x_data, x_data**2)\n",
        "\n",
        "# label each one\n",
        "ax1.set_title('This is ax1') # sets a title on ax1\n",
        "ax2.set_title('This is ax2')\n",
        "ax2.set_xlabel('x') # set xlabel\n",
        "ax2.set_ylabel('sin(x)') # set ylabel\n",
        "\n",
        "# it can be more convenient to set all of the labels and limits at once\n",
        "ax3.set(xlim=(0, 10), ylim=(0, 100),\n",
        "       xlabel='x', ylabel='$x^2$',\n",
        "       title='This is ax3'); # encase math in $$ to render exponentiation and other math notation\n",
        "\n",
        "fig.tight_layout() # a function to clean up the spacing between subplots"
      ],
      "execution_count": 32,
      "outputs": [
        {
          "output_type": "display_data",
          "data": {
            "image/png": "[encoded data removed]",
            "text/plain": [
              "<Figure size 720x360 with 3 Axes>"
            ]
          },
          "metadata": {
            "tags": []
          }
        }
      ]
    },
    {
      "cell_type": "markdown",
      "metadata": {
        "colab_type": "text",
        "id": "0HG4jcIcPUry"
      },
      "source": [
        "### Appearance\n"
      ]
    },
    {
      "cell_type": "code",
      "metadata": {
        "colab_type": "code",
        "id": "6AJCKIqzKzdn",
        "outputId": "9d2b046b-2890-4ad4-c9ab-1ea85ba91445",
        "colab": {
          "base_uri": "https://localhost:8080/",
          "height": 262
        }
      },
      "source": [
        "# Change colors of lines\n",
        "fig = plt.figure(figsize=[8,4])\n",
        "ax = fig.add_subplot(1,1,1) # create an axes that covers the whole figure\n",
        "x = np.linspace(-5,5,100)\n",
        "ax.plot(x, np.sin(x - 0), color='black')       # specify color by name\n",
        "ax.plot(x, np.sin(x - 1), color='g')           # short color code (rgbcmyk)\n",
        "ax.plot(x, np.sin(x - 2), color='0.5')         # Grayscale between 0 and 1\n",
        "ax.plot(x, np.sin(x - 3), color='#00DDFF')     # Hex code (RRGGBB from 00 to FF) with FF being max and 00 being min\n",
        "ax.plot(x, np.sin(x - 4), color=(1.0,0.2,0.3)) # RGB tuple, values 0 to 1\n",
        "ax.plot(x, np.sin(x - 5), color='chartreuse'); # all HTML color names supported"
      ],
      "execution_count": 33,
      "outputs": [
        {
          "output_type": "display_data",
          "data": {
            "image/png": "[encoded data removed]",
            "text/plain": [
              "<Figure size 576x288 with 1 Axes>"
            ]
          },
          "metadata": {
            "tags": []
          }
        }
      ]
    },
    {
      "cell_type": "code",
      "metadata": {
        "colab_type": "code",
        "id": "x2eVLMdNK-u-",
        "outputId": "9a9cf6ec-4c4c-4d41-fedc-97df61e34ab5",
        "colab": {
          "base_uri": "https://localhost:8080/",
          "height": 371
        }
      },
      "source": [
        "# Change linestyle\n",
        "fig = plt.figure(figsize=[8,6])\n",
        "ax = fig.add_subplot(1,1,1)\n",
        "ax.plot(x, x + 0, linestyle='solid')\n",
        "ax.plot(x, x + 1, linestyle='dashed')\n",
        "ax.plot(x, x + 2, linestyle='dashdot')\n",
        "ax.plot(x, x + 3, linestyle='dotted');\n",
        "\n",
        "# For short, you can use the following codes:\n",
        "ax.plot(x, x + 4, linestyle='-')  # solid\n",
        "ax.plot(x, x + 5, linestyle='--') # dashed\n",
        "ax.plot(x, x + 6, linestyle='-.') # dashdot\n",
        "ax.plot(x, x + 7, linestyle=':'); # dotted"
      ],
      "execution_count": 34,
      "outputs": [
        {
          "output_type": "display_data",
          "data": {
            "image/png": "[encoded data removed]",
            "text/plain": [
              "<Figure size 576x432 with 1 Axes>"
            ]
          },
          "metadata": {
            "tags": []
          }
        }
      ]
    },
    {
      "cell_type": "markdown",
      "metadata": {
        "colab_type": "text",
        "id": "Ii-BW0S6tpe_"
      },
      "source": [
        "There are also [bar charts](https://matplotlib.org/3.1.1/api/_as_gen/matplotlib.pyplot.bar.html#matplotlib.pyplot.bar), [pie charts](https://matplotlib.org/3.1.1/gallery/pie_and_polar_charts/nested_pie.html#sphx-glr-gallery-pie-and-polar-charts-nested-pie-py), among [many others tutorials in the matplotlib documentation](https://matplotlib.org/3.1.1/tutorials/introductory/sample_plots.html#sphx-glr-tutorials-introductory-sample-plots-py). Check them out for inspiration"
      ]
    },
    {
      "cell_type": "markdown",
      "metadata": {
        "colab_type": "text",
        "id": "ahcW_XmxvA-2"
      },
      "source": [
        "## Exercise\n",
        "Using any data that you looked at earlier this week, make a plot that visualizes some element of your analysis. We'll ask a few people to present their results when they're ready.\n",
        "\n",
        "Matplotlib can take numpy arrays or pandas series and dataframes as inputs. In addition, pandas dataframes have [a built-in interface to automatically call matplotlib functions](https://pandas.pydata.org/pandas-docs/stable/user_guide/visualization.html). This can be a convenient way to visualize for exploratory analysis. However, it's less customizable, so it may not be suitable for making presentation-quality graphs."
      ]
    },
    {
      "cell_type": "code",
      "metadata": {
        "colab_type": "code",
        "id": "LPYOcEpswPhF",
        "colab": {}
      },
      "source": [
        "# find relationship between total people in a major and unemployment rate\n",
        "\n",
        "import pandas as pd\n",
        "import matplotlib as mpl\n",
        "from matplotlib import pyplot as plt"
      ],
      "execution_count": 0,
      "outputs": []
    },
    {
      "cell_type": "code",
      "metadata": {
        "colab_type": "code",
        "id": "o1lLRl8Lbaxf",
        "outputId": "fceb23b5-b5ec-4e8d-cec2-4c225d873505",
        "colab": {
          "base_uri": "https://localhost:8080/",
          "height": 1000
        }
      },
      "source": [
        "# URL for data\n",
        "majors_data = 'https://raw.githubusercontent.com/fivethirtyeight/data/master/college-majors/recent-grads.csv' \n",
        "# instead of a url, you could instead put a path to a csv file on the local system where python is running. However, since colab is on the cloud, it's easier to use a url\n",
        "majors_data = pd.read_csv(majors_data) # create a dataframe from a csv, set the column titled \"Index\" as the row labels\n",
        "\n",
        "# majors_data = majors_Data.fillna('') #fill in the NaN values with empty string \n",
        "majors_data # prints out the dataframe"
      ],
      "execution_count": 36,
      "outputs": [
        {
          "output_type": "execute_result",
          "data": {
            "text/html": [
              "<div>\n",
              "<style scoped>\n",
              "    .dataframe tbody tr th:only-of-type {\n",
              "        vertical-align: middle;\n",
              "    }\n",
              "\n",
              "    .dataframe tbody tr th {\n",
              "        vertical-align: top;\n",
              "    }\n",
              "\n",
              "    .dataframe thead th {\n",
              "        text-align: right;\n",
              "    }\n",
              "</style>\n",
              "<table border=\"1\" class=\"dataframe\">\n",
              "  <thead>\n",
              "    <tr style=\"text-align: right;\">\n",
              "      <th></th>\n",
              "      <th>Rank</th>\n",
              "      <th>Major_code</th>\n",
              "      <th>Major</th>\n",
              "      <th>Total</th>\n",
              "      <th>Men</th>\n",
              "      <th>Women</th>\n",
              "      <th>Major_category</th>\n",
              "      <th>ShareWomen</th>\n",
              "      <th>Sample_size</th>\n",
              "      <th>Employed</th>\n",
              "      <th>Full_time</th>\n",
              "      <th>Part_time</th>\n",
              "      <th>Full_time_year_round</th>\n",
              "      <th>Unemployed</th>\n",
              "      <th>Unemployment_rate</th>\n",
              "      <th>Median</th>\n",
              "      <th>P25th</th>\n",
              "      <th>P75th</th>\n",
              "      <th>College_jobs</th>\n",
              "      <th>Non_college_jobs</th>\n",
              "      <th>Low_wage_jobs</th>\n",
              "    </tr>\n",
              "  </thead>\n",
              "  <tbody>\n",
              "    <tr>\n",
              "      <th>0</th>\n",
              "      <td>1</td>\n",
              "      <td>2419</td>\n",
              "      <td>PETROLEUM ENGINEERING</td>\n",
              "      <td>2339.0</td>\n",
              "      <td>2057.0</td>\n",
              "      <td>282.0</td>\n",
              "      <td>Engineering</td>\n",
              "      <td>0.120564</td>\n",
              "      <td>36</td>\n",
              "      <td>1976</td>\n",
              "      <td>1849</td>\n",
              "      <td>270</td>\n",
              "      <td>1207</td>\n",
              "      <td>37</td>\n",
              "      <td>0.018381</td>\n",
              "      <td>110000</td>\n",
              "      <td>95000</td>\n",
              "      <td>125000</td>\n",
              "      <td>1534</td>\n",
              "      <td>364</td>\n",
              "      <td>193</td>\n",
              "    </tr>\n",
              "    <tr>\n",
              "      <th>1</th>\n",
              "      <td>2</td>\n",
              "      <td>2416</td>\n",
              "      <td>MINING AND MINERAL ENGINEERING</td>\n",
              "      <td>756.0</td>\n",
              "      <td>679.0</td>\n",
              "      <td>77.0</td>\n",
              "      <td>Engineering</td>\n",
              "      <td>0.101852</td>\n",
              "      <td>7</td>\n",
              "      <td>640</td>\n",
              "      <td>556</td>\n",
              "      <td>170</td>\n",
              "      <td>388</td>\n",
              "      <td>85</td>\n",
              "      <td>0.117241</td>\n",
              "      <td>75000</td>\n",
              "      <td>55000</td>\n",
              "      <td>90000</td>\n",
              "      <td>350</td>\n",
              "      <td>257</td>\n",
              "      <td>50</td>\n",
              "    </tr>\n",
              "    <tr>\n",
              "      <th>2</th>\n",
              "      <td>3</td>\n",
              "      <td>2415</td>\n",
              "      <td>METALLURGICAL ENGINEERING</td>\n",
              "      <td>856.0</td>\n",
              "      <td>725.0</td>\n",
              "      <td>131.0</td>\n",
              "      <td>Engineering</td>\n",
              "      <td>0.153037</td>\n",
              "      <td>3</td>\n",
              "      <td>648</td>\n",
              "      <td>558</td>\n",
              "      <td>133</td>\n",
              "      <td>340</td>\n",
              "      <td>16</td>\n",
              "      <td>0.024096</td>\n",
              "      <td>73000</td>\n",
              "      <td>50000</td>\n",
              "      <td>105000</td>\n",
              "      <td>456</td>\n",
              "      <td>176</td>\n",
              "      <td>0</td>\n",
              "    </tr>\n",
              "    <tr>\n",
              "      <th>3</th>\n",
              "      <td>4</td>\n",
              "      <td>2417</td>\n",
              "      <td>NAVAL ARCHITECTURE AND MARINE ENGINEERING</td>\n",
              "      <td>1258.0</td>\n",
              "      <td>1123.0</td>\n",
              "      <td>135.0</td>\n",
              "      <td>Engineering</td>\n",
              "      <td>0.107313</td>\n",
              "      <td>16</td>\n",
              "      <td>758</td>\n",
              "      <td>1069</td>\n",
              "      <td>150</td>\n",
              "      <td>692</td>\n",
              "      <td>40</td>\n",
              "      <td>0.050125</td>\n",
              "      <td>70000</td>\n",
              "      <td>43000</td>\n",
              "      <td>80000</td>\n",
              "      <td>529</td>\n",
              "      <td>102</td>\n",
              "      <td>0</td>\n",
              "    </tr>\n",
              "    <tr>\n",
              "      <th>4</th>\n",
              "      <td>5</td>\n",
              "      <td>2405</td>\n",
              "      <td>CHEMICAL ENGINEERING</td>\n",
              "      <td>32260.0</td>\n",
              "      <td>21239.0</td>\n",
              "      <td>11021.0</td>\n",
              "      <td>Engineering</td>\n",
              "      <td>0.341631</td>\n",
              "      <td>289</td>\n",
              "      <td>25694</td>\n",
              "      <td>23170</td>\n",
              "      <td>5180</td>\n",
              "      <td>16697</td>\n",
              "      <td>1672</td>\n",
              "      <td>0.061098</td>\n",
              "      <td>65000</td>\n",
              "      <td>50000</td>\n",
              "      <td>75000</td>\n",
              "      <td>18314</td>\n",
              "      <td>4440</td>\n",
              "      <td>972</td>\n",
              "    </tr>\n",
              "    <tr>\n",
              "      <th>5</th>\n",
              "      <td>6</td>\n",
              "      <td>2418</td>\n",
              "      <td>NUCLEAR ENGINEERING</td>\n",
              "      <td>2573.0</td>\n",
              "      <td>2200.0</td>\n",
              "      <td>373.0</td>\n",
              "      <td>Engineering</td>\n",
              "      <td>0.144967</td>\n",
              "      <td>17</td>\n",
              "      <td>1857</td>\n",
              "      <td>2038</td>\n",
              "      <td>264</td>\n",
              "      <td>1449</td>\n",
              "      <td>400</td>\n",
              "      <td>0.177226</td>\n",
              "      <td>65000</td>\n",
              "      <td>50000</td>\n",
              "      <td>102000</td>\n",
              "      <td>1142</td>\n",
              "      <td>657</td>\n",
              "      <td>244</td>\n",
              "    </tr>\n",
              "    <tr>\n",
              "      <th>6</th>\n",
              "      <td>7</td>\n",
              "      <td>6202</td>\n",
              "      <td>ACTUARIAL SCIENCE</td>\n",
              "      <td>3777.0</td>\n",
              "      <td>2110.0</td>\n",
              "      <td>1667.0</td>\n",
              "      <td>Business</td>\n",
              "      <td>0.441356</td>\n",
              "      <td>51</td>\n",
              "      <td>2912</td>\n",
              "      <td>2924</td>\n",
              "      <td>296</td>\n",
              "      <td>2482</td>\n",
              "      <td>308</td>\n",
              "      <td>0.095652</td>\n",
              "      <td>62000</td>\n",
              "      <td>53000</td>\n",
              "      <td>72000</td>\n",
              "      <td>1768</td>\n",
              "      <td>314</td>\n",
              "      <td>259</td>\n",
              "    </tr>\n",
              "    <tr>\n",
              "      <th>7</th>\n",
              "      <td>8</td>\n",
              "      <td>5001</td>\n",
              "      <td>ASTRONOMY AND ASTROPHYSICS</td>\n",
              "      <td>1792.0</td>\n",
              "      <td>832.0</td>\n",
              "      <td>960.0</td>\n",
              "      <td>Physical Sciences</td>\n",
              "      <td>0.535714</td>\n",
              "      <td>10</td>\n",
              "      <td>1526</td>\n",
              "      <td>1085</td>\n",
              "      <td>553</td>\n",
              "      <td>827</td>\n",
              "      <td>33</td>\n",
              "      <td>0.021167</td>\n",
              "      <td>62000</td>\n",
              "      <td>31500</td>\n",
              "      <td>109000</td>\n",
              "      <td>972</td>\n",
              "      <td>500</td>\n",
              "      <td>220</td>\n",
              "    </tr>\n",
              "    <tr>\n",
              "      <th>8</th>\n",
              "      <td>9</td>\n",
              "      <td>2414</td>\n",
              "      <td>MECHANICAL ENGINEERING</td>\n",
              "      <td>91227.0</td>\n",
              "      <td>80320.0</td>\n",
              "      <td>10907.0</td>\n",
              "      <td>Engineering</td>\n",
              "      <td>0.119559</td>\n",
              "      <td>1029</td>\n",
              "      <td>76442</td>\n",
              "      <td>71298</td>\n",
              "      <td>13101</td>\n",
              "      <td>54639</td>\n",
              "      <td>4650</td>\n",
              "      <td>0.057342</td>\n",
              "      <td>60000</td>\n",
              "      <td>48000</td>\n",
              "      <td>70000</td>\n",
              "      <td>52844</td>\n",
              "      <td>16384</td>\n",
              "      <td>3253</td>\n",
              "    </tr>\n",
              "    <tr>\n",
              "      <th>9</th>\n",
              "      <td>10</td>\n",
              "      <td>2408</td>\n",
              "      <td>ELECTRICAL ENGINEERING</td>\n",
              "      <td>81527.0</td>\n",
              "      <td>65511.0</td>\n",
              "      <td>16016.0</td>\n",
              "      <td>Engineering</td>\n",
              "      <td>0.196450</td>\n",
              "      <td>631</td>\n",
              "      <td>61928</td>\n",
              "      <td>55450</td>\n",
              "      <td>12695</td>\n",
              "      <td>41413</td>\n",
              "      <td>3895</td>\n",
              "      <td>0.059174</td>\n",
              "      <td>60000</td>\n",
              "      <td>45000</td>\n",
              "      <td>72000</td>\n",
              "      <td>45829</td>\n",
              "      <td>10874</td>\n",
              "      <td>3170</td>\n",
              "    </tr>\n",
              "    <tr>\n",
              "      <th>10</th>\n",
              "      <td>11</td>\n",
              "      <td>2407</td>\n",
              "      <td>COMPUTER ENGINEERING</td>\n",
              "      <td>41542.0</td>\n",
              "      <td>33258.0</td>\n",
              "      <td>8284.0</td>\n",
              "      <td>Engineering</td>\n",
              "      <td>0.199413</td>\n",
              "      <td>399</td>\n",
              "      <td>32506</td>\n",
              "      <td>30315</td>\n",
              "      <td>5146</td>\n",
              "      <td>23621</td>\n",
              "      <td>2275</td>\n",
              "      <td>0.065409</td>\n",
              "      <td>60000</td>\n",
              "      <td>45000</td>\n",
              "      <td>75000</td>\n",
              "      <td>23694</td>\n",
              "      <td>5721</td>\n",
              "      <td>980</td>\n",
              "    </tr>\n",
              "    <tr>\n",
              "      <th>11</th>\n",
              "      <td>12</td>\n",
              "      <td>2401</td>\n",
              "      <td>AEROSPACE ENGINEERING</td>\n",
              "      <td>15058.0</td>\n",
              "      <td>12953.0</td>\n",
              "      <td>2105.0</td>\n",
              "      <td>Engineering</td>\n",
              "      <td>0.139793</td>\n",
              "      <td>147</td>\n",
              "      <td>11391</td>\n",
              "      <td>11106</td>\n",
              "      <td>2724</td>\n",
              "      <td>8790</td>\n",
              "      <td>794</td>\n",
              "      <td>0.065162</td>\n",
              "      <td>60000</td>\n",
              "      <td>42000</td>\n",
              "      <td>70000</td>\n",
              "      <td>8184</td>\n",
              "      <td>2425</td>\n",
              "      <td>372</td>\n",
              "    </tr>\n",
              "    <tr>\n",
              "      <th>12</th>\n",
              "      <td>13</td>\n",
              "      <td>2404</td>\n",
              "      <td>BIOMEDICAL ENGINEERING</td>\n",
              "      <td>14955.0</td>\n",
              "      <td>8407.0</td>\n",
              "      <td>6548.0</td>\n",
              "      <td>Engineering</td>\n",
              "      <td>0.437847</td>\n",
              "      <td>79</td>\n",
              "      <td>10047</td>\n",
              "      <td>9017</td>\n",
              "      <td>2694</td>\n",
              "      <td>5986</td>\n",
              "      <td>1019</td>\n",
              "      <td>0.092084</td>\n",
              "      <td>60000</td>\n",
              "      <td>36000</td>\n",
              "      <td>70000</td>\n",
              "      <td>6439</td>\n",
              "      <td>2471</td>\n",
              "      <td>789</td>\n",
              "    </tr>\n",
              "    <tr>\n",
              "      <th>13</th>\n",
              "      <td>14</td>\n",
              "      <td>5008</td>\n",
              "      <td>MATERIALS SCIENCE</td>\n",
              "      <td>4279.0</td>\n",
              "      <td>2949.0</td>\n",
              "      <td>1330.0</td>\n",
              "      <td>Engineering</td>\n",
              "      <td>0.310820</td>\n",
              "      <td>22</td>\n",
              "      <td>3307</td>\n",
              "      <td>2751</td>\n",
              "      <td>878</td>\n",
              "      <td>1967</td>\n",
              "      <td>78</td>\n",
              "      <td>0.023043</td>\n",
              "      <td>60000</td>\n",
              "      <td>39000</td>\n",
              "      <td>65000</td>\n",
              "      <td>2626</td>\n",
              "      <td>391</td>\n",
              "      <td>81</td>\n",
              "    </tr>\n",
              "    <tr>\n",
              "      <th>14</th>\n",
              "      <td>15</td>\n",
              "      <td>2409</td>\n",
              "      <td>ENGINEERING MECHANICS PHYSICS AND SCIENCE</td>\n",
              "      <td>4321.0</td>\n",
              "      <td>3526.0</td>\n",
              "      <td>795.0</td>\n",
              "      <td>Engineering</td>\n",
              "      <td>0.183985</td>\n",
              "      <td>30</td>\n",
              "      <td>3608</td>\n",
              "      <td>2999</td>\n",
              "      <td>811</td>\n",
              "      <td>2004</td>\n",
              "      <td>23</td>\n",
              "      <td>0.006334</td>\n",
              "      <td>58000</td>\n",
              "      <td>25000</td>\n",
              "      <td>74000</td>\n",
              "      <td>2439</td>\n",
              "      <td>947</td>\n",
              "      <td>263</td>\n",
              "    </tr>\n",
              "    <tr>\n",
              "      <th>15</th>\n",
              "      <td>16</td>\n",
              "      <td>2402</td>\n",
              "      <td>BIOLOGICAL ENGINEERING</td>\n",
              "      <td>8925.0</td>\n",
              "      <td>6062.0</td>\n",
              "      <td>2863.0</td>\n",
              "      <td>Engineering</td>\n",
              "      <td>0.320784</td>\n",
              "      <td>55</td>\n",
              "      <td>6170</td>\n",
              "      <td>5455</td>\n",
              "      <td>1983</td>\n",
              "      <td>3413</td>\n",
              "      <td>589</td>\n",
              "      <td>0.087143</td>\n",
              "      <td>57100</td>\n",
              "      <td>40000</td>\n",
              "      <td>76000</td>\n",
              "      <td>3603</td>\n",
              "      <td>1595</td>\n",
              "      <td>524</td>\n",
              "    </tr>\n",
              "    <tr>\n",
              "      <th>16</th>\n",
              "      <td>17</td>\n",
              "      <td>2412</td>\n",
              "      <td>INDUSTRIAL AND MANUFACTURING ENGINEERING</td>\n",
              "      <td>18968.0</td>\n",
              "      <td>12453.0</td>\n",
              "      <td>6515.0</td>\n",
              "      <td>Engineering</td>\n",
              "      <td>0.343473</td>\n",
              "      <td>183</td>\n",
              "      <td>15604</td>\n",
              "      <td>14879</td>\n",
              "      <td>2243</td>\n",
              "      <td>11326</td>\n",
              "      <td>699</td>\n",
              "      <td>0.042876</td>\n",
              "      <td>57000</td>\n",
              "      <td>37900</td>\n",
              "      <td>67000</td>\n",
              "      <td>8306</td>\n",
              "      <td>3235</td>\n",
              "      <td>640</td>\n",
              "    </tr>\n",
              "    <tr>\n",
              "      <th>17</th>\n",
              "      <td>18</td>\n",
              "      <td>2400</td>\n",
              "      <td>GENERAL ENGINEERING</td>\n",
              "      <td>61152.0</td>\n",
              "      <td>45683.0</td>\n",
              "      <td>15469.0</td>\n",
              "      <td>Engineering</td>\n",
              "      <td>0.252960</td>\n",
              "      <td>425</td>\n",
              "      <td>44931</td>\n",
              "      <td>41235</td>\n",
              "      <td>7199</td>\n",
              "      <td>33540</td>\n",
              "      <td>2859</td>\n",
              "      <td>0.059824</td>\n",
              "      <td>56000</td>\n",
              "      <td>36000</td>\n",
              "      <td>69000</td>\n",
              "      <td>26898</td>\n",
              "      <td>11734</td>\n",
              "      <td>3192</td>\n",
              "    </tr>\n",
              "    <tr>\n",
              "      <th>18</th>\n",
              "      <td>19</td>\n",
              "      <td>2403</td>\n",
              "      <td>ARCHITECTURAL ENGINEERING</td>\n",
              "      <td>2825.0</td>\n",
              "      <td>1835.0</td>\n",
              "      <td>990.0</td>\n",
              "      <td>Engineering</td>\n",
              "      <td>0.350442</td>\n",
              "      <td>26</td>\n",
              "      <td>2575</td>\n",
              "      <td>2277</td>\n",
              "      <td>343</td>\n",
              "      <td>1848</td>\n",
              "      <td>170</td>\n",
              "      <td>0.061931</td>\n",
              "      <td>54000</td>\n",
              "      <td>38000</td>\n",
              "      <td>65000</td>\n",
              "      <td>1665</td>\n",
              "      <td>649</td>\n",
              "      <td>137</td>\n",
              "    </tr>\n",
              "    <tr>\n",
              "      <th>19</th>\n",
              "      <td>20</td>\n",
              "      <td>3201</td>\n",
              "      <td>COURT REPORTING</td>\n",
              "      <td>1148.0</td>\n",
              "      <td>877.0</td>\n",
              "      <td>271.0</td>\n",
              "      <td>Law &amp; Public Policy</td>\n",
              "      <td>0.236063</td>\n",
              "      <td>14</td>\n",
              "      <td>930</td>\n",
              "      <td>808</td>\n",
              "      <td>223</td>\n",
              "      <td>808</td>\n",
              "      <td>11</td>\n",
              "      <td>0.011690</td>\n",
              "      <td>54000</td>\n",
              "      <td>50000</td>\n",
              "      <td>54000</td>\n",
              "      <td>402</td>\n",
              "      <td>528</td>\n",
              "      <td>144</td>\n",
              "    </tr>\n",
              "    <tr>\n",
              "      <th>20</th>\n",
              "      <td>21</td>\n",
              "      <td>2102</td>\n",
              "      <td>COMPUTER SCIENCE</td>\n",
              "      <td>128319.0</td>\n",
              "      <td>99743.0</td>\n",
              "      <td>28576.0</td>\n",
              "      <td>Computers &amp; Mathematics</td>\n",
              "      <td>0.222695</td>\n",
              "      <td>1196</td>\n",
              "      <td>102087</td>\n",
              "      <td>91485</td>\n",
              "      <td>18726</td>\n",
              "      <td>70932</td>\n",
              "      <td>6884</td>\n",
              "      <td>0.063173</td>\n",
              "      <td>53000</td>\n",
              "      <td>39000</td>\n",
              "      <td>70000</td>\n",
              "      <td>68622</td>\n",
              "      <td>25667</td>\n",
              "      <td>5144</td>\n",
              "    </tr>\n",
              "    <tr>\n",
              "      <th>21</th>\n",
              "      <td>22</td>\n",
              "      <td>1104</td>\n",
              "      <td>FOOD SCIENCE</td>\n",
              "      <td>NaN</td>\n",
              "      <td>NaN</td>\n",
              "      <td>NaN</td>\n",
              "      <td>Agriculture &amp; Natural Resources</td>\n",
              "      <td>NaN</td>\n",
              "      <td>36</td>\n",
              "      <td>3149</td>\n",
              "      <td>2558</td>\n",
              "      <td>1121</td>\n",
              "      <td>1735</td>\n",
              "      <td>338</td>\n",
              "      <td>0.096931</td>\n",
              "      <td>53000</td>\n",
              "      <td>32000</td>\n",
              "      <td>70000</td>\n",
              "      <td>1183</td>\n",
              "      <td>1274</td>\n",
              "      <td>485</td>\n",
              "    </tr>\n",
              "    <tr>\n",
              "      <th>22</th>\n",
              "      <td>23</td>\n",
              "      <td>2502</td>\n",
              "      <td>ELECTRICAL ENGINEERING TECHNOLOGY</td>\n",
              "      <td>11565.0</td>\n",
              "      <td>8181.0</td>\n",
              "      <td>3384.0</td>\n",
              "      <td>Engineering</td>\n",
              "      <td>0.292607</td>\n",
              "      <td>97</td>\n",
              "      <td>8587</td>\n",
              "      <td>7530</td>\n",
              "      <td>1873</td>\n",
              "      <td>5681</td>\n",
              "      <td>824</td>\n",
              "      <td>0.087557</td>\n",
              "      <td>52000</td>\n",
              "      <td>35000</td>\n",
              "      <td>60000</td>\n",
              "      <td>5126</td>\n",
              "      <td>2686</td>\n",
              "      <td>696</td>\n",
              "    </tr>\n",
              "    <tr>\n",
              "      <th>23</th>\n",
              "      <td>24</td>\n",
              "      <td>2413</td>\n",
              "      <td>MATERIALS ENGINEERING AND MATERIALS SCIENCE</td>\n",
              "      <td>2993.0</td>\n",
              "      <td>2020.0</td>\n",
              "      <td>973.0</td>\n",
              "      <td>Engineering</td>\n",
              "      <td>0.325092</td>\n",
              "      <td>22</td>\n",
              "      <td>2449</td>\n",
              "      <td>1658</td>\n",
              "      <td>1040</td>\n",
              "      <td>1151</td>\n",
              "      <td>70</td>\n",
              "      <td>0.027789</td>\n",
              "      <td>52000</td>\n",
              "      <td>35000</td>\n",
              "      <td>62000</td>\n",
              "      <td>1911</td>\n",
              "      <td>305</td>\n",
              "      <td>70</td>\n",
              "    </tr>\n",
              "    <tr>\n",
              "      <th>24</th>\n",
              "      <td>25</td>\n",
              "      <td>6212</td>\n",
              "      <td>MANAGEMENT INFORMATION SYSTEMS AND STATISTICS</td>\n",
              "      <td>18713.0</td>\n",
              "      <td>13496.0</td>\n",
              "      <td>5217.0</td>\n",
              "      <td>Business</td>\n",
              "      <td>0.278790</td>\n",
              "      <td>278</td>\n",
              "      <td>16413</td>\n",
              "      <td>15141</td>\n",
              "      <td>2420</td>\n",
              "      <td>13017</td>\n",
              "      <td>1015</td>\n",
              "      <td>0.058240</td>\n",
              "      <td>51000</td>\n",
              "      <td>38000</td>\n",
              "      <td>60000</td>\n",
              "      <td>6342</td>\n",
              "      <td>5741</td>\n",
              "      <td>708</td>\n",
              "    </tr>\n",
              "    <tr>\n",
              "      <th>25</th>\n",
              "      <td>26</td>\n",
              "      <td>2406</td>\n",
              "      <td>CIVIL ENGINEERING</td>\n",
              "      <td>53153.0</td>\n",
              "      <td>41081.0</td>\n",
              "      <td>12072.0</td>\n",
              "      <td>Engineering</td>\n",
              "      <td>0.227118</td>\n",
              "      <td>565</td>\n",
              "      <td>43041</td>\n",
              "      <td>38302</td>\n",
              "      <td>10080</td>\n",
              "      <td>29196</td>\n",
              "      <td>3270</td>\n",
              "      <td>0.070610</td>\n",
              "      <td>50000</td>\n",
              "      <td>40000</td>\n",
              "      <td>60000</td>\n",
              "      <td>28526</td>\n",
              "      <td>9356</td>\n",
              "      <td>2899</td>\n",
              "    </tr>\n",
              "    <tr>\n",
              "      <th>26</th>\n",
              "      <td>27</td>\n",
              "      <td>5601</td>\n",
              "      <td>CONSTRUCTION SERVICES</td>\n",
              "      <td>18498.0</td>\n",
              "      <td>16820.0</td>\n",
              "      <td>1678.0</td>\n",
              "      <td>Industrial Arts &amp; Consumer Services</td>\n",
              "      <td>0.090713</td>\n",
              "      <td>295</td>\n",
              "      <td>16318</td>\n",
              "      <td>15690</td>\n",
              "      <td>1751</td>\n",
              "      <td>12313</td>\n",
              "      <td>1042</td>\n",
              "      <td>0.060023</td>\n",
              "      <td>50000</td>\n",
              "      <td>36000</td>\n",
              "      <td>60000</td>\n",
              "      <td>3275</td>\n",
              "      <td>5351</td>\n",
              "      <td>703</td>\n",
              "    </tr>\n",
              "    <tr>\n",
              "      <th>27</th>\n",
              "      <td>28</td>\n",
              "      <td>6204</td>\n",
              "      <td>OPERATIONS LOGISTICS AND E-COMMERCE</td>\n",
              "      <td>11732.0</td>\n",
              "      <td>7921.0</td>\n",
              "      <td>3811.0</td>\n",
              "      <td>Business</td>\n",
              "      <td>0.324838</td>\n",
              "      <td>156</td>\n",
              "      <td>10027</td>\n",
              "      <td>9639</td>\n",
              "      <td>1183</td>\n",
              "      <td>7724</td>\n",
              "      <td>504</td>\n",
              "      <td>0.047859</td>\n",
              "      <td>50000</td>\n",
              "      <td>40000</td>\n",
              "      <td>60000</td>\n",
              "      <td>1466</td>\n",
              "      <td>3629</td>\n",
              "      <td>285</td>\n",
              "    </tr>\n",
              "    <tr>\n",
              "      <th>28</th>\n",
              "      <td>29</td>\n",
              "      <td>2499</td>\n",
              "      <td>MISCELLANEOUS ENGINEERING</td>\n",
              "      <td>9133.0</td>\n",
              "      <td>7398.0</td>\n",
              "      <td>1735.0</td>\n",
              "      <td>Engineering</td>\n",
              "      <td>0.189970</td>\n",
              "      <td>118</td>\n",
              "      <td>7428</td>\n",
              "      <td>6811</td>\n",
              "      <td>1662</td>\n",
              "      <td>5476</td>\n",
              "      <td>597</td>\n",
              "      <td>0.074393</td>\n",
              "      <td>50000</td>\n",
              "      <td>39000</td>\n",
              "      <td>65000</td>\n",
              "      <td>3445</td>\n",
              "      <td>2426</td>\n",
              "      <td>365</td>\n",
              "    </tr>\n",
              "    <tr>\n",
              "      <th>29</th>\n",
              "      <td>30</td>\n",
              "      <td>5402</td>\n",
              "      <td>PUBLIC POLICY</td>\n",
              "      <td>5978.0</td>\n",
              "      <td>2639.0</td>\n",
              "      <td>3339.0</td>\n",
              "      <td>Law &amp; Public Policy</td>\n",
              "      <td>0.558548</td>\n",
              "      <td>55</td>\n",
              "      <td>4547</td>\n",
              "      <td>4163</td>\n",
              "      <td>1306</td>\n",
              "      <td>2776</td>\n",
              "      <td>670</td>\n",
              "      <td>0.128426</td>\n",
              "      <td>50000</td>\n",
              "      <td>35000</td>\n",
              "      <td>70000</td>\n",
              "      <td>1550</td>\n",
              "      <td>1871</td>\n",
              "      <td>340</td>\n",
              "    </tr>\n",
              "    <tr>\n",
              "      <th>...</th>\n",
              "      <td>...</td>\n",
              "      <td>...</td>\n",
              "      <td>...</td>\n",
              "      <td>...</td>\n",
              "      <td>...</td>\n",
              "      <td>...</td>\n",
              "      <td>...</td>\n",
              "      <td>...</td>\n",
              "      <td>...</td>\n",
              "      <td>...</td>\n",
              "      <td>...</td>\n",
              "      <td>...</td>\n",
              "      <td>...</td>\n",
              "      <td>...</td>\n",
              "      <td>...</td>\n",
              "      <td>...</td>\n",
              "      <td>...</td>\n",
              "      <td>...</td>\n",
              "      <td>...</td>\n",
              "      <td>...</td>\n",
              "      <td>...</td>\n",
              "    </tr>\n",
              "    <tr>\n",
              "      <th>143</th>\n",
              "      <td>144</td>\n",
              "      <td>1105</td>\n",
              "      <td>PLANT SCIENCE AND AGRONOMY</td>\n",
              "      <td>7416.0</td>\n",
              "      <td>4897.0</td>\n",
              "      <td>2519.0</td>\n",
              "      <td>Agriculture &amp; Natural Resources</td>\n",
              "      <td>0.339671</td>\n",
              "      <td>110</td>\n",
              "      <td>6594</td>\n",
              "      <td>5798</td>\n",
              "      <td>1246</td>\n",
              "      <td>4522</td>\n",
              "      <td>314</td>\n",
              "      <td>0.045455</td>\n",
              "      <td>32000</td>\n",
              "      <td>22900</td>\n",
              "      <td>40000</td>\n",
              "      <td>2089</td>\n",
              "      <td>3545</td>\n",
              "      <td>1231</td>\n",
              "    </tr>\n",
              "    <tr>\n",
              "      <th>144</th>\n",
              "      <td>145</td>\n",
              "      <td>2308</td>\n",
              "      <td>SCIENCE AND COMPUTER TEACHER EDUCATION</td>\n",
              "      <td>6483.0</td>\n",
              "      <td>2049.0</td>\n",
              "      <td>4434.0</td>\n",
              "      <td>Education</td>\n",
              "      <td>0.683943</td>\n",
              "      <td>59</td>\n",
              "      <td>5362</td>\n",
              "      <td>4764</td>\n",
              "      <td>1227</td>\n",
              "      <td>3247</td>\n",
              "      <td>266</td>\n",
              "      <td>0.047264</td>\n",
              "      <td>32000</td>\n",
              "      <td>28000</td>\n",
              "      <td>39000</td>\n",
              "      <td>4214</td>\n",
              "      <td>1106</td>\n",
              "      <td>591</td>\n",
              "    </tr>\n",
              "    <tr>\n",
              "      <th>145</th>\n",
              "      <td>146</td>\n",
              "      <td>5200</td>\n",
              "      <td>PSYCHOLOGY</td>\n",
              "      <td>393735.0</td>\n",
              "      <td>86648.0</td>\n",
              "      <td>307087.0</td>\n",
              "      <td>Psychology &amp; Social Work</td>\n",
              "      <td>0.779933</td>\n",
              "      <td>2584</td>\n",
              "      <td>307933</td>\n",
              "      <td>233205</td>\n",
              "      <td>115172</td>\n",
              "      <td>174438</td>\n",
              "      <td>28169</td>\n",
              "      <td>0.083811</td>\n",
              "      <td>31500</td>\n",
              "      <td>24000</td>\n",
              "      <td>41000</td>\n",
              "      <td>125148</td>\n",
              "      <td>141860</td>\n",
              "      <td>48207</td>\n",
              "    </tr>\n",
              "    <tr>\n",
              "      <th>146</th>\n",
              "      <td>147</td>\n",
              "      <td>6002</td>\n",
              "      <td>MUSIC</td>\n",
              "      <td>60633.0</td>\n",
              "      <td>29909.0</td>\n",
              "      <td>30724.0</td>\n",
              "      <td>Arts</td>\n",
              "      <td>0.506721</td>\n",
              "      <td>419</td>\n",
              "      <td>47662</td>\n",
              "      <td>29010</td>\n",
              "      <td>24943</td>\n",
              "      <td>21425</td>\n",
              "      <td>3918</td>\n",
              "      <td>0.075960</td>\n",
              "      <td>31000</td>\n",
              "      <td>22300</td>\n",
              "      <td>42000</td>\n",
              "      <td>13752</td>\n",
              "      <td>28786</td>\n",
              "      <td>9286</td>\n",
              "    </tr>\n",
              "    <tr>\n",
              "      <th>147</th>\n",
              "      <td>148</td>\n",
              "      <td>2306</td>\n",
              "      <td>PHYSICAL AND HEALTH EDUCATION TEACHING</td>\n",
              "      <td>28213.0</td>\n",
              "      <td>15670.0</td>\n",
              "      <td>12543.0</td>\n",
              "      <td>Education</td>\n",
              "      <td>0.444582</td>\n",
              "      <td>259</td>\n",
              "      <td>23794</td>\n",
              "      <td>19420</td>\n",
              "      <td>7230</td>\n",
              "      <td>13651</td>\n",
              "      <td>1920</td>\n",
              "      <td>0.074667</td>\n",
              "      <td>31000</td>\n",
              "      <td>24000</td>\n",
              "      <td>40000</td>\n",
              "      <td>12777</td>\n",
              "      <td>9328</td>\n",
              "      <td>2042</td>\n",
              "    </tr>\n",
              "    <tr>\n",
              "      <th>148</th>\n",
              "      <td>149</td>\n",
              "      <td>6006</td>\n",
              "      <td>ART HISTORY AND CRITICISM</td>\n",
              "      <td>21030.0</td>\n",
              "      <td>3240.0</td>\n",
              "      <td>17790.0</td>\n",
              "      <td>Humanities &amp; Liberal Arts</td>\n",
              "      <td>0.845934</td>\n",
              "      <td>204</td>\n",
              "      <td>17579</td>\n",
              "      <td>13262</td>\n",
              "      <td>6140</td>\n",
              "      <td>9965</td>\n",
              "      <td>1128</td>\n",
              "      <td>0.060298</td>\n",
              "      <td>31000</td>\n",
              "      <td>23000</td>\n",
              "      <td>40000</td>\n",
              "      <td>5139</td>\n",
              "      <td>9738</td>\n",
              "      <td>3426</td>\n",
              "    </tr>\n",
              "    <tr>\n",
              "      <th>149</th>\n",
              "      <td>150</td>\n",
              "      <td>6000</td>\n",
              "      <td>FINE ARTS</td>\n",
              "      <td>74440.0</td>\n",
              "      <td>24786.0</td>\n",
              "      <td>49654.0</td>\n",
              "      <td>Arts</td>\n",
              "      <td>0.667034</td>\n",
              "      <td>623</td>\n",
              "      <td>59679</td>\n",
              "      <td>42764</td>\n",
              "      <td>23656</td>\n",
              "      <td>31877</td>\n",
              "      <td>5486</td>\n",
              "      <td>0.084186</td>\n",
              "      <td>30500</td>\n",
              "      <td>21000</td>\n",
              "      <td>41000</td>\n",
              "      <td>20792</td>\n",
              "      <td>32725</td>\n",
              "      <td>11880</td>\n",
              "    </tr>\n",
              "    <tr>\n",
              "      <th>150</th>\n",
              "      <td>151</td>\n",
              "      <td>2901</td>\n",
              "      <td>FAMILY AND CONSUMER SCIENCES</td>\n",
              "      <td>58001.0</td>\n",
              "      <td>5166.0</td>\n",
              "      <td>52835.0</td>\n",
              "      <td>Industrial Arts &amp; Consumer Services</td>\n",
              "      <td>0.910933</td>\n",
              "      <td>518</td>\n",
              "      <td>46624</td>\n",
              "      <td>36747</td>\n",
              "      <td>15872</td>\n",
              "      <td>26906</td>\n",
              "      <td>3355</td>\n",
              "      <td>0.067128</td>\n",
              "      <td>30000</td>\n",
              "      <td>22900</td>\n",
              "      <td>40000</td>\n",
              "      <td>20985</td>\n",
              "      <td>20133</td>\n",
              "      <td>5248</td>\n",
              "    </tr>\n",
              "    <tr>\n",
              "      <th>151</th>\n",
              "      <td>152</td>\n",
              "      <td>5404</td>\n",
              "      <td>SOCIAL WORK</td>\n",
              "      <td>53552.0</td>\n",
              "      <td>5137.0</td>\n",
              "      <td>48415.0</td>\n",
              "      <td>Psychology &amp; Social Work</td>\n",
              "      <td>0.904075</td>\n",
              "      <td>374</td>\n",
              "      <td>45038</td>\n",
              "      <td>34941</td>\n",
              "      <td>13481</td>\n",
              "      <td>27588</td>\n",
              "      <td>3329</td>\n",
              "      <td>0.068828</td>\n",
              "      <td>30000</td>\n",
              "      <td>25000</td>\n",
              "      <td>35000</td>\n",
              "      <td>27449</td>\n",
              "      <td>14416</td>\n",
              "      <td>4344</td>\n",
              "    </tr>\n",
              "    <tr>\n",
              "      <th>152</th>\n",
              "      <td>153</td>\n",
              "      <td>1103</td>\n",
              "      <td>ANIMAL SCIENCES</td>\n",
              "      <td>21573.0</td>\n",
              "      <td>5347.0</td>\n",
              "      <td>16226.0</td>\n",
              "      <td>Agriculture &amp; Natural Resources</td>\n",
              "      <td>0.752144</td>\n",
              "      <td>255</td>\n",
              "      <td>17112</td>\n",
              "      <td>14479</td>\n",
              "      <td>5353</td>\n",
              "      <td>10824</td>\n",
              "      <td>917</td>\n",
              "      <td>0.050862</td>\n",
              "      <td>30000</td>\n",
              "      <td>22000</td>\n",
              "      <td>40000</td>\n",
              "      <td>5443</td>\n",
              "      <td>9571</td>\n",
              "      <td>2125</td>\n",
              "    </tr>\n",
              "    <tr>\n",
              "      <th>153</th>\n",
              "      <td>154</td>\n",
              "      <td>6003</td>\n",
              "      <td>VISUAL AND PERFORMING ARTS</td>\n",
              "      <td>16250.0</td>\n",
              "      <td>4133.0</td>\n",
              "      <td>12117.0</td>\n",
              "      <td>Arts</td>\n",
              "      <td>0.745662</td>\n",
              "      <td>132</td>\n",
              "      <td>12870</td>\n",
              "      <td>8447</td>\n",
              "      <td>6253</td>\n",
              "      <td>6322</td>\n",
              "      <td>1465</td>\n",
              "      <td>0.102197</td>\n",
              "      <td>30000</td>\n",
              "      <td>22000</td>\n",
              "      <td>40000</td>\n",
              "      <td>3849</td>\n",
              "      <td>7635</td>\n",
              "      <td>2840</td>\n",
              "    </tr>\n",
              "    <tr>\n",
              "      <th>154</th>\n",
              "      <td>155</td>\n",
              "      <td>2312</td>\n",
              "      <td>TEACHER EDUCATION: MULTIPLE LEVELS</td>\n",
              "      <td>14443.0</td>\n",
              "      <td>2734.0</td>\n",
              "      <td>11709.0</td>\n",
              "      <td>Education</td>\n",
              "      <td>0.810704</td>\n",
              "      <td>142</td>\n",
              "      <td>13076</td>\n",
              "      <td>11734</td>\n",
              "      <td>2214</td>\n",
              "      <td>8457</td>\n",
              "      <td>496</td>\n",
              "      <td>0.036546</td>\n",
              "      <td>30000</td>\n",
              "      <td>24000</td>\n",
              "      <td>37000</td>\n",
              "      <td>10766</td>\n",
              "      <td>1949</td>\n",
              "      <td>722</td>\n",
              "    </tr>\n",
              "    <tr>\n",
              "      <th>155</th>\n",
              "      <td>156</td>\n",
              "      <td>5299</td>\n",
              "      <td>MISCELLANEOUS PSYCHOLOGY</td>\n",
              "      <td>9628.0</td>\n",
              "      <td>1936.0</td>\n",
              "      <td>7692.0</td>\n",
              "      <td>Psychology &amp; Social Work</td>\n",
              "      <td>0.798920</td>\n",
              "      <td>60</td>\n",
              "      <td>7653</td>\n",
              "      <td>5201</td>\n",
              "      <td>3221</td>\n",
              "      <td>3838</td>\n",
              "      <td>419</td>\n",
              "      <td>0.051908</td>\n",
              "      <td>30000</td>\n",
              "      <td>20800</td>\n",
              "      <td>40000</td>\n",
              "      <td>2960</td>\n",
              "      <td>3948</td>\n",
              "      <td>1650</td>\n",
              "    </tr>\n",
              "    <tr>\n",
              "      <th>156</th>\n",
              "      <td>157</td>\n",
              "      <td>5403</td>\n",
              "      <td>HUMAN SERVICES AND COMMUNITY ORGANIZATION</td>\n",
              "      <td>9374.0</td>\n",
              "      <td>885.0</td>\n",
              "      <td>8489.0</td>\n",
              "      <td>Psychology &amp; Social Work</td>\n",
              "      <td>0.905590</td>\n",
              "      <td>89</td>\n",
              "      <td>8294</td>\n",
              "      <td>6455</td>\n",
              "      <td>2405</td>\n",
              "      <td>5061</td>\n",
              "      <td>326</td>\n",
              "      <td>0.037819</td>\n",
              "      <td>30000</td>\n",
              "      <td>24000</td>\n",
              "      <td>35000</td>\n",
              "      <td>2878</td>\n",
              "      <td>4595</td>\n",
              "      <td>724</td>\n",
              "    </tr>\n",
              "    <tr>\n",
              "      <th>157</th>\n",
              "      <td>158</td>\n",
              "      <td>3402</td>\n",
              "      <td>HUMANITIES</td>\n",
              "      <td>6652.0</td>\n",
              "      <td>2013.0</td>\n",
              "      <td>4639.0</td>\n",
              "      <td>Humanities &amp; Liberal Arts</td>\n",
              "      <td>0.697384</td>\n",
              "      <td>49</td>\n",
              "      <td>5052</td>\n",
              "      <td>3565</td>\n",
              "      <td>2225</td>\n",
              "      <td>2661</td>\n",
              "      <td>372</td>\n",
              "      <td>0.068584</td>\n",
              "      <td>30000</td>\n",
              "      <td>20000</td>\n",
              "      <td>49000</td>\n",
              "      <td>1168</td>\n",
              "      <td>3354</td>\n",
              "      <td>1141</td>\n",
              "    </tr>\n",
              "    <tr>\n",
              "      <th>158</th>\n",
              "      <td>159</td>\n",
              "      <td>4901</td>\n",
              "      <td>THEOLOGY AND RELIGIOUS VOCATIONS</td>\n",
              "      <td>30207.0</td>\n",
              "      <td>18616.0</td>\n",
              "      <td>11591.0</td>\n",
              "      <td>Humanities &amp; Liberal Arts</td>\n",
              "      <td>0.383719</td>\n",
              "      <td>310</td>\n",
              "      <td>24202</td>\n",
              "      <td>18079</td>\n",
              "      <td>8767</td>\n",
              "      <td>13944</td>\n",
              "      <td>1617</td>\n",
              "      <td>0.062628</td>\n",
              "      <td>29000</td>\n",
              "      <td>22000</td>\n",
              "      <td>38000</td>\n",
              "      <td>9927</td>\n",
              "      <td>12037</td>\n",
              "      <td>3304</td>\n",
              "    </tr>\n",
              "    <tr>\n",
              "      <th>159</th>\n",
              "      <td>160</td>\n",
              "      <td>6007</td>\n",
              "      <td>STUDIO ARTS</td>\n",
              "      <td>16977.0</td>\n",
              "      <td>4754.0</td>\n",
              "      <td>12223.0</td>\n",
              "      <td>Arts</td>\n",
              "      <td>0.719974</td>\n",
              "      <td>182</td>\n",
              "      <td>13908</td>\n",
              "      <td>10451</td>\n",
              "      <td>5673</td>\n",
              "      <td>7413</td>\n",
              "      <td>1368</td>\n",
              "      <td>0.089552</td>\n",
              "      <td>29000</td>\n",
              "      <td>19200</td>\n",
              "      <td>38300</td>\n",
              "      <td>3948</td>\n",
              "      <td>8707</td>\n",
              "      <td>3586</td>\n",
              "    </tr>\n",
              "    <tr>\n",
              "      <th>160</th>\n",
              "      <td>161</td>\n",
              "      <td>2201</td>\n",
              "      <td>COSMETOLOGY SERVICES AND CULINARY ARTS</td>\n",
              "      <td>10510.0</td>\n",
              "      <td>4364.0</td>\n",
              "      <td>6146.0</td>\n",
              "      <td>Industrial Arts &amp; Consumer Services</td>\n",
              "      <td>0.584776</td>\n",
              "      <td>117</td>\n",
              "      <td>8650</td>\n",
              "      <td>7662</td>\n",
              "      <td>2064</td>\n",
              "      <td>5949</td>\n",
              "      <td>510</td>\n",
              "      <td>0.055677</td>\n",
              "      <td>29000</td>\n",
              "      <td>20000</td>\n",
              "      <td>36000</td>\n",
              "      <td>563</td>\n",
              "      <td>7384</td>\n",
              "      <td>3163</td>\n",
              "    </tr>\n",
              "    <tr>\n",
              "      <th>161</th>\n",
              "      <td>162</td>\n",
              "      <td>1199</td>\n",
              "      <td>MISCELLANEOUS AGRICULTURE</td>\n",
              "      <td>1488.0</td>\n",
              "      <td>404.0</td>\n",
              "      <td>1084.0</td>\n",
              "      <td>Agriculture &amp; Natural Resources</td>\n",
              "      <td>0.728495</td>\n",
              "      <td>24</td>\n",
              "      <td>1290</td>\n",
              "      <td>1098</td>\n",
              "      <td>335</td>\n",
              "      <td>936</td>\n",
              "      <td>82</td>\n",
              "      <td>0.059767</td>\n",
              "      <td>29000</td>\n",
              "      <td>23000</td>\n",
              "      <td>42100</td>\n",
              "      <td>483</td>\n",
              "      <td>626</td>\n",
              "      <td>31</td>\n",
              "    </tr>\n",
              "    <tr>\n",
              "      <th>162</th>\n",
              "      <td>163</td>\n",
              "      <td>5502</td>\n",
              "      <td>ANTHROPOLOGY AND ARCHEOLOGY</td>\n",
              "      <td>38844.0</td>\n",
              "      <td>11376.0</td>\n",
              "      <td>27468.0</td>\n",
              "      <td>Humanities &amp; Liberal Arts</td>\n",
              "      <td>0.707136</td>\n",
              "      <td>247</td>\n",
              "      <td>29633</td>\n",
              "      <td>20147</td>\n",
              "      <td>14515</td>\n",
              "      <td>13232</td>\n",
              "      <td>3395</td>\n",
              "      <td>0.102792</td>\n",
              "      <td>28000</td>\n",
              "      <td>20000</td>\n",
              "      <td>38000</td>\n",
              "      <td>9805</td>\n",
              "      <td>16693</td>\n",
              "      <td>6866</td>\n",
              "    </tr>\n",
              "    <tr>\n",
              "      <th>163</th>\n",
              "      <td>164</td>\n",
              "      <td>6102</td>\n",
              "      <td>COMMUNICATION DISORDERS SCIENCES AND SERVICES</td>\n",
              "      <td>38279.0</td>\n",
              "      <td>1225.0</td>\n",
              "      <td>37054.0</td>\n",
              "      <td>Health</td>\n",
              "      <td>0.967998</td>\n",
              "      <td>95</td>\n",
              "      <td>29763</td>\n",
              "      <td>19975</td>\n",
              "      <td>13862</td>\n",
              "      <td>14460</td>\n",
              "      <td>1487</td>\n",
              "      <td>0.047584</td>\n",
              "      <td>28000</td>\n",
              "      <td>20000</td>\n",
              "      <td>40000</td>\n",
              "      <td>19957</td>\n",
              "      <td>9404</td>\n",
              "      <td>5125</td>\n",
              "    </tr>\n",
              "    <tr>\n",
              "      <th>164</th>\n",
              "      <td>165</td>\n",
              "      <td>2307</td>\n",
              "      <td>EARLY CHILDHOOD EDUCATION</td>\n",
              "      <td>37589.0</td>\n",
              "      <td>1167.0</td>\n",
              "      <td>36422.0</td>\n",
              "      <td>Education</td>\n",
              "      <td>0.968954</td>\n",
              "      <td>342</td>\n",
              "      <td>32551</td>\n",
              "      <td>27569</td>\n",
              "      <td>7001</td>\n",
              "      <td>20748</td>\n",
              "      <td>1360</td>\n",
              "      <td>0.040105</td>\n",
              "      <td>28000</td>\n",
              "      <td>21000</td>\n",
              "      <td>35000</td>\n",
              "      <td>23515</td>\n",
              "      <td>7705</td>\n",
              "      <td>2868</td>\n",
              "    </tr>\n",
              "    <tr>\n",
              "      <th>165</th>\n",
              "      <td>166</td>\n",
              "      <td>2603</td>\n",
              "      <td>OTHER FOREIGN LANGUAGES</td>\n",
              "      <td>11204.0</td>\n",
              "      <td>3472.0</td>\n",
              "      <td>7732.0</td>\n",
              "      <td>Humanities &amp; Liberal Arts</td>\n",
              "      <td>0.690111</td>\n",
              "      <td>56</td>\n",
              "      <td>7052</td>\n",
              "      <td>5197</td>\n",
              "      <td>3685</td>\n",
              "      <td>3214</td>\n",
              "      <td>846</td>\n",
              "      <td>0.107116</td>\n",
              "      <td>27500</td>\n",
              "      <td>22900</td>\n",
              "      <td>38000</td>\n",
              "      <td>2326</td>\n",
              "      <td>3703</td>\n",
              "      <td>1115</td>\n",
              "    </tr>\n",
              "    <tr>\n",
              "      <th>166</th>\n",
              "      <td>167</td>\n",
              "      <td>6001</td>\n",
              "      <td>DRAMA AND THEATER ARTS</td>\n",
              "      <td>43249.0</td>\n",
              "      <td>14440.0</td>\n",
              "      <td>28809.0</td>\n",
              "      <td>Arts</td>\n",
              "      <td>0.666119</td>\n",
              "      <td>357</td>\n",
              "      <td>36165</td>\n",
              "      <td>25147</td>\n",
              "      <td>15994</td>\n",
              "      <td>16891</td>\n",
              "      <td>3040</td>\n",
              "      <td>0.077541</td>\n",
              "      <td>27000</td>\n",
              "      <td>19200</td>\n",
              "      <td>35000</td>\n",
              "      <td>6994</td>\n",
              "      <td>25313</td>\n",
              "      <td>11068</td>\n",
              "    </tr>\n",
              "    <tr>\n",
              "      <th>167</th>\n",
              "      <td>168</td>\n",
              "      <td>3302</td>\n",
              "      <td>COMPOSITION AND RHETORIC</td>\n",
              "      <td>18953.0</td>\n",
              "      <td>7022.0</td>\n",
              "      <td>11931.0</td>\n",
              "      <td>Humanities &amp; Liberal Arts</td>\n",
              "      <td>0.629505</td>\n",
              "      <td>151</td>\n",
              "      <td>15053</td>\n",
              "      <td>10121</td>\n",
              "      <td>6612</td>\n",
              "      <td>7832</td>\n",
              "      <td>1340</td>\n",
              "      <td>0.081742</td>\n",
              "      <td>27000</td>\n",
              "      <td>20000</td>\n",
              "      <td>35000</td>\n",
              "      <td>4855</td>\n",
              "      <td>8100</td>\n",
              "      <td>3466</td>\n",
              "    </tr>\n",
              "    <tr>\n",
              "      <th>168</th>\n",
              "      <td>169</td>\n",
              "      <td>3609</td>\n",
              "      <td>ZOOLOGY</td>\n",
              "      <td>8409.0</td>\n",
              "      <td>3050.0</td>\n",
              "      <td>5359.0</td>\n",
              "      <td>Biology &amp; Life Science</td>\n",
              "      <td>0.637293</td>\n",
              "      <td>47</td>\n",
              "      <td>6259</td>\n",
              "      <td>5043</td>\n",
              "      <td>2190</td>\n",
              "      <td>3602</td>\n",
              "      <td>304</td>\n",
              "      <td>0.046320</td>\n",
              "      <td>26000</td>\n",
              "      <td>20000</td>\n",
              "      <td>39000</td>\n",
              "      <td>2771</td>\n",
              "      <td>2947</td>\n",
              "      <td>743</td>\n",
              "    </tr>\n",
              "    <tr>\n",
              "      <th>169</th>\n",
              "      <td>170</td>\n",
              "      <td>5201</td>\n",
              "      <td>EDUCATIONAL PSYCHOLOGY</td>\n",
              "      <td>2854.0</td>\n",
              "      <td>522.0</td>\n",
              "      <td>2332.0</td>\n",
              "      <td>Psychology &amp; Social Work</td>\n",
              "      <td>0.817099</td>\n",
              "      <td>7</td>\n",
              "      <td>2125</td>\n",
              "      <td>1848</td>\n",
              "      <td>572</td>\n",
              "      <td>1211</td>\n",
              "      <td>148</td>\n",
              "      <td>0.065112</td>\n",
              "      <td>25000</td>\n",
              "      <td>24000</td>\n",
              "      <td>34000</td>\n",
              "      <td>1488</td>\n",
              "      <td>615</td>\n",
              "      <td>82</td>\n",
              "    </tr>\n",
              "    <tr>\n",
              "      <th>170</th>\n",
              "      <td>171</td>\n",
              "      <td>5202</td>\n",
              "      <td>CLINICAL PSYCHOLOGY</td>\n",
              "      <td>2838.0</td>\n",
              "      <td>568.0</td>\n",
              "      <td>2270.0</td>\n",
              "      <td>Psychology &amp; Social Work</td>\n",
              "      <td>0.799859</td>\n",
              "      <td>13</td>\n",
              "      <td>2101</td>\n",
              "      <td>1724</td>\n",
              "      <td>648</td>\n",
              "      <td>1293</td>\n",
              "      <td>368</td>\n",
              "      <td>0.149048</td>\n",
              "      <td>25000</td>\n",
              "      <td>25000</td>\n",
              "      <td>40000</td>\n",
              "      <td>986</td>\n",
              "      <td>870</td>\n",
              "      <td>622</td>\n",
              "    </tr>\n",
              "    <tr>\n",
              "      <th>171</th>\n",
              "      <td>172</td>\n",
              "      <td>5203</td>\n",
              "      <td>COUNSELING PSYCHOLOGY</td>\n",
              "      <td>4626.0</td>\n",
              "      <td>931.0</td>\n",
              "      <td>3695.0</td>\n",
              "      <td>Psychology &amp; Social Work</td>\n",
              "      <td>0.798746</td>\n",
              "      <td>21</td>\n",
              "      <td>3777</td>\n",
              "      <td>3154</td>\n",
              "      <td>965</td>\n",
              "      <td>2738</td>\n",
              "      <td>214</td>\n",
              "      <td>0.053621</td>\n",
              "      <td>23400</td>\n",
              "      <td>19200</td>\n",
              "      <td>26000</td>\n",
              "      <td>2403</td>\n",
              "      <td>1245</td>\n",
              "      <td>308</td>\n",
              "    </tr>\n",
              "    <tr>\n",
              "      <th>172</th>\n",
              "      <td>173</td>\n",
              "      <td>3501</td>\n",
              "      <td>LIBRARY SCIENCE</td>\n",
              "      <td>1098.0</td>\n",
              "      <td>134.0</td>\n",
              "      <td>964.0</td>\n",
              "      <td>Education</td>\n",
              "      <td>0.877960</td>\n",
              "      <td>2</td>\n",
              "      <td>742</td>\n",
              "      <td>593</td>\n",
              "      <td>237</td>\n",
              "      <td>410</td>\n",
              "      <td>87</td>\n",
              "      <td>0.104946</td>\n",
              "      <td>22000</td>\n",
              "      <td>20000</td>\n",
              "      <td>22000</td>\n",
              "      <td>288</td>\n",
              "      <td>338</td>\n",
              "      <td>192</td>\n",
              "    </tr>\n",
              "  </tbody>\n",
              "</table>\n",
              "<p>173 rows × 21 columns</p>\n",
              "</div>"
            ],
            "text/plain": [
              "     Rank  Major_code  ... Non_college_jobs  Low_wage_jobs\n",
              "0       1        2419  ...              364            193\n",
              "1       2        2416  ...              257             50\n",
              "2       3        2415  ...              176              0\n",
              "3       4        2417  ...              102              0\n",
              "4       5        2405  ...             4440            972\n",
              "5       6        2418  ...              657            244\n",
              "6       7        6202  ...              314            259\n",
              "7       8        5001  ...              500            220\n",
              "8       9        2414  ...            16384           3253\n",
              "9      10        2408  ...            10874           3170\n",
              "10     11        2407  ...             5721            980\n",
              "11     12        2401  ...             2425            372\n",
              "12     13        2404  ...             2471            789\n",
              "13     14        5008  ...              391             81\n",
              "14     15        2409  ...              947            263\n",
              "15     16        2402  ...             1595            524\n",
              "16     17        2412  ...             3235            640\n",
              "17     18        2400  ...            11734           3192\n",
              "18     19        2403  ...              649            137\n",
              "19     20        3201  ...              528            144\n",
              "20     21        2102  ...            25667           5144\n",
              "21     22        1104  ...             1274            485\n",
              "22     23        2502  ...             2686            696\n",
              "23     24        2413  ...              305             70\n",
              "24     25        6212  ...             5741            708\n",
              "25     26        2406  ...             9356           2899\n",
              "26     27        5601  ...             5351            703\n",
              "27     28        6204  ...             3629            285\n",
              "28     29        2499  ...             2426            365\n",
              "29     30        5402  ...             1871            340\n",
              "..    ...         ...  ...              ...            ...\n",
              "143   144        1105  ...             3545           1231\n",
              "144   145        2308  ...             1106            591\n",
              "145   146        5200  ...           141860          48207\n",
              "146   147        6002  ...            28786           9286\n",
              "147   148        2306  ...             9328           2042\n",
              "148   149        6006  ...             9738           3426\n",
              "149   150        6000  ...            32725          11880\n",
              "150   151        2901  ...            20133           5248\n",
              "151   152        5404  ...            14416           4344\n",
              "152   153        1103  ...             9571           2125\n",
              "153   154        6003  ...             7635           2840\n",
              "154   155        2312  ...             1949            722\n",
              "155   156        5299  ...             3948           1650\n",
              "156   157        5403  ...             4595            724\n",
              "157   158        3402  ...             3354           1141\n",
              "158   159        4901  ...            12037           3304\n",
              "159   160        6007  ...             8707           3586\n",
              "160   161        2201  ...             7384           3163\n",
              "161   162        1199  ...              626             31\n",
              "162   163        5502  ...            16693           6866\n",
              "163   164        6102  ...             9404           5125\n",
              "164   165        2307  ...             7705           2868\n",
              "165   166        2603  ...             3703           1115\n",
              "166   167        6001  ...            25313          11068\n",
              "167   168        3302  ...             8100           3466\n",
              "168   169        3609  ...             2947            743\n",
              "169   170        5201  ...              615             82\n",
              "170   171        5202  ...              870            622\n",
              "171   172        5203  ...             1245            308\n",
              "172   173        3501  ...              338            192\n",
              "\n",
              "[173 rows x 21 columns]"
            ]
          },
          "metadata": {
            "tags": []
          },
          "execution_count": 36
        }
      ]
    },
    {
      "cell_type": "code",
      "metadata": {
        "colab_type": "code",
        "id": "vj1ZRvUFbl9Z",
        "outputId": "ccce2dd8-abce-4748-a65f-564604c410c7",
        "colab": {
          "base_uri": "https://localhost:8080/",
          "height": 1000
        }
      },
      "source": [
        "# majors_data['Major', 'Total', 'Unemployment_rate']\n",
        "\n",
        "relevant_data = majors_data[['Major', 'Total', 'Median']]\n",
        "\n",
        "relevant_data"
      ],
      "execution_count": 37,
      "outputs": [
        {
          "output_type": "execute_result",
          "data": {
            "text/html": [
              "<div>\n",
              "<style scoped>\n",
              "    .dataframe tbody tr th:only-of-type {\n",
              "        vertical-align: middle;\n",
              "    }\n",
              "\n",
              "    .dataframe tbody tr th {\n",
              "        vertical-align: top;\n",
              "    }\n",
              "\n",
              "    .dataframe thead th {\n",
              "        text-align: right;\n",
              "    }\n",
              "</style>\n",
              "<table border=\"1\" class=\"dataframe\">\n",
              "  <thead>\n",
              "    <tr style=\"text-align: right;\">\n",
              "      <th></th>\n",
              "      <th>Major</th>\n",
              "      <th>Total</th>\n",
              "      <th>Median</th>\n",
              "    </tr>\n",
              "  </thead>\n",
              "  <tbody>\n",
              "    <tr>\n",
              "      <th>0</th>\n",
              "      <td>PETROLEUM ENGINEERING</td>\n",
              "      <td>2339.0</td>\n",
              "      <td>110000</td>\n",
              "    </tr>\n",
              "    <tr>\n",
              "      <th>1</th>\n",
              "      <td>MINING AND MINERAL ENGINEERING</td>\n",
              "      <td>756.0</td>\n",
              "      <td>75000</td>\n",
              "    </tr>\n",
              "    <tr>\n",
              "      <th>2</th>\n",
              "      <td>METALLURGICAL ENGINEERING</td>\n",
              "      <td>856.0</td>\n",
              "      <td>73000</td>\n",
              "    </tr>\n",
              "    <tr>\n",
              "      <th>3</th>\n",
              "      <td>NAVAL ARCHITECTURE AND MARINE ENGINEERING</td>\n",
              "      <td>1258.0</td>\n",
              "      <td>70000</td>\n",
              "    </tr>\n",
              "    <tr>\n",
              "      <th>4</th>\n",
              "      <td>CHEMICAL ENGINEERING</td>\n",
              "      <td>32260.0</td>\n",
              "      <td>65000</td>\n",
              "    </tr>\n",
              "    <tr>\n",
              "      <th>5</th>\n",
              "      <td>NUCLEAR ENGINEERING</td>\n",
              "      <td>2573.0</td>\n",
              "      <td>65000</td>\n",
              "    </tr>\n",
              "    <tr>\n",
              "      <th>6</th>\n",
              "      <td>ACTUARIAL SCIENCE</td>\n",
              "      <td>3777.0</td>\n",
              "      <td>62000</td>\n",
              "    </tr>\n",
              "    <tr>\n",
              "      <th>7</th>\n",
              "      <td>ASTRONOMY AND ASTROPHYSICS</td>\n",
              "      <td>1792.0</td>\n",
              "      <td>62000</td>\n",
              "    </tr>\n",
              "    <tr>\n",
              "      <th>8</th>\n",
              "      <td>MECHANICAL ENGINEERING</td>\n",
              "      <td>91227.0</td>\n",
              "      <td>60000</td>\n",
              "    </tr>\n",
              "    <tr>\n",
              "      <th>9</th>\n",
              "      <td>ELECTRICAL ENGINEERING</td>\n",
              "      <td>81527.0</td>\n",
              "      <td>60000</td>\n",
              "    </tr>\n",
              "    <tr>\n",
              "      <th>10</th>\n",
              "      <td>COMPUTER ENGINEERING</td>\n",
              "      <td>41542.0</td>\n",
              "      <td>60000</td>\n",
              "    </tr>\n",
              "    <tr>\n",
              "      <th>11</th>\n",
              "      <td>AEROSPACE ENGINEERING</td>\n",
              "      <td>15058.0</td>\n",
              "      <td>60000</td>\n",
              "    </tr>\n",
              "    <tr>\n",
              "      <th>12</th>\n",
              "      <td>BIOMEDICAL ENGINEERING</td>\n",
              "      <td>14955.0</td>\n",
              "      <td>60000</td>\n",
              "    </tr>\n",
              "    <tr>\n",
              "      <th>13</th>\n",
              "      <td>MATERIALS SCIENCE</td>\n",
              "      <td>4279.0</td>\n",
              "      <td>60000</td>\n",
              "    </tr>\n",
              "    <tr>\n",
              "      <th>14</th>\n",
              "      <td>ENGINEERING MECHANICS PHYSICS AND SCIENCE</td>\n",
              "      <td>4321.0</td>\n",
              "      <td>58000</td>\n",
              "    </tr>\n",
              "    <tr>\n",
              "      <th>15</th>\n",
              "      <td>BIOLOGICAL ENGINEERING</td>\n",
              "      <td>8925.0</td>\n",
              "      <td>57100</td>\n",
              "    </tr>\n",
              "    <tr>\n",
              "      <th>16</th>\n",
              "      <td>INDUSTRIAL AND MANUFACTURING ENGINEERING</td>\n",
              "      <td>18968.0</td>\n",
              "      <td>57000</td>\n",
              "    </tr>\n",
              "    <tr>\n",
              "      <th>17</th>\n",
              "      <td>GENERAL ENGINEERING</td>\n",
              "      <td>61152.0</td>\n",
              "      <td>56000</td>\n",
              "    </tr>\n",
              "    <tr>\n",
              "      <th>18</th>\n",
              "      <td>ARCHITECTURAL ENGINEERING</td>\n",
              "      <td>2825.0</td>\n",
              "      <td>54000</td>\n",
              "    </tr>\n",
              "    <tr>\n",
              "      <th>19</th>\n",
              "      <td>COURT REPORTING</td>\n",
              "      <td>1148.0</td>\n",
              "      <td>54000</td>\n",
              "    </tr>\n",
              "    <tr>\n",
              "      <th>20</th>\n",
              "      <td>COMPUTER SCIENCE</td>\n",
              "      <td>128319.0</td>\n",
              "      <td>53000</td>\n",
              "    </tr>\n",
              "    <tr>\n",
              "      <th>21</th>\n",
              "      <td>FOOD SCIENCE</td>\n",
              "      <td>NaN</td>\n",
              "      <td>53000</td>\n",
              "    </tr>\n",
              "    <tr>\n",
              "      <th>22</th>\n",
              "      <td>ELECTRICAL ENGINEERING TECHNOLOGY</td>\n",
              "      <td>11565.0</td>\n",
              "      <td>52000</td>\n",
              "    </tr>\n",
              "    <tr>\n",
              "      <th>23</th>\n",
              "      <td>MATERIALS ENGINEERING AND MATERIALS SCIENCE</td>\n",
              "      <td>2993.0</td>\n",
              "      <td>52000</td>\n",
              "    </tr>\n",
              "    <tr>\n",
              "      <th>24</th>\n",
              "      <td>MANAGEMENT INFORMATION SYSTEMS AND STATISTICS</td>\n",
              "      <td>18713.0</td>\n",
              "      <td>51000</td>\n",
              "    </tr>\n",
              "    <tr>\n",
              "      <th>25</th>\n",
              "      <td>CIVIL ENGINEERING</td>\n",
              "      <td>53153.0</td>\n",
              "      <td>50000</td>\n",
              "    </tr>\n",
              "    <tr>\n",
              "      <th>26</th>\n",
              "      <td>CONSTRUCTION SERVICES</td>\n",
              "      <td>18498.0</td>\n",
              "      <td>50000</td>\n",
              "    </tr>\n",
              "    <tr>\n",
              "      <th>27</th>\n",
              "      <td>OPERATIONS LOGISTICS AND E-COMMERCE</td>\n",
              "      <td>11732.0</td>\n",
              "      <td>50000</td>\n",
              "    </tr>\n",
              "    <tr>\n",
              "      <th>28</th>\n",
              "      <td>MISCELLANEOUS ENGINEERING</td>\n",
              "      <td>9133.0</td>\n",
              "      <td>50000</td>\n",
              "    </tr>\n",
              "    <tr>\n",
              "      <th>29</th>\n",
              "      <td>PUBLIC POLICY</td>\n",
              "      <td>5978.0</td>\n",
              "      <td>50000</td>\n",
              "    </tr>\n",
              "    <tr>\n",
              "      <th>...</th>\n",
              "      <td>...</td>\n",
              "      <td>...</td>\n",
              "      <td>...</td>\n",
              "    </tr>\n",
              "    <tr>\n",
              "      <th>143</th>\n",
              "      <td>PLANT SCIENCE AND AGRONOMY</td>\n",
              "      <td>7416.0</td>\n",
              "      <td>32000</td>\n",
              "    </tr>\n",
              "    <tr>\n",
              "      <th>144</th>\n",
              "      <td>SCIENCE AND COMPUTER TEACHER EDUCATION</td>\n",
              "      <td>6483.0</td>\n",
              "      <td>32000</td>\n",
              "    </tr>\n",
              "    <tr>\n",
              "      <th>145</th>\n",
              "      <td>PSYCHOLOGY</td>\n",
              "      <td>393735.0</td>\n",
              "      <td>31500</td>\n",
              "    </tr>\n",
              "    <tr>\n",
              "      <th>146</th>\n",
              "      <td>MUSIC</td>\n",
              "      <td>60633.0</td>\n",
              "      <td>31000</td>\n",
              "    </tr>\n",
              "    <tr>\n",
              "      <th>147</th>\n",
              "      <td>PHYSICAL AND HEALTH EDUCATION TEACHING</td>\n",
              "      <td>28213.0</td>\n",
              "      <td>31000</td>\n",
              "    </tr>\n",
              "    <tr>\n",
              "      <th>148</th>\n",
              "      <td>ART HISTORY AND CRITICISM</td>\n",
              "      <td>21030.0</td>\n",
              "      <td>31000</td>\n",
              "    </tr>\n",
              "    <tr>\n",
              "      <th>149</th>\n",
              "      <td>FINE ARTS</td>\n",
              "      <td>74440.0</td>\n",
              "      <td>30500</td>\n",
              "    </tr>\n",
              "    <tr>\n",
              "      <th>150</th>\n",
              "      <td>FAMILY AND CONSUMER SCIENCES</td>\n",
              "      <td>58001.0</td>\n",
              "      <td>30000</td>\n",
              "    </tr>\n",
              "    <tr>\n",
              "      <th>151</th>\n",
              "      <td>SOCIAL WORK</td>\n",
              "      <td>53552.0</td>\n",
              "      <td>30000</td>\n",
              "    </tr>\n",
              "    <tr>\n",
              "      <th>152</th>\n",
              "      <td>ANIMAL SCIENCES</td>\n",
              "      <td>21573.0</td>\n",
              "      <td>30000</td>\n",
              "    </tr>\n",
              "    <tr>\n",
              "      <th>153</th>\n",
              "      <td>VISUAL AND PERFORMING ARTS</td>\n",
              "      <td>16250.0</td>\n",
              "      <td>30000</td>\n",
              "    </tr>\n",
              "    <tr>\n",
              "      <th>154</th>\n",
              "      <td>TEACHER EDUCATION: MULTIPLE LEVELS</td>\n",
              "      <td>14443.0</td>\n",
              "      <td>30000</td>\n",
              "    </tr>\n",
              "    <tr>\n",
              "      <th>155</th>\n",
              "      <td>MISCELLANEOUS PSYCHOLOGY</td>\n",
              "      <td>9628.0</td>\n",
              "      <td>30000</td>\n",
              "    </tr>\n",
              "    <tr>\n",
              "      <th>156</th>\n",
              "      <td>HUMAN SERVICES AND COMMUNITY ORGANIZATION</td>\n",
              "      <td>9374.0</td>\n",
              "      <td>30000</td>\n",
              "    </tr>\n",
              "    <tr>\n",
              "      <th>157</th>\n",
              "      <td>HUMANITIES</td>\n",
              "      <td>6652.0</td>\n",
              "      <td>30000</td>\n",
              "    </tr>\n",
              "    <tr>\n",
              "      <th>158</th>\n",
              "      <td>THEOLOGY AND RELIGIOUS VOCATIONS</td>\n",
              "      <td>30207.0</td>\n",
              "      <td>29000</td>\n",
              "    </tr>\n",
              "    <tr>\n",
              "      <th>159</th>\n",
              "      <td>STUDIO ARTS</td>\n",
              "      <td>16977.0</td>\n",
              "      <td>29000</td>\n",
              "    </tr>\n",
              "    <tr>\n",
              "      <th>160</th>\n",
              "      <td>COSMETOLOGY SERVICES AND CULINARY ARTS</td>\n",
              "      <td>10510.0</td>\n",
              "      <td>29000</td>\n",
              "    </tr>\n",
              "    <tr>\n",
              "      <th>161</th>\n",
              "      <td>MISCELLANEOUS AGRICULTURE</td>\n",
              "      <td>1488.0</td>\n",
              "      <td>29000</td>\n",
              "    </tr>\n",
              "    <tr>\n",
              "      <th>162</th>\n",
              "      <td>ANTHROPOLOGY AND ARCHEOLOGY</td>\n",
              "      <td>38844.0</td>\n",
              "      <td>28000</td>\n",
              "    </tr>\n",
              "    <tr>\n",
              "      <th>163</th>\n",
              "      <td>COMMUNICATION DISORDERS SCIENCES AND SERVICES</td>\n",
              "      <td>38279.0</td>\n",
              "      <td>28000</td>\n",
              "    </tr>\n",
              "    <tr>\n",
              "      <th>164</th>\n",
              "      <td>EARLY CHILDHOOD EDUCATION</td>\n",
              "      <td>37589.0</td>\n",
              "      <td>28000</td>\n",
              "    </tr>\n",
              "    <tr>\n",
              "      <th>165</th>\n",
              "      <td>OTHER FOREIGN LANGUAGES</td>\n",
              "      <td>11204.0</td>\n",
              "      <td>27500</td>\n",
              "    </tr>\n",
              "    <tr>\n",
              "      <th>166</th>\n",
              "      <td>DRAMA AND THEATER ARTS</td>\n",
              "      <td>43249.0</td>\n",
              "      <td>27000</td>\n",
              "    </tr>\n",
              "    <tr>\n",
              "      <th>167</th>\n",
              "      <td>COMPOSITION AND RHETORIC</td>\n",
              "      <td>18953.0</td>\n",
              "      <td>27000</td>\n",
              "    </tr>\n",
              "    <tr>\n",
              "      <th>168</th>\n",
              "      <td>ZOOLOGY</td>\n",
              "      <td>8409.0</td>\n",
              "      <td>26000</td>\n",
              "    </tr>\n",
              "    <tr>\n",
              "      <th>169</th>\n",
              "      <td>EDUCATIONAL PSYCHOLOGY</td>\n",
              "      <td>2854.0</td>\n",
              "      <td>25000</td>\n",
              "    </tr>\n",
              "    <tr>\n",
              "      <th>170</th>\n",
              "      <td>CLINICAL PSYCHOLOGY</td>\n",
              "      <td>2838.0</td>\n",
              "      <td>25000</td>\n",
              "    </tr>\n",
              "    <tr>\n",
              "      <th>171</th>\n",
              "      <td>COUNSELING PSYCHOLOGY</td>\n",
              "      <td>4626.0</td>\n",
              "      <td>23400</td>\n",
              "    </tr>\n",
              "    <tr>\n",
              "      <th>172</th>\n",
              "      <td>LIBRARY SCIENCE</td>\n",
              "      <td>1098.0</td>\n",
              "      <td>22000</td>\n",
              "    </tr>\n",
              "  </tbody>\n",
              "</table>\n",
              "<p>173 rows × 3 columns</p>\n",
              "</div>"
            ],
            "text/plain": [
              "                                             Major     Total  Median\n",
              "0                            PETROLEUM ENGINEERING    2339.0  110000\n",
              "1                   MINING AND MINERAL ENGINEERING     756.0   75000\n",
              "2                        METALLURGICAL ENGINEERING     856.0   73000\n",
              "3        NAVAL ARCHITECTURE AND MARINE ENGINEERING    1258.0   70000\n",
              "4                             CHEMICAL ENGINEERING   32260.0   65000\n",
              "5                              NUCLEAR ENGINEERING    2573.0   65000\n",
              "6                                ACTUARIAL SCIENCE    3777.0   62000\n",
              "7                       ASTRONOMY AND ASTROPHYSICS    1792.0   62000\n",
              "8                           MECHANICAL ENGINEERING   91227.0   60000\n",
              "9                           ELECTRICAL ENGINEERING   81527.0   60000\n",
              "10                            COMPUTER ENGINEERING   41542.0   60000\n",
              "11                           AEROSPACE ENGINEERING   15058.0   60000\n",
              "12                          BIOMEDICAL ENGINEERING   14955.0   60000\n",
              "13                               MATERIALS SCIENCE    4279.0   60000\n",
              "14       ENGINEERING MECHANICS PHYSICS AND SCIENCE    4321.0   58000\n",
              "15                          BIOLOGICAL ENGINEERING    8925.0   57100\n",
              "16        INDUSTRIAL AND MANUFACTURING ENGINEERING   18968.0   57000\n",
              "17                             GENERAL ENGINEERING   61152.0   56000\n",
              "18                       ARCHITECTURAL ENGINEERING    2825.0   54000\n",
              "19                                 COURT REPORTING    1148.0   54000\n",
              "20                                COMPUTER SCIENCE  128319.0   53000\n",
              "21                                    FOOD SCIENCE       NaN   53000\n",
              "22               ELECTRICAL ENGINEERING TECHNOLOGY   11565.0   52000\n",
              "23     MATERIALS ENGINEERING AND MATERIALS SCIENCE    2993.0   52000\n",
              "24   MANAGEMENT INFORMATION SYSTEMS AND STATISTICS   18713.0   51000\n",
              "25                               CIVIL ENGINEERING   53153.0   50000\n",
              "26                           CONSTRUCTION SERVICES   18498.0   50000\n",
              "27             OPERATIONS LOGISTICS AND E-COMMERCE   11732.0   50000\n",
              "28                       MISCELLANEOUS ENGINEERING    9133.0   50000\n",
              "29                                   PUBLIC POLICY    5978.0   50000\n",
              "..                                             ...       ...     ...\n",
              "143                     PLANT SCIENCE AND AGRONOMY    7416.0   32000\n",
              "144         SCIENCE AND COMPUTER TEACHER EDUCATION    6483.0   32000\n",
              "145                                     PSYCHOLOGY  393735.0   31500\n",
              "146                                          MUSIC   60633.0   31000\n",
              "147         PHYSICAL AND HEALTH EDUCATION TEACHING   28213.0   31000\n",
              "148                      ART HISTORY AND CRITICISM   21030.0   31000\n",
              "149                                      FINE ARTS   74440.0   30500\n",
              "150                   FAMILY AND CONSUMER SCIENCES   58001.0   30000\n",
              "151                                    SOCIAL WORK   53552.0   30000\n",
              "152                                ANIMAL SCIENCES   21573.0   30000\n",
              "153                     VISUAL AND PERFORMING ARTS   16250.0   30000\n",
              "154             TEACHER EDUCATION: MULTIPLE LEVELS   14443.0   30000\n",
              "155                       MISCELLANEOUS PSYCHOLOGY    9628.0   30000\n",
              "156      HUMAN SERVICES AND COMMUNITY ORGANIZATION    9374.0   30000\n",
              "157                                     HUMANITIES    6652.0   30000\n",
              "158               THEOLOGY AND RELIGIOUS VOCATIONS   30207.0   29000\n",
              "159                                    STUDIO ARTS   16977.0   29000\n",
              "160         COSMETOLOGY SERVICES AND CULINARY ARTS   10510.0   29000\n",
              "161                      MISCELLANEOUS AGRICULTURE    1488.0   29000\n",
              "162                    ANTHROPOLOGY AND ARCHEOLOGY   38844.0   28000\n",
              "163  COMMUNICATION DISORDERS SCIENCES AND SERVICES   38279.0   28000\n",
              "164                      EARLY CHILDHOOD EDUCATION   37589.0   28000\n",
              "165                        OTHER FOREIGN LANGUAGES   11204.0   27500\n",
              "166                         DRAMA AND THEATER ARTS   43249.0   27000\n",
              "167                       COMPOSITION AND RHETORIC   18953.0   27000\n",
              "168                                        ZOOLOGY    8409.0   26000\n",
              "169                         EDUCATIONAL PSYCHOLOGY    2854.0   25000\n",
              "170                            CLINICAL PSYCHOLOGY    2838.0   25000\n",
              "171                          COUNSELING PSYCHOLOGY    4626.0   23400\n",
              "172                                LIBRARY SCIENCE    1098.0   22000\n",
              "\n",
              "[173 rows x 3 columns]"
            ]
          },
          "metadata": {
            "tags": []
          },
          "execution_count": 37
        }
      ]
    },
    {
      "cell_type": "code",
      "metadata": {
        "colab_type": "code",
        "id": "AHZxJ5m_dAeI",
        "outputId": "e2128dbe-db6a-4331-83fb-c2711d9eb043",
        "colab": {
          "base_uri": "https://localhost:8080/",
          "height": 384
        }
      },
      "source": [
        "fig = plt.figure()\n",
        "ax = fig.add_axes([0,0,2,1]) # arguments are location of [left, bottom, width, height], where the units are fraction of the figure\n",
        "x_data =  relevant_data['Total']\n",
        "y_data = relevant_data['Median']\n",
        "ax.set(xlabel='total people in major', ylabel='median salary')\n",
        "ax.plot(x_data, y_data, marker='.', linestyle = \"\")"
      ],
      "execution_count": 38,
      "outputs": [
        {
          "output_type": "execute_result",
          "data": {
            "text/plain": [
              "[<matplotlib.lines.Line2D at 0x7f82d96f2358>]"
            ]
          },
          "metadata": {
            "tags": []
          },
          "execution_count": 38
        },
        {
          "output_type": "display_data",
          "data": {
            "image/png": "[encoded data removed]",
            "text/plain": [
              "<Figure size 432x288 with 1 Axes>"
            ]
          },
          "metadata": {
            "tags": []
          }
        }
      ]
    },
    {
      "cell_type": "code",
      "metadata": {
        "colab_type": "code",
        "id": "gsiwi1Myju21",
        "colab": {}
      },
      "source": [
        "# conclusion: less popular majors typically have a higher median salary"
      ],
      "execution_count": 0,
      "outputs": []
    },
    {
      "cell_type": "markdown",
      "metadata": {
        "colab_type": "text",
        "id": "OLu4MBP69q6T"
      },
      "source": [
        "# Shapes and Geometry\n",
        "\n",
        "For geospatial data analysis, we will be dealing with a lot of geometry. The library that we will be using for geometry is called Shapely.\n",
        "\n",
        "Shapely is a _planar geometry_ package. Meaning that it is concermed with 2d geometry, making it well suited for representing and analyzing information on maps.\n",
        "\n",
        "This content is based off of the [Automating GIS Processes course](https://automating-gis-processes.github.io/2018/) from the University of Helsinki"
      ]
    },
    {
      "cell_type": "code",
      "metadata": {
        "id": "c4XNRN730VQw",
        "colab_type": "code",
        "colab": {
          "base_uri": "https://localhost:8080/",
          "height": 266
        },
        "outputId": "4170f2d1-5eb2-4bf1-8f6f-a5c320878325"
      },
      "source": [
        "!pip3 install shapely\n",
        "!pip3 install descartes"
      ],
      "execution_count": 40,
      "outputs": [
        {
          "output_type": "stream",
          "text": [
            "Requirement already satisfied: shapely in /usr/local/lib/python3.6/dist-packages (1.6.4.post2)\n",
            "Requirement already satisfied: descartes in /usr/local/lib/python3.6/dist-packages (1.1.0)\n",
            "Requirement already satisfied: matplotlib in /usr/local/lib/python3.6/dist-packages (from descartes) (3.0.3)\n",
            "Requirement already satisfied: cycler>=0.10 in /usr/local/lib/python3.6/dist-packages (from matplotlib->descartes) (0.10.0)\n",
            "Requirement already satisfied: python-dateutil>=2.1 in /usr/local/lib/python3.6/dist-packages (from matplotlib->descartes) (2.5.3)\n",
            "Requirement already satisfied: kiwisolver>=1.0.1 in /usr/local/lib/python3.6/dist-packages (from matplotlib->descartes) (1.1.0)\n",
            "Requirement already satisfied: numpy>=1.10.0 in /usr/local/lib/python3.6/dist-packages (from matplotlib->descartes) (1.16.4)\n",
            "Requirement already satisfied: pyparsing!=2.0.4,!=2.1.2,!=2.1.6,>=2.0.1 in /usr/local/lib/python3.6/dist-packages (from matplotlib->descartes) (2.4.0)\n",
            "Requirement already satisfied: six in /usr/local/lib/python3.6/dist-packages (from cycler>=0.10->matplotlib->descartes) (1.12.0)\n",
            "Requirement already satisfied: setuptools in /usr/local/lib/python3.6/dist-packages (from kiwisolver>=1.0.1->matplotlib->descartes) (41.0.1)\n"
          ],
          "name": "stdout"
        }
      ]
    },
    {
      "cell_type": "code",
      "metadata": {
        "colab_type": "code",
        "id": "eGxA0wEJQPEs",
        "colab": {}
      },
      "source": [
        "import shapely\n",
        "from matplotlib import pyplot as plt\n",
        "from shapely.geometry import Point, LineString, Polygon\n",
        "from descartes import PolygonPatch # will be used to visualize polygons"
      ],
      "execution_count": 0,
      "outputs": []
    },
    {
      "cell_type": "markdown",
      "metadata": {
        "colab_type": "text",
        "id": "Z2eO3jRJSf0x"
      },
      "source": [
        "## Shapely objects\n",
        "Shapely is a library for representing geometric objects, such as points, lines, and polygons. \n",
        "![Fundamental geometric objects that can be used in Python with Shapely](https://automating-gis-processes.github.io/2018/_images/SpatialDataModel.PNG)\n",
        "\n",
        "The primary classes in Shapely are the `Point`, `LineString`, and `Polygon` classes. Each are represented using 2 or 3-dimensional coordinate tuples (x,y(,z)) \n",
        "\n",
        "- `Point` -object represents a single point in space. Points can be either two-dimensional (x, y) or three dimensional (x, y, z).\n",
        "-  `LineString` -object (i.e. a line) represents a sequence of points joined together to form a line. Hence, a line consist of a list of at least two coordinate tuples\n",
        "- `Polygon` -object represents a filled area that consists of a list of at least three coordinate tuples that forms the outerior ring and a (possible) list of hole polygons.\n",
        "\n",
        "There are also collections of objects, aptly named `MultiPoint`, `MultiLineString`, and `MultiPolygon`. These are, as their names suggest, collections of multiple `Point`, `LineString`, and `Polygon` objects respectively. There also exists a broader class of `GeometryCollection`, which can include objects of any geometry type.\n"
      ]
    },
    {
      "cell_type": "markdown",
      "metadata": {
        "colab_type": "text",
        "id": "kW6HjI5mVZrt"
      },
      "source": [
        "## `Point` objects\n",
        "\n",
        "`points` require a tuple (2 for 2d, 3 for 3d) to specify their location."
      ]
    },
    {
      "cell_type": "code",
      "metadata": {
        "colab_type": "code",
        "id": "aTfLuqlFVkWF",
        "outputId": "5144b49f-977e-414b-b52f-45f86ff235c0",
        "colab": {
          "base_uri": "https://localhost:8080/",
          "height": 70
        }
      },
      "source": [
        "# Create Point geometric object(s) with coordinates\n",
        "point1 = Point(2.2, 4.2)\n",
        "point2 = Point(7.2, -25.1)\n",
        "point3 = Point(9.26, -2.456)\n",
        "point3D = Point(9.26, -2.456, 0.57)\n",
        "point3D2 = Point(9.26, -2.456, 0)\n",
        "\n",
        "# What is the type of the point?\n",
        "point_type = type(point1)\n",
        "\n",
        "# Let's examine the objects\n",
        "print(point1)\n",
        "print(point3D)\n",
        "print(type(point1))"
      ],
      "execution_count": 42,
      "outputs": [
        {
          "output_type": "stream",
          "text": [
            "POINT (2.2 4.2)\n",
            "POINT Z (9.26 -2.456 0.57)\n",
            "<class 'shapely.geometry.point.Point'>\n"
          ],
          "name": "stdout"
        }
      ]
    },
    {
      "cell_type": "markdown",
      "metadata": {
        "colab_type": "text",
        "id": "WAG3BuauWloM"
      },
      "source": [
        "We can see that the type of the point is shapely's `Point` which is represented in a specific format that is based on [GEOS C++ library](https://trac.osgeo.org/geos), which is one of the standard libraries in GIS. 3D-point can be recognized from the capital '`Z`' in front of the coordinates (signifying that there's a 'z' element in the (x,y,z) tuple)\n"
      ]
    },
    {
      "cell_type": "markdown",
      "metadata": {
        "colab_type": "text",
        "id": "K0Og713eXLuf"
      },
      "source": [
        "### `Point` class attributes and functions\n",
        "`Point` objects have some built-in attributes and functions. One of the most useful ones are the ability to extract the coordinates of a Point and calculate the Euclidian distance between points.\n"
      ]
    },
    {
      "cell_type": "code",
      "metadata": {
        "colab_type": "code",
        "id": "InP-kYL6WZQn",
        "outputId": "278737a3-f433-4a31-c0d8-f766f12ff3e2",
        "colab": {
          "base_uri": "https://localhost:8080/",
          "height": 35
        }
      },
      "source": [
        "# Get the coordinates\n",
        "point_coords = point1.coords\n",
        "\n",
        "# What is the type of this?\n",
        "type(point_coords)"
      ],
      "execution_count": 43,
      "outputs": [
        {
          "output_type": "execute_result",
          "data": {
            "text/plain": [
              "shapely.coords.CoordinateSequence"
            ]
          },
          "metadata": {
            "tags": []
          },
          "execution_count": 43
        }
      ]
    },
    {
      "cell_type": "code",
      "metadata": {
        "colab_type": "code",
        "id": "nmGyLHzfW2MK",
        "outputId": "1dfef72e-df04-4957-90bf-f067281c0c00",
        "colab": {
          "base_uri": "https://localhost:8080/",
          "height": 159
        }
      },
      "source": [
        "# Get x and y coordinates\n",
        "xy = point_coords.xy\n",
        "\n",
        "# Get only x coordinates of Point1\n",
        "x = point1.x\n",
        "\n",
        "# Whatabout y coordinate?\n",
        "y = point1.y\n",
        "\n",
        "# Print out\n",
        "print(\"xy variable:\\n\", xy, \"\\n\")\n",
        "print(\"x variable:\\n\", x, \"\\n\")\n",
        "print(\"y variable:\\n\", y)"
      ],
      "execution_count": 44,
      "outputs": [
        {
          "output_type": "stream",
          "text": [
            "xy variable:\n",
            " (array('d', [2.2]), array('d', [4.2])) \n",
            "\n",
            "x variable:\n",
            " 2.2 \n",
            "\n",
            "y variable:\n",
            " 4.2\n"
          ],
          "name": "stdout"
        }
      ]
    },
    {
      "cell_type": "code",
      "metadata": {
        "colab_type": "code",
        "id": "85yXDkIOfw_Z",
        "outputId": "49db1000-ff7e-4024-ba47-4011bcd516cc",
        "colab": {
          "base_uri": "https://localhost:8080/",
          "height": 35
        }
      },
      "source": [
        "# Calculate the distance between point1 and point2\n",
        "point_dist = point1.distance(point2)\n",
        "\n",
        "print(\"Distance between the points is {0:.2f} decimal degrees\".format(point_dist))"
      ],
      "execution_count": 45,
      "outputs": [
        {
          "output_type": "stream",
          "text": [
            "Distance between the points is 29.72 decimal degrees\n"
          ],
          "name": "stdout"
        }
      ]
    },
    {
      "cell_type": "code",
      "metadata": {
        "colab_type": "code",
        "id": "sFCBm41Pf0Rs",
        "outputId": "18817ded-1580-42bc-fb0f-2e076f8660d3",
        "colab": {
          "base_uri": "https://localhost:8080/",
          "height": 35
        }
      },
      "source": [
        "import numpy as np\n",
        "np.sqrt((2.2-7.2)**2 + (4.2+25.1)**2)"
      ],
      "execution_count": 46,
      "outputs": [
        {
          "output_type": "execute_result",
          "data": {
            "text/plain": [
              "29.723559679150142"
            ]
          },
          "metadata": {
            "tags": []
          },
          "execution_count": 46
        }
      ]
    },
    {
      "cell_type": "markdown",
      "metadata": {
        "colab_type": "text",
        "id": "KKyze6mDgSv-"
      },
      "source": [
        "Note that shapely is planar geometry library, and thus only considers the planar (x,y) coordinates when computing distance. \n",
        "Even though `point3D` and `point3D2` have differing `Z` coordinates, they return a planar distance of zero. "
      ]
    },
    {
      "cell_type": "code",
      "metadata": {
        "colab_type": "code",
        "id": "6mblpggBgK44",
        "outputId": "e3bac3ce-9f19-4825-c4c7-eef821af6edb",
        "colab": {
          "base_uri": "https://localhost:8080/",
          "height": 70
        }
      },
      "source": [
        "print(point3D)\n",
        "print(point3D2)\n",
        "point3D.distance(point3D2)"
      ],
      "execution_count": 47,
      "outputs": [
        {
          "output_type": "stream",
          "text": [
            "POINT Z (9.26 -2.456 0.57)\n",
            "POINT Z (9.26 -2.456 0)\n"
          ],
          "name": "stdout"
        },
        {
          "output_type": "execute_result",
          "data": {
            "text/plain": [
              "0.0"
            ]
          },
          "metadata": {
            "tags": []
          },
          "execution_count": 47
        }
      ]
    },
    {
      "cell_type": "markdown",
      "metadata": {
        "colab_type": "text",
        "id": "DVtosdJKmaeS"
      },
      "source": [
        "## LineString Objects\n",
        "A `LineString` is a sequence of connected line segments. One can be constructed from a list of shapely `Point` objects, or from a list of tuples"
      ]
    },
    {
      "cell_type": "code",
      "metadata": {
        "colab_type": "code",
        "id": "HGsQDXWpmy51",
        "outputId": "a07f4894-0ca3-4fb0-8597-9835dc5dbbc9",
        "colab": {
          "base_uri": "https://localhost:8080/",
          "height": 194
        }
      },
      "source": [
        "# Create a LineString from our Point objects\n",
        "line = LineString([point1, point2, point3])\n",
        "\n",
        "# It is also possible to use coordinate tuples having the same outcome\n",
        "line2 = LineString([(2.2, 4.2), (7.2, -25.1), (9.26, -2.456)])\n",
        "\n",
        "# Print the results\n",
        "print(\"line variable: \\n\", line, \"\\n\")\n",
        "print(\"line2 variable: \\n\", line2, \"\\n\")\n",
        "print(\"is line equal to line2: \", line==line2, \"\\n\")\n",
        "print(\"type of the line: \\n\", type(line))"
      ],
      "execution_count": 48,
      "outputs": [
        {
          "output_type": "stream",
          "text": [
            "line variable: \n",
            " LINESTRING (2.2 4.2, 7.2 -25.1, 9.26 -2.456) \n",
            "\n",
            "line2 variable: \n",
            " LINESTRING (2.2 4.2, 7.2 -25.1, 9.26 -2.456) \n",
            "\n",
            "is line equal to line2:  True \n",
            "\n",
            "type of the line: \n",
            " <class 'shapely.geometry.linestring.LineString'>\n"
          ],
          "name": "stdout"
        }
      ]
    },
    {
      "cell_type": "markdown",
      "metadata": {
        "colab_type": "text",
        "id": "YHC2sjAunZxG"
      },
      "source": [
        "### `LineString` class attributes and functions\n",
        "`LineString` -objects have many useful built-in attributes and functionalities. \n",
        "\n",
        "It is, for instance, possible to extract the coordinates or the length of a LineString (line), calculate the centroid of the line, create points along the line at specific distance, calculate the closest distance from a line to specified `Point` and simplify the geometry. See full list of functionalities from [Shapely documentation](https://shapely.readthedocs.io/en/latest/manual.html#geometric-objects). \n",
        "\n"
      ]
    },
    {
      "cell_type": "code",
      "metadata": {
        "colab_type": "code",
        "id": "-taIq5GEnIPL",
        "outputId": "1cee04af-8dc7-4e97-8473-ac134d4fd752",
        "colab": {
          "base_uri": "https://localhost:8080/",
          "height": 88
        }
      },
      "source": [
        "# Get list of coordinates\n",
        "print(list(line.coords))\n",
        "\n",
        "# Get x and y elements of the line separately (useful for plotting)\n",
        "lxy = line.xy\n",
        "print('lxy=',lxy)\n",
        "\n",
        "# we can separate the outputs into the x and y variables respectively\n",
        "line_x, line_y = lxy\n",
        "print('x coordinates: ', line_x)\n",
        "print('y coordinates: ', line_y)"
      ],
      "execution_count": 49,
      "outputs": [
        {
          "output_type": "stream",
          "text": [
            "[(2.2, 4.2), (7.2, -25.1), (9.26, -2.456)]\n",
            "lxy= (array('d', [2.2, 7.2, 9.26]), array('d', [4.2, -25.1, -2.456]))\n",
            "x coordinates:  array('d', [2.2, 7.2, 9.26])\n",
            "y coordinates:  array('d', [4.2, -25.1, -2.456])\n"
          ],
          "name": "stdout"
        }
      ]
    },
    {
      "cell_type": "markdown",
      "metadata": {
        "colab_type": "text",
        "id": "AZhrAcKzrJD8"
      },
      "source": [
        "We can use matplotlib to plot this `LineString`\n",
        "\n"
      ]
    },
    {
      "cell_type": "code",
      "metadata": {
        "colab_type": "code",
        "id": "m0V5wtSgpZeE",
        "outputId": "3b45aa97-6425-4969-88c9-391abae79f09",
        "colab": {
          "base_uri": "https://localhost:8080/",
          "height": 280
        }
      },
      "source": [
        "fig = plt.figure()\n",
        "ax = fig.add_subplot(1,1,1)\n",
        "ax.plot(line_x, line_y, 'b--') # draw as blue line"
      ],
      "execution_count": 50,
      "outputs": [
        {
          "output_type": "execute_result",
          "data": {
            "text/plain": [
              "[<matplotlib.lines.Line2D at 0x7f82d9bed470>]"
            ]
          },
          "metadata": {
            "tags": []
          },
          "execution_count": 50
        },
        {
          "output_type": "display_data",
          "data": {
            "image/png": "[encoded data removed]",
            "text/plain": [
              "<Figure size 432x288 with 1 Axes>"
            ]
          },
          "metadata": {
            "tags": []
          }
        }
      ]
    },
    {
      "cell_type": "markdown",
      "metadata": {
        "colab_type": "text",
        "id": "y3A7ebQAr-Jh"
      },
      "source": [
        "There are also many useful attributes of the linestring that we can get automatically:"
      ]
    },
    {
      "cell_type": "code",
      "metadata": {
        "colab_type": "code",
        "id": "sq2L37kMrgQE",
        "outputId": "54c25969-5915-4fb2-a767-500b207e2315",
        "colab": {
          "base_uri": "https://localhost:8080/",
          "height": 70
        }
      },
      "source": [
        "# Get the length of the line\n",
        "l_length = line.length\n",
        "print(\"Length of our line: {0:.2f}\".format(l_length)) # the {0:.2f} notation is a special placeholder for the .format() string function. \n",
        "# the curly brackets {} indicate that this should be filled with a variable value. The initial {0} indicates that it should be filled with the first argument of .format()\n",
        "# the {:.2f} part of the placeholder indicates the formatting. The colon specifies that it is a formatting string, and .2f indicates that it should have 2 digits after the decimal point\n",
        "# f indicates that it should be numeric (float)\n",
        "\n",
        "# Get the centroid of all the points in the linestring\n",
        "l_centroid = line.centroid\n",
        "print(\"Centroid of our line: \", l_centroid)\n",
        "\n",
        "# the centroid is a Point type object\n",
        "centroid_type = type(l_centroid)\n",
        "print(\"Type of the centroid:\", centroid_type)"
      ],
      "execution_count": 51,
      "outputs": [
        {
          "output_type": "stream",
          "text": [
            "Length of our line: 52.46\n",
            "Centroid of our line:  POINT (6.229961354035622 -11.89241115757239)\n",
            "Type of the centroid: <class 'shapely.geometry.point.Point'>\n"
          ],
          "name": "stdout"
        }
      ]
    },
    {
      "cell_type": "markdown",
      "metadata": {
        "colab_type": "text",
        "id": "1a2MaC_Vv5lq"
      },
      "source": [
        "We can plot the location of the centroid (average location of all points, equally weighted)"
      ]
    },
    {
      "cell_type": "code",
      "metadata": {
        "colab_type": "code",
        "id": "ld7FJUcAsIv-",
        "outputId": "bc8cddaa-e955-4122-ca31-37a19904d1b2",
        "colab": {
          "base_uri": "https://localhost:8080/",
          "height": 280
        }
      },
      "source": [
        "l_centroid_x, l_centroid_y = l_centroid.xy\n",
        "fig = plt.figure()\n",
        "ax = fig.add_subplot(1,1,1)\n",
        "ax.plot(line_x, line_y, 'g-')\n",
        "ax.plot(l_centroid_x, l_centroid_y, 'ro', markersize=10)"
      ],
      "execution_count": 52,
      "outputs": [
        {
          "output_type": "execute_result",
          "data": {
            "text/plain": [
              "[<matplotlib.lines.Line2D at 0x7f82d9bcc780>]"
            ]
          },
          "metadata": {
            "tags": []
          },
          "execution_count": 52
        },
        {
          "output_type": "display_data",
          "data": {
            "image/png": "[encoded data removed]",
            "text/plain": [
              "<Figure size 432x288 with 1 Axes>"
            ]
          },
          "metadata": {
            "tags": []
          }
        }
      ]
    },
    {
      "cell_type": "markdown",
      "metadata": {
        "colab_type": "text",
        "id": "AGKuTQ9zwGeK"
      },
      "source": [
        "### Exercise: Compute and plot midpoint of a LineString\n",
        "The centroid gives the arithmetic average of all of the points in the LineString. However, it is also useful to know where the midpoint of a LineString is. That is, if you were traveling along the LineString from one end to the other, at which point would the distance you've traveled be equal to the distance you have yet to travel.\n",
        "\n",
        "For this exercise, write a function which takes any valid `LineString` object as an input, outputs the coordinates of the midpoint, and draws a plot of both the LineString and midpoint."
      ]
    },
    {
      "cell_type": "code",
      "metadata": {
        "colab_type": "code",
        "id": "OUSl-3wEtPKp",
        "colab": {}
      },
      "source": [
        "import math\n",
        "\n",
        "def getMidpoint(line):\n",
        "  \"\"\"\n",
        "  input: line, LineString - any valid shapely LineString object\n",
        "  output: midpoint, Point - a shapely Point object corresponding to the midpoint of the input LineString\n",
        "  Also plot the input LineString as well as the midpoint\n",
        "  \"\"\"\n",
        "  # fill this in with your code\n",
        "  current_length = 0\n",
        "  length_at_midpoint = line.length/2\n",
        "  \n",
        "  for i in range(len(line.xy[0])):\n",
        "    point1 = Point(line.xy[0][i], line.xy[1][i])\n",
        "    point2 = Point(line.xy[0][i+1], line.xy[1][i+1])\n",
        "    distance = (point1.distance(point2))\n",
        "    \n",
        "    if current_length + distance > length_at_midpoint:\n",
        "      break\n",
        "    elif current_length + distance == length_at_midpoint:\n",
        "      midpoint = point2\n",
        "      break\n",
        "    else:\n",
        "      current_length += distance\n",
        "  \n",
        "  remaining_length = length_at_midpoint - current_length\n",
        "  larger_tri_hyp_length = math.sqrt((point2.x-point1.x)**2 + (point2.y-point1.y)**2)\n",
        "  ratio = larger_tri_hyp_length/remaining_length\n",
        "  x_val = point2.x/ratio\n",
        "  y_val = point2.y/ratio\n",
        "  \n",
        "  midpoint = Point([(x_val, y_val)])\n",
        "  \n",
        "  return midpoint"
      ],
      "execution_count": 0,
      "outputs": []
    },
    {
      "cell_type": "code",
      "metadata": {
        "colab_type": "code",
        "id": "qSG9YFN6PWAk",
        "outputId": "3e31e272-4b29-4350-87e3-5167f699a199",
        "colab": {
          "base_uri": "https://localhost:8080/",
          "height": 280
        }
      },
      "source": [
        "line = LineString([(0, 0), (1, 1)])\n",
        "\n",
        "midpoint = getMidpoint(line2)\n",
        "\n",
        "fig = plt.figure()\n",
        "ax = fig.add_subplot(1,1,1)\n",
        "ax.plot(line)\n",
        "ax.plot(midpoint)\n",
        "\n",
        "print(midpoint)"
      ],
      "execution_count": 203,
      "outputs": [
        {
          "output_type": "stream",
          "text": [
            "POINT (0 0)\n"
          ],
          "name": "stdout"
        },
        {
          "output_type": "display_data",
          "data": {
            "image/png": "[encoded data removed]",
            "text/plain": [
              "<Figure size 432x288 with 1 Axes>"
            ]
          },
          "metadata": {
            "tags": []
          }
        }
      ]
    },
    {
      "cell_type": "code",
      "metadata": {
        "id": "lEd_UfMpFJaH",
        "colab_type": "code",
        "colab": {
          "base_uri": "https://localhost:8080/",
          "height": 35
        },
        "outputId": "29b32081-1409-4d22-a1e3-83815b263913"
      },
      "source": [
        "line = LineString([(0, 0), (1, 1), (1, 0), (5, 0)])\n",
        "line.xy[0]"
      ],
      "execution_count": 166,
      "outputs": [
        {
          "output_type": "execute_result",
          "data": {
            "text/plain": [
              "array('d', [0.0, 1.0, 1.0, 5.0])"
            ]
          },
          "metadata": {
            "tags": []
          },
          "execution_count": 166
        }
      ]
    },
    {
      "cell_type": "markdown",
      "metadata": {
        "colab_type": "text",
        "id": "IvjUoAh0hZQL"
      },
      "source": [
        "_Note there is an `interpolate` method in shapely that makes this trivial. Try to do it without using it. You can use `interpolate` to check your work._ "
      ]
    },
    {
      "cell_type": "markdown",
      "metadata": {
        "colab_type": "text",
        "id": "IX6aH-y0xfMC"
      },
      "source": [
        "## Polygon object\n",
        "\n",
        "Creating a `Polygon` -object continues the same logic of how `Point` and `LineString` were created but `Polygon` object only accepts coordinate-tuples as input."
      ]
    },
    {
      "cell_type": "code",
      "metadata": {
        "colab_type": "code",
        "id": "Niv6azGoSR39",
        "colab": {}
      },
      "source": [
        "# Create a Polygon from coordinates\n",
        "poly = Polygon([(2.2, 4.2), (7.2, -25.1), (9.26, -2.456)])\n",
        "\n",
        "# We can also use our previously created Point objects (same outcome)\n",
        "# --> notice that Polygon object requires x,y coordinates as input\n",
        "poly2_coords = [(p.x, p.y) for p in [point1, point2, point3]]# using list comprehension to generate a list of coordinates\n",
        "print('coords from point objects are:', poly2_coords)\n",
        "poly2 = Polygon(poly2_coords) \n",
        "print('poly and poly2 are equal: ', poly == poly2)"
      ],
      "execution_count": 0,
      "outputs": []
    },
    {
      "cell_type": "code",
      "metadata": {
        "colab_type": "code",
        "id": "HLs1PwlAZDe7",
        "colab": {}
      },
      "source": [
        "# there are some useful attributes and functions:\n",
        "x_min, y_min, x_max, y_max = poly.bounds # gives a tuple with the coordinates of a bounding rectangle: (x_min, y_min, x_max, y_max)"
      ],
      "execution_count": 0,
      "outputs": []
    },
    {
      "cell_type": "code",
      "metadata": {
        "colab_type": "code",
        "id": "GOnrnxMYSaUD",
        "colab": {}
      },
      "source": [
        "# Plot a polygon\n",
        "fig = plt.figure()\n",
        "ax = fig.add_subplot(111)\n",
        "patch = PolygonPatch(poly2, fc='#FF6600', ec='black', alpha=0.8, linewidth=2) # arguments are PolygonPatch(shapely_polygon, fc=face_color, ec=edge_color, alpha=transparency, **kwargs)\n",
        "# PolygonPatch creates a matplotlib object, so the matplotlib kwargs will work in general to modify it\n",
        "ax.add_patch(patch) # puts the patch object on the axes\n",
        "ax.set(xlim=[x_min, x_max],ylim=[y_min,y_max]) # set limits at bounding polygon coordinates\n",
        "plt.show()"
      ],
      "execution_count": 0,
      "outputs": []
    },
    {
      "cell_type": "markdown",
      "metadata": {
        "colab_type": "text",
        "id": "ixMmftPZV4rT"
      },
      "source": [
        "Polygon objects can have holes in them"
      ]
    },
    {
      "cell_type": "code",
      "metadata": {
        "colab_type": "code",
        "id": "ilw7HJgcV3sX",
        "colab": {}
      },
      "source": [
        "\n",
        "# Let's create a big rectangle and put some holes in it\n",
        "\n",
        "# First we define our exterior\n",
        "poly_exterior = [(-180, 90), (-180, -90), (180, -90), (180, 90)]\n",
        "\n",
        "# Let's first create a single big hole \n",
        "# each hole is a list of coordinates.\n",
        "single_hole = [[(170, 80), (170, -80), (-170, -80), (-170, 80)]]\n",
        "# There can actually be multiple holes, so the holes should be lists of lists\n",
        "# hence the double square brackets [[]] for single_hole and double_hole\n",
        "double_hole = [[(100, 80), (100, -80), (-10, -20), (-10, 20)],[(-20, 30),(-125, -45),(-120, 40)]]\n",
        "\n",
        "# polygon without a hole\n",
        "poly_no_holes = Polygon(shell=poly_exterior)\n",
        "\n",
        "# polygons with holes\n",
        "poly_with_a_hole = Polygon(shell=poly_exterior, holes=single_hole)\n",
        "poly_with_holes = Polygon(shell=poly_exterior, holes=double_hole)\n",
        "\n"
      ],
      "execution_count": 0,
      "outputs": []
    },
    {
      "cell_type": "code",
      "metadata": {
        "colab_type": "code",
        "id": "mU044pp6n0qJ",
        "colab": {}
      },
      "source": [
        "fig = plt.figure()\n",
        "ax1 = fig.add_subplot(311)\n",
        "patch1 = PolygonPatch(poly_no_holes,fc='#1155FF',alpha=0.5)\n",
        "ax1.add_patch(patch1)\n",
        "ax1.set(xlim=[-185,185], ylim=[-95,95])\n",
        "\n",
        "ax2 = fig.add_subplot(312)\n",
        "patch2 = PolygonPatch(poly_with_a_hole,fc='#1155FF', ec='#FFFFFF',alpha=0.5)\n",
        "ax2.add_patch(patch2)\n",
        "ax2.set(xlim=[-185,185], ylim=[-95,95])\n",
        "\n",
        "ax3 = fig.add_subplot(313)\n",
        "patch3 = PolygonPatch(poly_with_holes,fc='#1155FF', ec='#FFFFFF',alpha=0.5)\n",
        "ax3.add_patch(patch3)\n",
        "ax3.set(xlim=[-185,185], ylim=[-95,95])"
      ],
      "execution_count": 0,
      "outputs": []
    },
    {
      "cell_type": "markdown",
      "metadata": {
        "colab_type": "text",
        "id": "gDR2tiINsC3e"
      },
      "source": [
        "Note there are some constraints about the location of holes within polygons (what's allowed and not allowed). See [the shapely manual](https://shapely.readthedocs.io/en/latest/manual.html#polygons) for details.\n",
        "\n",
        "Also note that the order of the points which define a hole/polygon matter: If the polygon exterior points are listed counter-clockwise, then the hole should be clockwise (and vice versa). If you don't want to bother dealing with this, you can call\n",
        "```\n",
        "polygon_with_holes = shapely.geometry.polygon.orient(polygon_with_holes)\n",
        "```\n",
        "to orient it automatically"
      ]
    },
    {
      "cell_type": "code",
      "metadata": {
        "colab_type": "code",
        "id": "tio0HuRGsBlg",
        "colab": {}
      },
      "source": [
        "# let's try with the hole oriented incorrectly\n",
        "single_hole_backwards = [single_hole[0][::-1]] # [::-1] reverses the order of single_hole[0] (we have to use [0] because single_hole is a list of lists)\n",
        "# recall that the indexing notation `listname[idx_a:idx_b]` is shorthand for \"get elements of listname starting at idx_a, going up to (but not including) idx_b\"\n",
        "# Omitting `idx_a` means \"start at beginning\"; omitting `idx_b` means \"go until the end\"\n",
        "# furthermore, you can use `listname[idx_a:idx_b:step_size]` to get every \"step_size\"-th element\n",
        "# thus, the index [::-1] means \"all elements, but counting backwards by 1\"\n",
        "poly_with_bkw_hole = Polygon(shell=poly_exterior, holes=single_hole_backwards)\n",
        "fig = plt.figure()\n",
        "ax1 = fig.add_subplot(111)\n",
        "patch1 = PolygonPatch(poly_with_bkw_hole,fc='#1155FF',alpha=0.5)\n",
        "ax1.add_patch(patch1)\n",
        "ax1.set(xlim=[-185,185], ylim=[-95,95])\n",
        "# note that the hole is filled incorrectly (not actually a hole!)"
      ],
      "execution_count": 0,
      "outputs": []
    },
    {
      "cell_type": "code",
      "metadata": {
        "colab_type": "code",
        "id": "Npd2eSvUuzdS",
        "colab": {}
      },
      "source": [
        "# fix it\n",
        "poly_with_bkw_hole = shapely.geometry.polygon.orient(poly_with_bkw_hole) # fix the orientation\n",
        "fig = plt.figure()\n",
        "ax1 = fig.add_subplot(111)\n",
        "patch1 = PolygonPatch(poly_with_bkw_hole,fc='#1155FF',alpha=0.5)\n",
        "ax1.add_patch(patch1)\n",
        "ax1.set(xlim=[-185,185], ylim=[-95,95])\n",
        "# all better!"
      ],
      "execution_count": 0,
      "outputs": []
    },
    {
      "cell_type": "markdown",
      "metadata": {
        "colab_type": "text",
        "id": "EvTOT7RfuyAG"
      },
      "source": [
        "There are many functions associated with shapely objects which can help you create new shapes and do spatial analyses. We will go over a few of them, but you can check them all out in the [shapely manual](https://shapely.readthedocs.io/en/latest/manual.html#spatial-analysis-methods).\n",
        "\n",
        "`object.buffer(distance)` creates an object that encompasses all of the space `distance` beyond the current boundaries of `object`"
      ]
    },
    {
      "cell_type": "code",
      "metadata": {
        "colab_type": "code",
        "id": "KeCOsm0toMDK",
        "colab": {}
      },
      "source": [
        "fig = plt.figure()\n",
        "ax1 = fig.add_subplot(111)\n",
        "patch1 = PolygonPatch(poly_with_holes,fc='#0000FF',alpha=1)\n",
        "poly_with_buffer = poly_with_holes.buffer(10)\n",
        "patch2 = PolygonPatch(poly_with_buffer,fc='#0055FF',alpha=0.5)\n",
        "p1 = ax1.add_patch(patch1)\n",
        "p2 = ax1.add_patch(patch2)\n",
        "ax1.set(xlim=[-200,200], ylim=[-110,110])\n",
        "ax1.legend({'original polygon':p1, 'buffered':p2},loc='best')\n"
      ],
      "execution_count": 0,
      "outputs": []
    },
    {
      "cell_type": "code",
      "metadata": {
        "colab_type": "code",
        "id": "oCbxEaOTe5Kv",
        "colab": {}
      },
      "source": [
        "# you can create a circle using a point and buffer\n",
        "Point(1,1).buffer(10) # creates a point centered at 1,1 with radius 10"
      ],
      "execution_count": 0,
      "outputs": []
    },
    {
      "cell_type": "code",
      "metadata": {
        "colab_type": "code",
        "id": "QTVO1v50d49y",
        "colab": {}
      },
      "source": [
        "# a negative distance on a buffer can be used to erode a polygon\n",
        "fig = plt.figure()\n",
        "ax1 = fig.add_subplot(111)\n",
        "patch1 = PolygonPatch(poly_with_holes,fc='#0000FF',alpha=1)\n",
        "poly_eroded = poly_with_holes.buffer(-10)\n",
        "patch2 = PolygonPatch(poly_eroded,fc='#FF55AA',alpha=1)\n",
        "p1 = ax1.add_patch(patch1)\n",
        "p2 = ax1.add_patch(patch2)\n",
        "ax1.set(xlim=[-200,200], ylim=[-110,110])\n",
        "ax1.legend({'original polygon':p1, 'eroded':p2},loc='best')"
      ],
      "execution_count": 0,
      "outputs": []
    },
    {
      "cell_type": "code",
      "metadata": {
        "colab_type": "code",
        "id": "EhRdZKYEqF35",
        "colab": {}
      },
      "source": [
        "# get the outline of an object with .boundary\n",
        "poly_eroded.boundary"
      ],
      "execution_count": 0,
      "outputs": []
    },
    {
      "cell_type": "code",
      "metadata": {
        "colab_type": "code",
        "id": "-t1DgfRUgTQ2",
        "colab": {}
      },
      "source": [
        "# length of the boundary\n",
        "poly_eroded.boundary.length"
      ],
      "execution_count": 0,
      "outputs": []
    },
    {
      "cell_type": "code",
      "metadata": {
        "colab_type": "code",
        "id": "OEraGbQDe0y8",
        "colab": {}
      },
      "source": [
        "# get the area of the shape\n",
        "poly_eroded.area"
      ],
      "execution_count": 0,
      "outputs": []
    },
    {
      "cell_type": "markdown",
      "metadata": {
        "colab_type": "text",
        "id": "hGKofT8HiYdj"
      },
      "source": [
        "## Geometry Collections\n",
        "Geometry collections are datatypes that store multiple geometry objects. Much like how lists store multiple individual objects in a larger data structure, collections do the same with shapely objects"
      ]
    },
    {
      "cell_type": "code",
      "metadata": {
        "colab_type": "code",
        "id": "UBuR32YZiuQK",
        "colab": {}
      },
      "source": [
        "# Import collections of geometric objects + bounding box\n",
        "from shapely.geometry import MultiPoint, MultiLineString, MultiPolygon, box\n"
      ],
      "execution_count": 0,
      "outputs": []
    },
    {
      "cell_type": "code",
      "metadata": {
        "colab_type": "code",
        "id": "xQ0jXNe3iw8u",
        "colab": {}
      },
      "source": [
        "# Create a MultiPoint object of our points 1,2 and 3\n",
        "multi_point = MultiPoint([point1, point2, point3])\n",
        "multi_point"
      ],
      "execution_count": 0,
      "outputs": []
    },
    {
      "cell_type": "code",
      "metadata": {
        "colab_type": "code",
        "id": "4Z47GliyiznK",
        "colab": {}
      },
      "source": [
        "# It is also possible to pass coordinate tuples inside\n",
        "multi_point2 = MultiPoint([(2.2, 4.2), (7.2, -25.1), (9.26, -2.456)])\n",
        "multi_point2"
      ],
      "execution_count": 0,
      "outputs": []
    },
    {
      "cell_type": "code",
      "metadata": {
        "colab_type": "code",
        "id": "kKDijf4Ci7y_",
        "colab": {}
      },
      "source": [
        "# We can also create a MultiLineString with two lines\n",
        "line1 = LineString([point1, point2])\n",
        "line2 = LineString([point2, point3])\n",
        "multi_line = MultiLineString([line1, line2])\n",
        "multi_line"
      ],
      "execution_count": 0,
      "outputs": []
    },
    {
      "cell_type": "code",
      "metadata": {
        "colab_type": "code",
        "id": "GUPxhXSSjAGC",
        "colab": {}
      },
      "source": [
        "# MultiPolygon can be done in a similar manner\n",
        "circle1 = Point(0,0).buffer(1)\n",
        "circle2 = Point(2,5).buffer(5)\n",
        "circle3 = Point(10,10).buffer(7)\n",
        "circle4 = Point(10,11).buffer(3)\n",
        "multi_circle = MultiPolygon([circle1, circle2, circle3, circle4])\n",
        "multi_circle"
      ],
      "execution_count": 0,
      "outputs": []
    },
    {
      "cell_type": "code",
      "metadata": {
        "colab_type": "code",
        "id": "wZJXyXMjjFab",
        "colab": {}
      },
      "source": [
        ""
      ],
      "execution_count": 0,
      "outputs": []
    },
    {
      "cell_type": "markdown",
      "metadata": {
        "colab_type": "text",
        "id": "OEpI5p6vkpEj"
      },
      "source": [
        "## Geometric analysis\n",
        "Shapely includes a ton of useful functions to analyze [geometric relationships between shapes](https://shapely.readthedocs.io/en/latest/manual.html#predicates-and-relationships).\n",
        "\n",
        "For example, you can find whether one shape [contains](https://shapely.readthedocs.io/en/latest/manual.html#object.contains) the other within its interior; whether one object [crosses](https://shapely.readthedocs.io/en/latest/manual.html#object.crosses) or [overlaps](https://shapely.readthedocs.io/en/latest/manual.html#object.overlaps) another. _Note that these methods have very precise definitions. For example, `overlaps` and `intersects` are two distinct methods with subtle differences. Refer to the documentation to ensure that you're using the function that you actually want._"
      ]
    },
    {
      "cell_type": "code",
      "metadata": {
        "colab_type": "code",
        "id": "8vQ-gWOzjY1h",
        "colab": {}
      },
      "source": [
        "# in order for two objects to cross, one must go all the way through the other\n",
        "circle3.crosses(circle4)"
      ],
      "execution_count": 0,
      "outputs": []
    },
    {
      "cell_type": "code",
      "metadata": {
        "colab_type": "code",
        "id": "Uzl0lzvKmsv0",
        "colab": {}
      },
      "source": [
        "# intersect checks if any part of the interior of one object is in the other\n",
        "circle3.intersects(circle4)"
      ],
      "execution_count": 0,
      "outputs": []
    },
    {
      "cell_type": "code",
      "metadata": {
        "colab_type": "code",
        "id": "w5LmTvd1auav",
        "colab": {}
      },
      "source": [
        "# overlap does not allow one object to fully contain the other\n",
        "circle3.overlaps(circle4)"
      ],
      "execution_count": 0,
      "outputs": []
    },
    {
      "cell_type": "markdown",
      "metadata": {
        "colab_type": "text",
        "id": "Kyzqljxxbnsr"
      },
      "source": [
        "### Set theoretic functions\n",
        "You can use shapely to do set-theoretic operations, such as intersection, union, and difference"
      ]
    },
    {
      "cell_type": "code",
      "metadata": {
        "colab_type": "code",
        "id": "XGqRQRYtbU1U",
        "colab": {}
      },
      "source": [
        "# intersection represents the shape that is part of both objects (logical AND)\n",
        "circle2.intersection(circle3)"
      ],
      "execution_count": 0,
      "outputs": []
    },
    {
      "cell_type": "code",
      "metadata": {
        "colab_type": "code",
        "id": "4HX8FQ-fbjoV",
        "colab": {}
      },
      "source": [
        "# union is the shape that's part of either object (logical OR)\n",
        "circle2.union(circle3)"
      ],
      "execution_count": 0,
      "outputs": []
    },
    {
      "cell_type": "code",
      "metadata": {
        "colab_type": "code",
        "id": "IPjEQZcscjMi",
        "colab": {}
      },
      "source": [
        "# difference is the part of the shape of one object that's not in the other (logical AND NOT)\n",
        "circle3.difference(circle4)"
      ],
      "execution_count": 0,
      "outputs": []
    },
    {
      "cell_type": "code",
      "metadata": {
        "colab_type": "code",
        "id": "YOOdLav3c1VB",
        "colab": {}
      },
      "source": [
        "# note that the order of difference matters\n",
        "circle4.difference(circle3) # is empty because circle4 is entirely in circle3"
      ],
      "execution_count": 0,
      "outputs": []
    },
    {
      "cell_type": "code",
      "metadata": {
        "colab_type": "code",
        "id": "4MWu-onec6Tw",
        "colab": {}
      },
      "source": [
        "# symmetric difference is the opposite of intersection (logical XOR)\n",
        "circle3.symmetric_difference(circle2)"
      ],
      "execution_count": 0,
      "outputs": []
    },
    {
      "cell_type": "code",
      "metadata": {
        "colab_type": "code",
        "id": "JWeC0CsHdP9g",
        "colab": {}
      },
      "source": [
        "# appropriately, symmetric difference order doesn't matter\n",
        "circle2.symmetric_difference(circle3)"
      ],
      "execution_count": 0,
      "outputs": []
    },
    {
      "cell_type": "markdown",
      "metadata": {
        "colab_type": "text",
        "id": "9c4-2XT2dvRP"
      },
      "source": [
        "### Constructive methods\n",
        "These methods create new objects not derived from set-theoretic analysis.\n",
        "\n",
        "We've already seen some, such as `.buffer()`"
      ]
    },
    {
      "cell_type": "code",
      "metadata": {
        "colab_type": "code",
        "id": "fZJoIzM2dpux",
        "colab": {}
      },
      "source": [
        "# get the region around a line\n",
        "buffered_line = LineString([(0,0),(5,5),(-1,5)]).buffer(1)"
      ],
      "execution_count": 0,
      "outputs": []
    },
    {
      "cell_type": "code",
      "metadata": {
        "colab_type": "code",
        "id": "9AD9YIp_eHSJ",
        "colab": {}
      },
      "source": [
        "# convex hull is the smallest convex polygon with contains all the points in the objects\n",
        "buffered_line.convex_hull\n",
        "# convex hull can be thought of the shape that a rubber band would make if you wrapped it around the outside of the object"
      ],
      "execution_count": 0,
      "outputs": []
    },
    {
      "cell_type": "code",
      "metadata": {
        "colab_type": "code",
        "id": "HKIoDpokejqI",
        "colab": {}
      },
      "source": [
        "# can work on points also\n",
        "point4 = Point(20,-30)\n",
        "MultiPoint([point1, point2, point3, point4])"
      ],
      "execution_count": 0,
      "outputs": []
    },
    {
      "cell_type": "code",
      "metadata": {
        "colab_type": "code",
        "id": "DgDCY7lcfjOu",
        "colab": {}
      },
      "source": [
        "MultiPoint([point1, point2, point3, point4]).convex_hull"
      ],
      "execution_count": 0,
      "outputs": []
    },
    {
      "cell_type": "code",
      "metadata": {
        "colab_type": "code",
        "id": "-uTr_9ixe8VS",
        "colab": {}
      },
      "source": [
        "# envelope finds the smallest upright rectangle that contains the object\n",
        "MultiPoint([point1, point2, point3, point4]).envelope"
      ],
      "execution_count": 0,
      "outputs": []
    },
    {
      "cell_type": "code",
      "metadata": {
        "colab_type": "code",
        "id": "jzkfqkKzfevw",
        "colab": {}
      },
      "source": [
        "# minimum_rotated_rectangle allows for tilted rectangles\n",
        "MultiPoint([point1, point2, point3, point4]).minimum_rotated_rectangle"
      ],
      "execution_count": 0,
      "outputs": []
    },
    {
      "cell_type": "code",
      "metadata": {
        "colab_type": "code",
        "id": "aHtcR2S5f0tk",
        "colab": {}
      },
      "source": [
        "# parallel_offset creates a linestring that's a fixed distance from an object on left or right side\n",
        "original_line = LineString([(0,0),(5,5),(-1,5)])\n",
        "offset_line_left = original_line.parallel_offset(1,'left')\n",
        "offset_line_right_round = original_line.parallel_offset(1,'right',join_style=1) # round\n",
        "offset_line_right_sharp = original_line.parallel_offset(2,'right',join_style=2) # miter\n",
        "offset_line_right_flat = original_line.parallel_offset(3,'right',join_style=3) # bevel\n",
        "plt.plot(original_line.xy[0], original_line.xy[1],'black')\n",
        "plt.plot(offset_line_left.xy[0], offset_line_left.xy[1],'red')\n",
        "plt.plot(offset_line_right_round.xy[0], offset_line_right_round.xy[1],'blue')\n",
        "plt.plot(offset_line_right_sharp.xy[0], offset_line_right_sharp.xy[1],'#AA33FF')\n",
        "plt.plot(offset_line_right_flat.xy[0], offset_line_right_flat.xy[1],'#33AAFF')\n"
      ],
      "execution_count": 0,
      "outputs": []
    },
    {
      "cell_type": "markdown",
      "metadata": {
        "colab_type": "text",
        "id": "cVqYrJ7lhWzP"
      },
      "source": [
        "Join styles are documented [here](https://shapely.readthedocs.io/en/latest/manual.html#shapely.geometry.JOIN_STYLE)"
      ]
    },
    {
      "cell_type": "markdown",
      "metadata": {
        "colab_type": "text",
        "id": "BA1SIS6Eiga_"
      },
      "source": [
        "### Affine transformations\n",
        "You can performarbitrary linear transformations of objects (scale, skew, translate, rotate) using the `affine_transformation` function\n",
        "\n",
        "\n",
        "\n",
        "`affine_transform(geom, matrix_params)` transforms the object geom using the below matrix.\n",
        "$\\begin{split}\\begin{bmatrix}\n",
        "  x' \\\\\n",
        "  y' \\\\\n",
        "  1\n",
        "\\end{bmatrix} =\n",
        "\\begin{bmatrix}\n",
        "  a & b & x_\\mathrm{off} \\\\\n",
        "  d & e & y_\\mathrm{off} \\\\\n",
        "  0 & 0 & 1\n",
        "\\end{bmatrix}\n",
        "\\begin{bmatrix}\n",
        "  x \\\\\n",
        "  y \\\\\n",
        "  1\n",
        "\\end{bmatrix}\\end{split}$\n",
        "\n",
        " Where `matrix_params` is a 6-tuple or list with entries\n",
        "`[a, b, d, e, x_off, y_off]`\n",
        "where:\n",
        "- `a` represents the scaling factor in the x direction\n",
        "- `b` represents the shearing factor in the x direction\n",
        "- `d` represents the shearing factor in the y direction\n",
        "- `e` represnts the scaling factor in the y direction\n",
        "- `x_off` represents the offset (translation) amount in the x direction\n",
        "- `y_off` represents the offset (translation) amount in the y direction"
      ]
    },
    {
      "cell_type": "code",
      "metadata": {
        "colab_type": "code",
        "id": "UcMwFi0VjHfP",
        "colab": {}
      },
      "source": [
        "from shapely.affinity import affine_transform, rotate, skew, scale, translate"
      ],
      "execution_count": 0,
      "outputs": []
    },
    {
      "cell_type": "markdown",
      "metadata": {
        "colab_type": "text",
        "id": "N3689DAtjqlC"
      },
      "source": [
        "`affine_transformation` is very powerful, but it can be complicated to figure out the parameters by hand. Fortunately, common transformations have built-in functions:\n",
        "- [rotate](https://shapely.readthedocs.io/en/latest/manual.html#shapely.affinity.rotate)\n",
        "- [scale](https://shapely.readthedocs.io/en/latest/manual.html#shapely.affinity.scale)\n",
        "- [skew](https://shapely.readthedocs.io/en/latest/manual.html#shapely.affinity.skew)\n",
        "- [translate](https://shapely.readthedocs.io/en/latest/manual.html#shapely.affinity.translate)"
      ]
    },
    {
      "cell_type": "code",
      "metadata": {
        "colab_type": "code",
        "id": "2luh8t5TjrCu",
        "colab": {}
      },
      "source": [
        "rect = Polygon([(0,0),(1,0),(1,2),(0,2)])\n",
        "rect"
      ],
      "execution_count": 0,
      "outputs": []
    },
    {
      "cell_type": "code",
      "metadata": {
        "colab_type": "code",
        "id": "ZznSV4QbsSqq",
        "colab": {}
      },
      "source": [
        "#rotate square by 45 degrees counter-clockwise (right hand rule determines direction)\n",
        "rotate(rect,45) "
      ],
      "execution_count": 0,
      "outputs": []
    },
    {
      "cell_type": "code",
      "metadata": {
        "colab_type": "code",
        "id": "DOuJCsfwsV4p",
        "colab": {}
      },
      "source": [
        "skew(rect, 45)"
      ],
      "execution_count": 0,
      "outputs": []
    },
    {
      "cell_type": "markdown",
      "metadata": {
        "colab_type": "text",
        "id": "DbqVTa8wss86"
      },
      "source": [
        "The usage for skew is:\n",
        "\n",
        "`shapely.affinity.skew(geom, xs=0.0, ys=0.0, origin='center', use_radians=False)`\n",
        "\n",
        "where `xs` is the skew in the x direct, and `ys` is in the y direction"
      ]
    },
    {
      "cell_type": "markdown",
      "metadata": {
        "colab_type": "text",
        "id": "wbyp8QS7ne-Q"
      },
      "source": [
        "# Exercises"
      ]
    },
    {
      "cell_type": "markdown",
      "metadata": {
        "colab_type": "text",
        "id": "ouuSmdSenmaq"
      },
      "source": [
        "## Visualizing hurricane cone of uncertainty\n",
        "\n",
        "This is a common way of visualizing the possible hurricane paths. Thousands of simulations are run to forecast where the hurricane might be for each time step in the future. The larger circles the further out into the future we go represent the greater uncertainty about where the hurricane might be (not the actual size or power of the hurricane)\n",
        "![hurricane cone](https://www.weathernationtv.com/app/uploads/2016/10/C-Path-e1475672445449.jpg)\n",
        "\n",
        "In this exercise, you'll be given a set of forecasted locations for each time step in the future. Your job is to create an object that joins them together to create this style of continuous cone."
      ]
    },
    {
      "cell_type": "code",
      "metadata": {
        "colab_type": "code",
        "id": "eJicVDEDkn_h",
        "outputId": "6787b22e-8347-4f77-da6f-999b8314ee78",
        "colab": {
          "base_uri": "https://localhost:8080/",
          "height": 162
        }
      },
      "source": [
        "from shapely.ops import cascaded_union\n",
        "\n",
        "forecast1 = Point(0,0).buffer(0.3)\n",
        "forecast2 = Point(-1,1.3).buffer(0.5)\n",
        "forecast3 = Point(-2.2,2.4).buffer(1)\n",
        "forecast4 = Point(-2.5,4.6).buffer(1.5)\n",
        "forecast5 = Point(-1,8.1).buffer(2.2)\n",
        "forecast6 = Point(3,8.5).buffer(2.6)\n",
        "\n",
        "all_forecasts_1 = MultiPolygon([forecast1,\n",
        "                              forecast2])\n",
        "\n",
        "all_forecasts_2 = MultiPolygon([forecast2,\n",
        "                              forecast3])\n",
        "\n",
        "all_forecasts_3 = MultiPolygon([forecast3,\n",
        "                              forecast4])\n",
        "\n",
        "all_forecasts_4 = MultiPolygon([forecast4,\n",
        "                              forecast5])\n",
        "\n",
        "all_forecasts_5 = MultiPolygon([forecast5,\n",
        "                              forecast6])\n",
        "\n",
        "entire_thing = MultiPolygon([all_forecasts_1.convex_hull, all_forecasts_2.convex_hull, \n",
        "                             all_forecasts_3.convex_hull, all_forecasts_4.convex_hull, \n",
        "                             all_forecasts_5.convex_hull])\n",
        "\n",
        "cascaded_union(entire_thing)"
      ],
      "execution_count": 0,
      "outputs": [
        {
          "output_type": "execute_result",
          "data": {
            "image/svg+xml": "<svg xmlns=\"http://www.w3.org/2000/svg\" xmlns:xlink=\"http://www.w3.org/1999/xlink\" width=\"100.0\" height=\"100.0\" viewBox=\"-4.456 -0.756 10.512 12.312\" preserveAspectRatio=\"xMinYMin meet\"><g transform=\"matrix(1,0,0,-1,0,10.799999999999999)\"><path fill-rule=\"evenodd\" fill=\"#66cc99\" stroke=\"#555555\" stroke-width=\"0.24624\" opacity=\"0.6\" d=\"M 4.84663372329776e-16,-0.3 L -0.029405142098867663,-0.2985554180016591 L -0.05852709660483794,-0.29423558412096923 L -0.08708540317633814,-0.2870821007196628 L -0.11480502970952634,-0.27716385975338625 L -0.14141902104779872,-0.2645763793045068 L -0.16667106990588015,-0.2494408836907639 L -0.19031798524909319,-0.23190313600882145 L -0.21213203435596387,-0.21213203435596464 L -1.2924555541239175,0.8844303801442486 L -2.582683432365088,1.4761204674887125 L -2.671396736825996,1.5180787356516439 L -2.7555702330196006,1.5685303876974537 L -2.834393284163644,1.6269895466372617 L -2.9071067811865463,1.6928932188134511 L -2.973010453362736,1.765606715836353 L -3.0314696123025446,1.8444297669803964 L -3.0819212643483542,1.9286032631740009 L -3.1238795325112862,2.017316567634909 L -3.885819298766929,4.025974851452363 L -3.9354105035983125,4.164572984118304 L -3.971177920604845,4.307364516975806 L -3.9927770900082953,4.452974289505657 L -4.0,4.599999999999998 L -3.9927770900082953,4.74702571049434 L -3.971177920604846,4.892635483024191 L -3.1577276168871076,8.52919870843548 L -3.10526873861086,8.738626289959816 L -3.0325349715248313,8.941903551203197 L -2.940226781566382,9.137072821017194 L -2.8292331470656,9.322254512643124 L -2.700622997398022,9.49566522516002 L -2.555634918610405,9.655634918610405 L -2.3956652251600214,9.80062299739802 L -2.2222545126431266,9.929233147065599 L -2.037072821017197,10.04022678156638 L -1.8419035512032007,10.13253497152483 L -1.638626289959821,10.205268738610858 L -1.429198708435487,10.257727616887106 L 2.4927651627580607,11.050041729048399 L 2.7451554351431358,11.087480289347711 L 2.9999999999999925,11.1 L 3.254844564856849,11.087480289347713 L 3.5072348372419246,11.0500417290484 L 3.7547401608615925,10.988044872903746 L 3.9949769241492232,10.90208678452935 L 4.225631515747583,10.792995287305729 L 4.444482605850955,10.661820991986625 L 4.649422538825468,10.509827178743125 L 4.838477631085013,10.338477631085034 L 5.009827178743107,10.14942253882549 L 5.161820991986609,9.944482605850979 L 5.292995287305715,9.725631515747608 L 5.402086784529338,9.49497692414925 L 5.488044872903737,9.25474016086162 L 5.550041729048395,9.007234837241953 L 5.58748028934771,8.754844564856878 L 5.6,8.500000000000021 L 5.6,8.5 L 5.587480289347712,8.245155435143143 L 5.5500417290484,7.992765162758067 L 5.488044872903743,7.745259839138399 L 5.402086784529346,7.505023075850768 L 5.2929952873057236,7.274368484252407 L 5.161820991986619,7.055517394149035 L 5.009827178743118,6.850577461174523 L 4.838477631085025,6.661522368914978 L 4.649422538825481,6.490172821256886 L 4.444482605850968,6.338179008013384 L 4.2256315157475965,6.207004712694278 L 3.994976924149236,6.097913215470656 L 3.7547401608616053,6.0119551270962575 L 3.507234837241937,5.949958270951601 L 3.2548445648568616,5.912519710652289 L 3.000000000000004,5.9 L 0.17490070955291842,5.8999999999999995 L -1.041229300758078,4.082780553962982 L -1.175548339380646,2.620582845191173 L -0.5590393678258241,1.5356983684130017 L 0.26457637930450556,0.14141902104780102 L 0.2771638597533852,0.11480502970952884 L 0.287082100719662,0.08708540317634078 L 0.2942355841209687,0.058527096604840706 L 0.29855541800165886,0.02940514209887054 L 0.3,2.4715605411391792e-15 L 0.3,0.0 L 0.2985554180016591,-0.029405142098868152 L 0.2942355841209692,-0.05852709660483842 L 0.28708210071966267,-0.08708540317633863 L 0.2771638597533861,-0.11480502970952682 L 0.26457637930450656,-0.14141902104779916 L 0.24944088369076367,-0.16667106990588051 L 0.23190313600882123,-0.19031798524909346 L 0.21213203435596442,-0.21213203435596406 L 0.19031798524909388,-0.2319031360088209 L 0.1666710699058809,-0.2494408836907634 L 0.14141902104779958,-0.26457637930450634 L 0.11480502970952725,-0.27716385975338587 L 0.08708540317633907,-0.28708210071966256 L 0.05852709660483889,-0.29423558412096906 L 0.029405142098868624,-0.298555418001659 L 4.84663372329776e-16,-0.3 z\" /></g></svg>",
            "text/plain": [
              "<shapely.geometry.polygon.Polygon at 0x7f330680ee10>"
            ]
          },
          "metadata": {
            "tags": []
          },
          "execution_count": 125
        }
      ]
    },
    {
      "cell_type": "code",
      "metadata": {
        "colab_type": "code",
        "id": "vfPyXHqFosfw",
        "outputId": "dd39a8cb-03d6-4826-e874-8ab3a1dc82ea",
        "colab": {
          "base_uri": "https://localhost:8080/",
          "height": 162
        }
      },
      "source": [
        "all_forecasts"
      ],
      "execution_count": 0,
      "outputs": [
        {
          "output_type": "execute_result",
          "data": {
            "image/svg+xml": "<svg xmlns=\"http://www.w3.org/2000/svg\" xmlns:xlink=\"http://www.w3.org/1999/xlink\" width=\"100.0\" height=\"100.0\" viewBox=\"-4.456 -0.756 10.512 12.312\" preserveAspectRatio=\"xMinYMin meet\"><g transform=\"matrix(1,0,0,-1,0,10.799999999999999)\"><g><path fill-rule=\"evenodd\" fill=\"#ff3333\" stroke=\"#555555\" stroke-width=\"0.24624\" opacity=\"0.6\" d=\"M 0.3,0.0 L 0.2985554180016591,-0.029405142098868152 L 0.2942355841209692,-0.05852709660483842 L 0.28708210071966267,-0.08708540317633863 L 0.2771638597533861,-0.11480502970952682 L 0.26457637930450656,-0.14141902104779916 L 0.24944088369076367,-0.16667106990588051 L 0.23190313600882123,-0.19031798524909346 L 0.21213203435596442,-0.21213203435596406 L 0.19031798524909388,-0.2319031360088209 L 0.1666710699058809,-0.2494408836907634 L 0.14141902104779958,-0.26457637930450634 L 0.11480502970952725,-0.27716385975338587 L 0.08708540317633907,-0.28708210071966256 L 0.05852709660483889,-0.29423558412096906 L 0.029405142098868624,-0.298555418001659 L 4.84663372329776e-16,-0.3 L -0.029405142098867663,-0.2985554180016591 L -0.05852709660483794,-0.29423558412096923 L -0.08708540317633814,-0.2870821007196628 L -0.11480502970952634,-0.27716385975338625 L -0.14141902104779872,-0.2645763793045068 L -0.16667106990588015,-0.2494408836907639 L -0.19031798524909319,-0.23190313600882145 L -0.21213203435596387,-0.21213203435596464 L -0.23190313600882076,-0.19031798524909405 L -0.24944088369076328,-0.16667106990588107 L -0.2645763793045063,-0.14141902104779971 L -0.27716385975338587,-0.11480502970952733 L -0.28708210071966256,-0.0870854031763391 L -0.29423558412096906,-0.05852709660483884 L -0.298555418001659,-0.029405142098868513 L -0.3,-3.0319292988445817e-16 L -0.2985554180016591,0.02940514209886791 L -0.2942355841209692,0.05852709660483825 L -0.2870821007196627,0.08708540317633852 L -0.2771638597533861,0.11480502970952676 L -0.26457637930450656,0.14141902104779916 L -0.24944088369076362,0.16667106990588057 L -0.23190313600882112,0.19031798524909357 L -0.2121320343559643,0.21213203435596423 L -0.19031798524909377,0.23190313600882098 L -0.16667106990588088,0.24944088369076342 L -0.1414190210477996,0.26457637930450634 L -0.11480502970952734,0.27716385975338587 L -0.08708540317633923,0.2870821007196625 L -0.058527096604839124,0.294235584120969 L -0.02940514209886893,0.29855541800165897 L -8.544696836917436e-16,0.3 L 0.029405142098867226,0.29855541800165913 L 0.05852709660483744,0.29423558412096934 L 0.0870854031763376,0.28708210071966295 L 0.11480502970952576,0.27716385975338653 L 0.14141902104779808,0.2645763793045071 L 0.16667106990587946,0.24944088369076436 L 0.19031798524909244,0.23190313600882206 L 0.21213203435596306,0.21213203435596542 L 0.23190313600881995,0.19031798524909502 L 0.24944088369076253,0.1666710699058822 L 0.26457637930450556,0.14141902104780102 L 0.2771638597533852,0.11480502970952884 L 0.287082100719662,0.08708540317634078 L 0.2942355841209687,0.058527096604840706 L 0.29855541800165886,0.02940514209887054 L 0.3,2.4715605411391792e-15 L 0.3,0.0 z\" /><path fill-rule=\"evenodd\" fill=\"#ff3333\" stroke=\"#555555\" stroke-width=\"0.24624\" opacity=\"0.6\" d=\"M -0.5,1.3 L -0.5024076366639015,1.2509914298352198 L -0.5096073597983848,1.202454838991936 L -0.5215298321338955,1.154857661372769 L -0.5380602337443565,1.1086582838174555 L -0.5590393678258223,1.0643016315870015 L -0.5842651938487272,1.0222148834901992 L -0.6134947733186313,0.9828033579181776 L -0.6464466094067259,0.9464466094067265 L -0.6828033579181769,0.9134947733186318 L -0.7222148834901985,0.8842651938487277 L -0.7643016315870007,0.8590393678258228 L -0.8086582838174545,0.8380602337443569 L -0.8548576613727682,0.8215298321338957 L -0.9024548389919351,0.8096073597983849 L -0.950991429835219,0.8024076366639017 L -0.9999999999999992,0.8 L -1.0490085701647796,0.8024076366639015 L -1.0975451610080633,0.8096073597983846 L -1.1451423386272301,0.8215298321338953 L -1.191341716182544,0.8380602337443563 L -1.2356983684129978,0.859039367825822 L -1.2777851165098002,0.8842651938487269 L -1.317196642081822,0.9134947733186309 L -1.353553390593273,0.9464466094067256 L -1.386505226681368,0.9828033579181766 L -1.4157348061512722,1.0222148834901983 L -1.440960632174177,1.0643016315870004 L -1.461939766255643,1.1086582838174546 L -1.4784701678661043,1.1548576613727681 L -1.4903926402016152,1.2024548389919354 L -1.4975923633360984,1.2509914298352192 L -1.5,1.2999999999999996 L -1.4975923633360986,1.3490085701647798 L -1.4903926402016152,1.3975451610080638 L -1.4784701678661045,1.4451423386272308 L -1.4619397662556435,1.4913417161825446 L -1.4409606321741777,1.5356983684129988 L -1.4157348061512727,1.577785116509801 L -1.3865052266813684,1.6171966420818227 L -1.353553390593274,1.6535533905932738 L -1.3171966420818229,1.6865052266813683 L -1.2777851165098015,1.7157348061512725 L -1.2356983684129994,1.7409606321741773 L -1.1913417161825457,1.761939766255643 L -1.1451423386272321,1.7784701678661041 L -1.0975451610080653,1.790392640201615 L -1.0490085701647816,1.7975923633360984 L -1.0000000000000013,1.8 L -0.9509914298352213,1.7975923633360986 L -0.9024548389919376,1.7903926402016155 L -0.8548576613727706,1.778470167866105 L -0.8086582838174571,1.7619397662556442 L -0.7643016315870031,1.7409606321741786 L -0.7222148834902009,1.715734806151274 L -0.6828033579181793,1.68650522668137 L -0.6464466094067283,1.6535533905932758 L -0.6134947733186333,1.6171966420818251 L -0.5842651938487291,1.5777851165098038 L -0.5590393678258241,1.5356983684130017 L -0.538060233744358,1.4913417161825482 L -0.5215298321338966,1.4451423386272346 L -0.5096073597983855,1.3975451610080678 L -0.5024076366639019,1.3490085701647843 L -0.5,1.3000000000000043 L -0.5,1.3 z\" /><path fill-rule=\"evenodd\" fill=\"#ff3333\" stroke=\"#555555\" stroke-width=\"0.24624\" opacity=\"0.6\" d=\"M -1.2000000000000002,2.4 L -1.2048152733278032,2.3019828596704395 L -1.2192147195967697,2.204909677983872 L -1.2430596642677911,2.109715322745538 L -1.2761204674887132,2.0173165676349107 L -1.3180787356516448,1.9286032631740027 L -1.3685303876974546,1.8444297669803982 L -1.4269895466372629,1.765606715836355 L -1.492893218813452,1.692893218813453 L -1.565606715836354,1.6269895466372635 L -1.6444297669803971,1.5685303876974552 L -1.7286032631740016,1.5180787356516454 L -1.8173165676349092,1.4761204674887136 L -1.9097153227455366,1.4430596642677913 L -2.0049096779838704,1.4192147195967697 L -2.101982859670438,1.4048152733278032 L -2.1999999999999984,1.4 L -2.2980171403295593,1.4048152733278028 L -2.395090322016127,1.419214719596769 L -2.4902846772544605,1.4430596642677904 L -2.582683432365088,1.4761204674887125 L -2.671396736825996,1.5180787356516439 L -2.7555702330196006,1.5685303876974537 L -2.834393284163644,1.6269895466372617 L -2.9071067811865463,1.6928932188134511 L -2.973010453362736,1.765606715836353 L -3.0314696123025446,1.8444297669803964 L -3.0819212643483542,1.9286032631740009 L -3.1238795325112862,2.017316567634909 L -3.156940335732209,2.109715322745536 L -3.1807852804032306,2.2049096779838706 L -3.195184726672197,2.301982859670438 L -3.2,2.399999999999999 L -3.1951847266721973,2.4980171403295595 L -3.1807852804032306,2.5950903220161274 L -3.1569403357322092,2.6902846772544615 L -3.123879532511287,2.782683432365089 L -3.0819212643483556,2.8713967368259974 L -3.0314696123025455,2.9555702330196016 L -2.973010453362737,3.034393284163645 L -2.907106781186548,3.1071067811865474 L -2.834393284163646,3.1730104533627363 L -2.7555702330196032,3.231469612302545 L -2.671396736825999,3.2819212643483544 L -2.5826834323650916,3.323879532511286 L -2.4902846772544645,3.356940335732208 L -2.395090322016131,3.38078528040323 L -2.2980171403295633,3.3951847266721966 L -2.200000000000003,3.4 L -2.101982859670443,3.395184726672197 L -2.0049096779838753,3.380785280403231 L -1.9097153227455415,3.35694033573221 L -1.8173165676349143,3.323879532511288 L -1.7286032631740065,3.281921264348357 L -1.644429766980402,3.231469612302548 L -1.5656067158363587,3.17301045336274 L -1.4928932188134567,3.1071067811865514 L -1.4269895466372668,3.03439328416365 L -1.3685303876974584,2.9555702330196074 L -1.3180787356516483,2.871396736826003 L -1.276120467488716,2.782683432365096 L -1.2430596642677934,2.690284677254469 L -1.219214719596771,2.5950903220161354 L -1.204815273327804,2.4980171403295683 L -1.2000000000000002,2.4000000000000083 L -1.2000000000000002,2.4 z\" /><path fill-rule=\"evenodd\" fill=\"#ff3333\" stroke=\"#555555\" stroke-width=\"0.24624\" opacity=\"0.6\" d=\"M -1.0,4.6 L -1.0072229099917047,4.452974289505659 L -1.0288220793951541,4.307364516975808 L -1.0645894964016867,4.164572984118307 L -1.1141807012330696,4.025974851452365 L -1.1771181034774671,3.8929048947610037 L -1.2527955815461818,3.766644650470597 L -1.3404843199558938,3.6484100737545324 L -1.4393398282201777,3.5393398282201796 L -1.5484100737545305,3.440484319955895 L -1.6666446504705954,3.3527955815461827 L -1.7929048947610022,3.277118103477468 L -1.9259748514523638,3.21418070123307 L -2.0645729841183047,3.164589496401687 L -2.2073645169758054,3.1288220793951544 L -2.352974289505657,3.1072229099917044 L -2.499999999999998,3.0999999999999996 L -2.647025710494338,3.1072229099917044 L -2.7926354830241897,3.1288220793951536 L -2.935427015881691,3.1645894964016854 L -3.0740251485476318,3.2141807012330683 L -3.2070951052389933,3.2771181034774655 L -3.333355349529401,3.35279558154618 L -3.451589926245466,3.4404843199558925 L -3.560660171779819,3.5393398282201765 L -3.6595156800441035,3.6484100737545293 L -3.7472044184538165,3.766644650470594 L -3.8228818965225315,3.892904894761001 L -3.885819298766929,4.025974851452363 L -3.9354105035983125,4.164572984118304 L -3.971177920604845,4.307364516975806 L -3.9927770900082953,4.452974289505657 L -4.0,4.599999999999998 L -3.9927770900082953,4.74702571049434 L -3.971177920604846,4.892635483024191 L -3.9354105035983133,5.035427015881692 L -3.8858192987669304,5.174025148547633 L -3.822881896522533,5.307095105238996 L -3.7472044184538182,5.4333553495294025 L -3.6595156800441058,5.551589926245468 L -3.5606601717798214,5.660660171779821 L -3.451589926245469,5.759515680044105 L -3.3333553495294046,5.847204418453817 L -3.2070951052389978,5.922881896522531 L -3.0740251485476366,5.985819298766929 L -2.935427015881696,6.035410503598312 L -2.7926354830241955,6.071177920604844 L -2.6470257104943444,6.092777090008294 L -2.5000000000000044,6.1 L -2.352974289505664,6.092777090008296 L -2.207364516975813,6.071177920604846 L -2.0645729841183122,6.035410503598315 L -1.9259748514523711,5.985819298766932 L -1.7929048947610096,5.922881896522536 L -1.6666446504706027,5.847204418453821 L -1.5484100737545377,5.75951568004411 L -1.4393398282201846,5.660660171779827 L -1.3404843199559002,5.551589926245475 L -1.2527955815461873,5.4333553495294105 L -1.177118103477472,5.3070951052390045 L -1.114180701233074,5.174025148547644 L -1.06458949640169,5.035427015881703 L -1.0288220793951566,4.892635483024203 L -1.0072229099917058,4.747025710494352 L -1.0,4.600000000000012 L -1.0,4.6 z\" /><path fill-rule=\"evenodd\" fill=\"#ff3333\" stroke=\"#555555\" stroke-width=\"0.24624\" opacity=\"0.6\" d=\"M 1.2000000000000002,8.1 L 1.1894063986788335,7.884362291274966 L 1.1577276168871076,7.670801291564517 L 1.1052687386108597,7.461373710040183 L 1.0325349715248313,7.2580964487968025 L 0.9402267815663818,7.062927178982806 L 0.8292331470656005,6.877745487356876 L 0.7006229973980225,6.704334774839981 L 0.5556349186104059,6.544365081389596 L 0.3956652251600219,6.399377002601979 L 0.2222545126431268,6.270766852934401 L 0.03707282101719689,6.159773218433619 L -0.15809644879680007,6.067465028475169 L -0.36137371004018004,5.994731261389141 L -0.5708012915645148,5.942272383112893 L -0.7843622912749634,5.910593601321167 L -0.9999999999999964,5.8999999999999995 L -1.2156377087250296,5.910593601321166 L -1.4291987084354782,5.942272383112892 L -1.6386262899598132,5.9947312613891395 L -1.8419035512031932,6.067465028475167 L -2.0370728210171904,6.1597732184336165 L -2.2222545126431212,6.270766852934398 L -2.395665225160017,6.399377002601975 L -2.555634918610402,6.544365081389592 L -2.7006229973980194,6.704334774839976 L -2.829233147065598,6.877745487356871 L -2.9402267815663796,7.062927178982802 L -3.03253497152483,7.258096448796799 L -3.105268738610859,7.46137371004018 L -3.1577276168871067,7.670801291564515 L -3.189406398678833,7.884362291274964 L -3.2,8.099999999999998 L -3.1894063986788335,8.315637708725031 L -3.1577276168871076,8.52919870843548 L -3.10526873861086,8.738626289959816 L -3.0325349715248313,8.941903551203197 L -2.940226781566382,9.137072821017194 L -2.8292331470656,9.322254512643124 L -2.700622997398022,9.49566522516002 L -2.555634918610405,9.655634918610405 L -2.3956652251600214,9.80062299739802 L -2.2222545126431266,9.929233147065599 L -2.037072821017197,10.04022678156638 L -1.8419035512032007,10.13253497152483 L -1.638626289959821,10.205268738610858 L -1.429198708435487,10.257727616887106 L -1.2156377087250387,10.289406398678832 L -1.0000000000000062,10.3 L -0.7843622912749737,10.289406398678834 L -0.5708012915645254,10.257727616887108 L -0.3613737100401909,10.205268738610862 L -0.15809644879681095,10.132534971524834 L 0.03707282101718601,10.040226781566385 L 0.22225451264311613,9.929233147065606 L 0.39566522516001146,9.800622997398028 L 0.5556349186103959,9.655634918610414 L 0.7006229973980131,9.49566522516003 L 0.829233147065592,9.322254512643136 L 0.9402267815663745,9.137072821017208 L 1.032534971524825,8.941903551203211 L 1.1052687386108548,8.738626289959832 L 1.157727616887104,8.529198708435498 L 1.1894063986788317,8.31563770872505 L 1.2000000000000002,8.100000000000017 L 1.2000000000000002,8.1 z\" /><path fill-rule=\"evenodd\" fill=\"#ff3333\" stroke=\"#555555\" stroke-width=\"0.24624\" opacity=\"0.6\" d=\"M 5.6,8.5 L 5.587480289347712,8.245155435143143 L 5.5500417290484,7.992765162758067 L 5.488044872903743,7.745259839138399 L 5.402086784529346,7.505023075850768 L 5.2929952873057236,7.274368484252407 L 5.161820991986619,7.055517394149035 L 5.009827178743118,6.850577461174523 L 4.838477631085025,6.661522368914978 L 4.649422538825481,6.490172821256886 L 4.444482605850968,6.338179008013384 L 4.2256315157475965,6.207004712694278 L 3.994976924149236,6.097913215470656 L 3.7547401608616053,6.0119551270962575 L 3.507234837241937,5.949958270951601 L 3.2548445648568616,5.912519710652289 L 3.000000000000004,5.9 L 2.745155435143147,5.912519710652288 L 2.4927651627580714,5.9499582709515995 L 2.2452598391384027,6.011955127096256 L 2.0050230758507714,6.097913215470653 L 1.7743684842524112,6.207004712694275 L 1.5555173941490386,6.3381790080133795 L 1.3505774611745258,6.4901728212568806 L 1.1615223689149796,6.661522368914973 L 0.9901728212568868,6.8505774611745185 L 0.8381790080133844,7.055517394149031 L 0.7070047126942787,7.274368484252403 L 0.5979132154706557,7.5050230758507634 L 0.5119551270962579,7.745259839138394 L 0.44995827095160124,7.992765162758063 L 0.4125197106522882,8.24515543514314 L 0.3999999999999999,8.499999999999998 L 0.41251971065228776,8.754844564856855 L 0.44995827095160035,9.007234837241931 L 0.5119551270962566,9.254740160861601 L 0.5979132154706539,9.494976924149231 L 0.707004712694276,9.725631515747594 L 0.8381790080133817,9.944482605850965 L 0.9901728212568837,10.149422538825478 L 1.161522368914976,10.338477631085023 L 1.3505774611745205,10.509827178743116 L 1.5555173941490323,10.661820991986616 L 1.7743684842524035,10.792995287305722 L 2.005023075850763,10.902086784529345 L 2.2452598391383933,10.988044872903743 L 2.4927651627580607,11.050041729048399 L 2.7451554351431358,11.087480289347711 L 2.9999999999999925,11.1 L 3.254844564856849,11.087480289347713 L 3.5072348372419246,11.0500417290484 L 3.7547401608615925,10.988044872903746 L 3.9949769241492232,10.90208678452935 L 4.225631515747583,10.792995287305729 L 4.444482605850955,10.661820991986625 L 4.649422538825468,10.509827178743125 L 4.838477631085013,10.338477631085034 L 5.009827178743107,10.14942253882549 L 5.161820991986609,9.944482605850979 L 5.292995287305715,9.725631515747608 L 5.402086784529338,9.49497692414925 L 5.488044872903737,9.25474016086162 L 5.550041729048395,9.007234837241953 L 5.58748028934771,8.754844564856878 L 5.6,8.500000000000021 L 5.6,8.5 z\" /></g></g></svg>",
            "text/plain": [
              "<shapely.geometry.multipolygon.MultiPolygon at 0x7f3308ae1160>"
            ]
          },
          "metadata": {
            "tags": []
          },
          "execution_count": 113
        }
      ]
    },
    {
      "cell_type": "markdown",
      "metadata": {
        "colab_type": "text",
        "id": "8xOoXITQraJA"
      },
      "source": [
        "## Creating common logos\n",
        "Many logos and designs are made of simple geometric shapes. For example, twitter's is entirely made from circles of different diameters.\n",
        "![alt text](https://shkspr.mobi/blog/wp-content/uploads/2017/05/TwitterCircles.jpg)\n",
        "\n",
        "Find an interesting logo that can be made with geometric shapes. Create it using shapely and plot it using matplotlib. As a bonus, try to match the colors as well!"
      ]
    },
    {
      "cell_type": "code",
      "metadata": {
        "colab_type": "code",
        "id": "ZVTECCzUsCgl",
        "outputId": "77ed72dd-b4a2-41a4-fb55-8e12c45570d7",
        "colab": {
          "base_uri": "https://localhost:8080/",
          "height": 242
        }
      },
      "source": [
        "rect = Polygon([(0,0),(2,0),(2,2),(0,2)])\n",
        "rect.buffer(1)"
      ],
      "execution_count": 0,
      "outputs": [
        {
          "output_type": "error",
          "ename": "AttributeError",
          "evalue": "ignored",
          "traceback": [
            "\u001b[0;31m---------------------------------------------------------------------------\u001b[0m",
            "\u001b[0;31mAttributeError\u001b[0m                            Traceback (most recent call last)",
            "\u001b[0;32m<ipython-input-8-cb74827f61e4>\u001b[0m in \u001b[0;36m<module>\u001b[0;34m()\u001b[0m\n\u001b[1;32m      1\u001b[0m \u001b[0mrect\u001b[0m \u001b[0;34m=\u001b[0m \u001b[0mPolygon\u001b[0m\u001b[0;34m(\u001b[0m\u001b[0;34m[\u001b[0m\u001b[0;34m(\u001b[0m\u001b[0;36m0\u001b[0m\u001b[0;34m,\u001b[0m\u001b[0;36m0\u001b[0m\u001b[0;34m)\u001b[0m\u001b[0;34m,\u001b[0m\u001b[0;34m(\u001b[0m\u001b[0;36m2\u001b[0m\u001b[0;34m,\u001b[0m\u001b[0;36m0\u001b[0m\u001b[0;34m)\u001b[0m\u001b[0;34m,\u001b[0m\u001b[0;34m(\u001b[0m\u001b[0;36m2\u001b[0m\u001b[0;34m,\u001b[0m\u001b[0;36m2\u001b[0m\u001b[0;34m)\u001b[0m\u001b[0;34m,\u001b[0m\u001b[0;34m(\u001b[0m\u001b[0;36m0\u001b[0m\u001b[0;34m,\u001b[0m\u001b[0;36m2\u001b[0m\u001b[0;34m)\u001b[0m\u001b[0;34m]\u001b[0m\u001b[0;34m)\u001b[0m\u001b[0;34m\u001b[0m\u001b[0;34m\u001b[0m\u001b[0m\n\u001b[1;32m      2\u001b[0m \u001b[0mrect\u001b[0m\u001b[0;34m.\u001b[0m\u001b[0mbuffer\u001b[0m\u001b[0;34m(\u001b[0m\u001b[0;36m1\u001b[0m\u001b[0;34m)\u001b[0m\u001b[0;34m\u001b[0m\u001b[0;34m\u001b[0m\u001b[0m\n\u001b[0;32m----> 3\u001b[0;31m \u001b[0mrect\u001b[0m\u001b[0;34m.\u001b[0m\u001b[0mcolor\u001b[0m\u001b[0;34m(\u001b[0m\u001b[0mwhite\u001b[0m\u001b[0;34m)\u001b[0m\u001b[0;34m\u001b[0m\u001b[0;34m\u001b[0m\u001b[0m\n\u001b[0m",
            "\u001b[0;31mAttributeError\u001b[0m: 'Polygon' object has no attribute 'color'"
          ]
        }
      ]
    },
    {
      "cell_type": "code",
      "metadata": {
        "colab_type": "code",
        "id": "-zSO3l0_zglB",
        "colab": {}
      },
      "source": [
        ""
      ],
      "execution_count": 0,
      "outputs": []
    }
  ]
}